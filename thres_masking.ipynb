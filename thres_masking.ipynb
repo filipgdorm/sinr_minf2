{
 "cells": [
  {
   "cell_type": "code",
   "execution_count": 1,
   "metadata": {},
   "outputs": [
    {
     "name": "stderr",
     "output_type": "stream",
     "text": [
      "/var/folders/pp/c6m9_85s5rd16hbzmflk4b9r0000gn/T/ipykernel_85030/1400829063.py:2: DeprecationWarning: \n",
      "Pyarrow will become a required dependency of pandas in the next major release of pandas (pandas 3.0),\n",
      "(to allow more performant data types, such as the Arrow string type, and better interoperability with other libraries)\n",
      "but was not found to be installed on your system.\n",
      "If this would cause problems for you,\n",
      "please provide us feedback at https://github.com/pandas-dev/pandas/issues/54466\n",
      "        \n",
      "  import pandas as pd\n",
      "/Users/filipdorm/opt/anaconda3/envs/sinr_icml/lib/python3.9/site-packages/tqdm/auto.py:21: TqdmWarning: IProgress not found. Please update jupyter and ipywidgets. See https://ipywidgets.readthedocs.io/en/stable/user_install.html\n",
      "  from .autonotebook import tqdm as notebook_tqdm\n"
     ]
    }
   ],
   "source": [
    "#import torch\n",
    "import pandas as pd\n",
    "import numpy as np\n",
    "import json\n",
    "import os\n",
    "import sys\n",
    "from sklearn.metrics import f1_score\n",
    "import h3pandas\n",
    "import torch\n",
    "import h3\n",
    "from sklearn.metrics import precision_recall_curve\n",
    "from shapely.geometry import Polygon\n",
    "import geopandas as gpd\n",
    "import matplotlib.pyplot as plt\n",
    "\n",
    "#sys.path.append('../')\n",
    "import datasets\n",
    "import models\n",
    "import utils\n",
    "import setup"
   ]
  },
  {
   "cell_type": "markdown",
   "metadata": {},
   "source": [
    "get training data"
   ]
  },
  {
   "cell_type": "code",
   "execution_count": 2,
   "metadata": {},
   "outputs": [],
   "source": [
    "train_params = {}\n",
    "\n",
    "train_params['experiment_name'] = 'demo' # This will be the name of the directory where results for this run are saved.\n",
    "train_params['species_set'] = 'all'\n",
    "train_params['hard_cap_num_per_class'] = 1000\n",
    "train_params['num_aux_species'] = 0\n",
    "train_params['input_enc'] = 'sin_cos'\n",
    "train_params['loss'] = 'an_full'"
   ]
  },
  {
   "cell_type": "code",
   "execution_count": 3,
   "metadata": {},
   "outputs": [],
   "source": [
    "params = setup.get_default_params_train(train_params)"
   ]
  },
  {
   "cell_type": "code",
   "execution_count": 4,
   "metadata": {},
   "outputs": [
    {
     "name": "stdout",
     "output_type": "stream",
     "text": [
      "\n",
      "Loading  data/train/geo_prior_train.csv\n",
      "Number of unique classes 47375\n",
      "subsampling (up to) 1000 per class for the training set\n",
      "final training set size: 15132683\n"
     ]
    }
   ],
   "source": [
    "train_dataset = datasets.get_train_data(params)"
   ]
  },
  {
   "cell_type": "code",
   "execution_count": 5,
   "metadata": {},
   "outputs": [],
   "source": [
    "train_df = pd.DataFrame(train_dataset.locs, columns=['lng','lat'])\n",
    "train_df['lng'] = train_df['lng']*180\n",
    "train_df['lat'] = train_df['lat']*90\n",
    "train_df['label'] = train_dataset.labels"
   ]
  },
  {
   "cell_type": "code",
   "execution_count": 6,
   "metadata": {},
   "outputs": [],
   "source": [
    "train_df = train_df#[:100000]"
   ]
  },
  {
   "cell_type": "code",
   "execution_count": 7,
   "metadata": {},
   "outputs": [],
   "source": [
    "h3_resolution = 4\n",
    "train_df_h3 = train_df.h3.geo_to_h3(h3_resolution)\n",
    "all_spatial_grid_counts = train_df_h3.index.value_counts()\n",
    "presence_absence = pd.DataFrame({\n",
    "    \"background\": all_spatial_grid_counts,\n",
    "})\n",
    "presence_absence = presence_absence.fillna(0)"
   ]
  },
  {
   "cell_type": "code",
   "execution_count": 8,
   "metadata": {},
   "outputs": [],
   "source": [
    "resolution = h3_resolution\n",
    "area = h3.hex_area(resolution)"
   ]
  },
  {
   "cell_type": "code",
   "execution_count": 9,
   "metadata": {},
   "outputs": [
    {
     "data": {
      "text/plain": [
       "ResidualFCNet(\n",
       "  (class_emb): Linear(in_features=256, out_features=47375, bias=False)\n",
       "  (feats): Sequential(\n",
       "    (0): Linear(in_features=4, out_features=256, bias=True)\n",
       "    (1): ReLU(inplace=True)\n",
       "    (2): ResLayer(\n",
       "      (nonlin1): ReLU(inplace=True)\n",
       "      (nonlin2): ReLU(inplace=True)\n",
       "      (dropout1): Dropout(p=0.5, inplace=False)\n",
       "      (w1): Linear(in_features=256, out_features=256, bias=True)\n",
       "      (w2): Linear(in_features=256, out_features=256, bias=True)\n",
       "    )\n",
       "    (3): ResLayer(\n",
       "      (nonlin1): ReLU(inplace=True)\n",
       "      (nonlin2): ReLU(inplace=True)\n",
       "      (dropout1): Dropout(p=0.5, inplace=False)\n",
       "      (w1): Linear(in_features=256, out_features=256, bias=True)\n",
       "      (w2): Linear(in_features=256, out_features=256, bias=True)\n",
       "    )\n",
       "    (4): ResLayer(\n",
       "      (nonlin1): ReLU(inplace=True)\n",
       "      (nonlin2): ReLU(inplace=True)\n",
       "      (dropout1): Dropout(p=0.5, inplace=False)\n",
       "      (w1): Linear(in_features=256, out_features=256, bias=True)\n",
       "      (w2): Linear(in_features=256, out_features=256, bias=True)\n",
       "    )\n",
       "    (5): ResLayer(\n",
       "      (nonlin1): ReLU(inplace=True)\n",
       "      (nonlin2): ReLU(inplace=True)\n",
       "      (dropout1): Dropout(p=0.5, inplace=False)\n",
       "      (w1): Linear(in_features=256, out_features=256, bias=True)\n",
       "      (w2): Linear(in_features=256, out_features=256, bias=True)\n",
       "    )\n",
       "  )\n",
       ")"
      ]
     },
     "execution_count": 9,
     "metadata": {},
     "output_type": "execute_result"
    }
   ],
   "source": [
    "# load model\n",
    "DEVICE = torch.device('cuda' if torch.cuda.is_available() else 'cpu')\n",
    "train_params = torch.load('./pretrained_models/model_an_full_input_enc_sin_cos_hard_cap_num_per_class_1000.pt', map_location='cpu')\n",
    "model = models.get_model(train_params['params'])\n",
    "model.load_state_dict(train_params['state_dict'], strict=True)\n",
    "model = model.to(DEVICE)\n",
    "model.eval()"
   ]
  },
  {
   "cell_type": "code",
   "execution_count": 10,
   "metadata": {},
   "outputs": [],
   "source": [
    "if train_params['params']['input_enc'] in ['env', 'sin_cos_env']:\n",
    "    raster = datasets.load_env()\n",
    "else:\n",
    "    raster = None\n",
    "enc = utils.CoordEncoder(train_params['params']['input_enc'], raster=raster)"
   ]
  },
  {
   "cell_type": "code",
   "execution_count": 11,
   "metadata": {},
   "outputs": [],
   "source": [
    "#load reference from iucn\n",
    "with open(os.path.join('./data/eval/iucn/', 'iucn_res_5.json'), 'r') as f:\n",
    "            data = json.load(f)\n",
    "species_ids = list((data['taxa_presence'].keys()))"
   ]
  },
  {
   "cell_type": "code",
   "execution_count": 12,
   "metadata": {},
   "outputs": [],
   "source": [
    "def generate_h3_cells_atRes(resolution=4):\n",
    "    h3_cells = list(h3.get_res0_indexes())\n",
    "    h3_atRes_cells = set()\n",
    "    for cell in h3_cells:\n",
    "        h3_atRes_cells = h3_atRes_cells.union(h3.h3_to_children(cell, resolution))\n",
    "    return list(h3_atRes_cells)"
   ]
  },
  {
   "cell_type": "code",
   "execution_count": 13,
   "metadata": {},
   "outputs": [],
   "source": [
    "#generate gdfk table\n",
    "h3_atRes_cells = generate_h3_cells_atRes(h3_resolution)\n",
    "gdfk = pd.DataFrame(index=h3_atRes_cells).h3.h3_to_geo()\n",
    "gdfk[\"lng\"] = gdfk[\"geometry\"].x\n",
    "gdfk[\"lat\"] = gdfk[\"geometry\"].y\n",
    "_ = gdfk.pop(\"geometry\")\n",
    "gdfk = gdfk.rename_axis('h3index')\n"
   ]
  },
  {
   "cell_type": "code",
   "execution_count": 14,
   "metadata": {},
   "outputs": [],
   "source": [
    "obs_locs = np.array(gdfk[['lng', 'lat']].values, dtype=np.float32)\n",
    "obs_locs = torch.from_numpy(obs_locs).to('cpu')\n",
    "loc_feat = enc.encode(obs_locs)"
   ]
  },
  {
   "cell_type": "code",
   "execution_count": 15,
   "metadata": {},
   "outputs": [],
   "source": [
    "classes_of_interest = torch.zeros(len(species_ids), dtype=torch.int64)\n",
    "taxa_ids = torch.zeros(len(species_ids), dtype=torch.int64)\n",
    "for tt_id, tt in enumerate(species_ids):\n",
    "    class_of_interest = np.array([train_params['params']['class_to_taxa'].index(int(tt))])\n",
    "    classes_of_interest[tt_id] = torch.from_numpy(class_of_interest)\n",
    "    "
   ]
  },
  {
   "cell_type": "code",
   "execution_count": 16,
   "metadata": {},
   "outputs": [],
   "source": [
    "with torch.no_grad():\n",
    "    loc_emb = model(loc_feat, return_feats=True)\n",
    "    wt = model.class_emb.weight[classes_of_interest, :]"
   ]
  },
  {
   "cell_type": "code",
   "execution_count": 17,
   "metadata": {},
   "outputs": [
    {
     "name": "stdout",
     "output_type": "stream",
     "text": [
      "0\n",
      "100\n",
      "200\n",
      "300\n",
      "400\n",
      "500\n",
      "600\n",
      "700\n",
      "800\n",
      "900\n",
      "1000\n",
      "1100\n",
      "1200\n",
      "1300\n",
      "1400\n",
      "1500\n",
      "1600\n",
      "1700\n",
      "1800\n",
      "1900\n",
      "2000\n",
      "2100\n",
      "2200\n",
      "2300\n",
      "2400\n"
     ]
    }
   ],
   "source": [
    "output = []\n",
    "for class_index, class_id in enumerate(classes_of_interest):\n",
    "    wt_1 = wt[class_index,:]\n",
    "    preds = torch.sigmoid(torch.matmul(loc_emb, wt_1)).cpu().numpy()\n",
    "    gdfk[\"pred\"] = preds\n",
    "\n",
    "    target_spatial_grid_counts = train_df_h3[train_df_h3.label==class_id.item()].index.value_counts()\n",
    "         \n",
    "    presence_absence[\"forground\"] = target_spatial_grid_counts\n",
    "    presence_absence[\"predictions\"] = gdfk[\"pred\"]\n",
    "    presence_absence.forground = presence_absence.forground.fillna(0)\n",
    "\n",
    "    presences = presence_absence[(presence_absence[\"forground\"]>0)][\"predictions\"]\n",
    "\n",
    "    #thres = presences.min()\n",
    "    thres = np.percentile(presences, 10)\n",
    "    \n",
    "    row = {\n",
    "        \"taxon_id\": train_dataset.class_to_taxa[class_id.item()],\n",
    "        \"thres\": thres,\n",
    "    }\n",
    "    row_dict = dict(row)\n",
    "    output.append(row_dict)\n",
    "\n",
    "    if(class_index%100==0):\n",
    "            print(class_index)\n",
    "    #if class_index == 2: break\n",
    "\n",
    "output_pd = pd.DataFrame(output)\n",
    "    "
   ]
  },
  {
   "cell_type": "code",
   "execution_count": 18,
   "metadata": {},
   "outputs": [
    {
     "name": "stderr",
     "output_type": "stream",
     "text": [
      "/var/folders/pp/c6m9_85s5rd16hbzmflk4b9r0000gn/T/ipykernel_85030/862584146.py:13: FutureWarning: The geopandas.dataset module is deprecated and will be removed in GeoPandas 1.0. You can get the original 'naturalearth_lowres' data from https://www.naturalearthdata.com/downloads/110m-cultural-vectors/.\n",
      "  gpd.datasets.get_path(\"naturalearth_lowres\"))\n"
     ]
    },
    {
     "data": {
      "image/png": "[encoded data removed]",
      "text/plain": [
       "<Figure size 600x300 with 2 Axes>"
      ]
     },
     "metadata": {},
     "output_type": "display_data"
    }
   ],
   "source": [
    "def add_geometry(h3_cell):\n",
    "  points = h3.h3_to_geo_boundary(h3_cell, True)\n",
    "  return Polygon(points)\n",
    "\n",
    "df = pd.DataFrame(presences).reset_index()\n",
    "df['geometry'] = df.h3_04.apply(lambda a : add_geometry(a))\n",
    "gdf = gpd.GeoDataFrame(df, crs=\"EPSG:4326\", geometry=df['geometry'])\n",
    "minx, miny, maxx, maxy = gdf.total_bounds\n",
    "\n",
    "fig, ax = plt.subplots(figsize=(6,3))\n",
    "# plot map on axis\n",
    "countries = gpd.read_file(  \n",
    "     gpd.datasets.get_path(\"naturalearth_lowres\"))\n",
    "\n",
    "countries.plot(color=\"lightgray\", ax=ax)\n",
    "\n",
    "gdf.plot(column='predictions', cmap='viridis', ax=ax, legend=True)\n",
    "\n",
    "ax.set_xlim([minx, maxx])\n",
    "ax.set_ylim([miny, maxy])\n",
    "\n",
    "plt.title(f\"Presence points for {train_dataset.class_to_taxa[class_id.item()]}\")\n",
    "\n",
    "plt.ylabel(\"Latitude\")\n",
    "plt.xlabel(\"Longitude\")\n",
    "plt.show()"
   ]
  },
  {
   "cell_type": "code",
   "execution_count": 19,
   "metadata": {},
   "outputs": [],
   "source": [
    "output_pd.to_csv(\"./results/thresholds/thres_masking_90.csv\")"
   ]
  },
  {
   "cell_type": "code",
   "execution_count": 20,
   "metadata": {},
   "outputs": [
    {
     "data": {
      "text/plain": [
       "0.3657241164122645"
      ]
     },
     "execution_count": 20,
     "metadata": {},
     "output_type": "execute_result"
    }
   ],
   "source": [
    "output_pd.thres.mean()"
   ]
  },
  {
   "cell_type": "code",
   "execution_count": null,
   "metadata": {},
   "outputs": [],
   "source": []
  }
 ],
 "metadata": {
  "kernelspec": {
   "display_name": "sinr_icml_og",
   "language": "python",
   "name": "python3"
  },
  "language_info": {
   "codemirror_mode": {
    "name": "ipython",
    "version": 3
   },
   "file_extension": ".py",
   "mimetype": "text/x-python",
   "name": "python",
   "nbconvert_exporter": "python",
   "pygments_lexer": "ipython3",
   "version": "3.9.0"
  }
 },
 "nbformat": 4,
 "nbformat_minor": 2
}
