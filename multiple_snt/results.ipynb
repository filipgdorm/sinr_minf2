{
 "cells": [
  {
   "cell_type": "code",
   "execution_count": 1,
   "metadata": {},
   "outputs": [],
   "source": [
    "import pandas as pd"
   ]
  },
  {
   "cell_type": "code",
   "execution_count": 2,
   "metadata": {},
   "outputs": [
    {
     "name": "stdout",
     "output_type": "stream",
     "text": [
      "0.6740090810696951\n",
      "0.7046923150167922\n",
      "0.5992524508709495\n",
      "0.6908055968893722\n"
     ]
    }
   ],
   "source": [
    "print(pd.read_csv(\"rdm_sampling/an_full_1000/mean_f1_scores.csv\").mean_f1.mean())\n",
    "print(pd.read_csv(\"tgt_sampling/an_full_1000/mean_f1_scores.csv\").mean_f1.mean())\n",
    "print(pd.read_csv(\"lpt/an_full_1000/mean_f1_scores.csv\").mean_f1.mean())\n",
    "print(pd.read_csv(\"masking/an_full_1000/mean_f1_scores.csv\").mean_f1.mean())"
   ]
  },
  {
   "cell_type": "code",
   "execution_count": 3,
   "metadata": {},
   "outputs": [
    {
     "name": "stdout",
     "output_type": "stream",
     "text": [
      "0.5776470711369599\n",
      "0.6409898746194653\n",
      "0.5823098014534929\n",
      "0.6126702616460887\n"
     ]
    }
   ],
   "source": [
    "print(pd.read_csv(\"rdm_sampling/an_ssdl_1000/mean_f1_scores.csv\").mean_f1.mean())\n",
    "print(pd.read_csv(\"tgt_sampling/an_ssdl_1000/mean_f1_scores.csv\").mean_f1.mean())\n",
    "print(pd.read_csv(\"lpt/an_ssdl_1000/mean_f1_scores.csv\").mean_f1.mean())\n",
    "print(pd.read_csv(\"masking/an_ssdl_1000/mean_f1_scores.csv\").mean_f1.mean())"
   ]
  },
  {
   "cell_type": "code",
   "execution_count": 4,
   "metadata": {},
   "outputs": [
    {
     "name": "stdout",
     "output_type": "stream",
     "text": [
      "0.7107444789519735\n",
      "0.7102534497769304\n",
      "0.5951362899683079\n",
      "0.7108387710613303\n"
     ]
    }
   ],
   "source": [
    "print(pd.read_csv(\"rdm_sampling/an_slds_1000/mean_f1_scores.csv\").mean_f1.mean())\n",
    "print(pd.read_csv(\"tgt_sampling/an_slds_1000/mean_f1_scores.csv\").mean_f1.mean())\n",
    "print(pd.read_csv(\"lpt/an_slds_1000/mean_f1_scores.csv\").mean_f1.mean())\n",
    "print(pd.read_csv(\"masking/an_slds_1000/mean_f1_scores.csv\").mean_f1.mean())"
   ]
  },
  {
   "cell_type": "code",
   "execution_count": 5,
   "metadata": {},
   "outputs": [
    {
     "name": "stdout",
     "output_type": "stream",
     "text": [
      "-0.08641670908495358\n",
      "-0.055733475137856536\n",
      "-0.06962019326527658\n",
      "0.7604257901546487\n"
     ]
    }
   ],
   "source": [
    "print(pd.read_csv(\"rdm_sampling/an_full_1000/mean_f1_scores.csv\").mean_f1.mean()-pd.read_csv(\"upper_bound/an_full_1000/mean_f1_scores.csv\").mean_f1.mean())\n",
    "print(pd.read_csv(\"tgt_sampling/an_full_1000/mean_f1_scores.csv\").mean_f1.mean()-pd.read_csv(\"upper_bound/an_full_1000/mean_f1_scores.csv\").mean_f1.mean())\n",
    "print(pd.read_csv(\"masking/an_full_1000/mean_f1_scores.csv\").mean_f1.mean()-pd.read_csv(\"upper_bound/an_full_1000/mean_f1_scores.csv\").mean_f1.mean())\n",
    "print(pd.read_csv(\"upper_bound/an_full_1000/mean_f1_scores.csv\").mean_f1.mean())"
   ]
  },
  {
   "cell_type": "code",
   "execution_count": 6,
   "metadata": {},
   "outputs": [
    {
     "name": "stdout",
     "output_type": "stream",
     "text": [
      "-0.1190653162874491\n",
      "-0.05572251280494367\n",
      "-0.08404212577832026\n",
      "0.696712387424409\n"
     ]
    }
   ],
   "source": [
    "print(pd.read_csv(\"rdm_sampling/an_ssdl_1000/mean_f1_scores.csv\").mean_f1.mean()-pd.read_csv(\"upper_bound/an_ssdl_1000/mean_f1_scores.csv\").mean_f1.mean())\n",
    "print(pd.read_csv(\"tgt_sampling/an_ssdl_1000/mean_f1_scores.csv\").mean_f1.mean()-pd.read_csv(\"upper_bound/an_ssdl_1000/mean_f1_scores.csv\").mean_f1.mean())\n",
    "print(pd.read_csv(\"masking/an_ssdl_1000/mean_f1_scores.csv\").mean_f1.mean()-pd.read_csv(\"upper_bound/an_ssdl_1000/mean_f1_scores.csv\").mean_f1.mean())\n",
    "print(pd.read_csv(\"upper_bound/an_ssdl_1000/mean_f1_scores.csv\").mean_f1.mean())"
   ]
  },
  {
   "cell_type": "code",
   "execution_count": 7,
   "metadata": {},
   "outputs": [
    {
     "name": "stdout",
     "output_type": "stream",
     "text": [
      "-0.051196169798071955\n",
      "-0.05168719897311502\n",
      "-0.0511018776887151\n",
      "0.7619406487500454\n"
     ]
    }
   ],
   "source": [
    "print(pd.read_csv(\"rdm_sampling/an_slds_1000/mean_f1_scores.csv\").mean_f1.mean()-pd.read_csv(\"upper_bound/an_slds_1000/mean_f1_scores.csv\").mean_f1.mean())\n",
    "print(pd.read_csv(\"tgt_sampling/an_slds_1000/mean_f1_scores.csv\").mean_f1.mean()-pd.read_csv(\"upper_bound/an_slds_1000/mean_f1_scores.csv\").mean_f1.mean())\n",
    "print(pd.read_csv(\"masking/an_slds_1000/mean_f1_scores.csv\").mean_f1.mean()-pd.read_csv(\"upper_bound/an_slds_1000/mean_f1_scores.csv\").mean_f1.mean())\n",
    "\n",
    "print(pd.read_csv(\"upper_bound/an_slds_1000/mean_f1_scores.csv\").mean_f1.mean())"
   ]
  }
 ],
 "metadata": {
  "kernelspec": {
   "display_name": "sinr_icml_og",
   "language": "python",
   "name": "python3"
  },
  "language_info": {
   "codemirror_mode": {
    "name": "ipython",
    "version": 3
   },
   "file_extension": ".py",
   "mimetype": "text/x-python",
   "name": "python",
   "nbconvert_exporter": "python",
   "pygments_lexer": "ipython3",
   "version": "3.9.0"
  }
 },
 "nbformat": 4,
 "nbformat_minor": 2
}
