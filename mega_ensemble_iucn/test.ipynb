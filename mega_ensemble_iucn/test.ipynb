{
 "cells": [
  {
   "cell_type": "code",
   "execution_count": 1,
   "metadata": {},
   "outputs": [
    {
     "name": "stderr",
     "output_type": "stream",
     "text": [
      "/Users/filipdorm/opt/anaconda3/envs/sinr_icml_og/lib/python3.9/site-packages/tqdm/auto.py:21: TqdmWarning: IProgress not found. Please update jupyter and ipywidgets. See https://ipywidgets.readthedocs.io/en/stable/user_install.html\n",
      "  from .autonotebook import tqdm as notebook_tqdm\n"
     ]
    }
   ],
   "source": [
    "import pandas as pd\n",
    "import numpy as np\n",
    "import json\n",
    "import os\n",
    "import sys\n",
    "from sklearn.metrics import f1_score\n",
    "import h3pandas\n",
    "import torch\n",
    "import h3\n",
    "from sklearn.metrics import precision_recall_curve\n",
    "import argparse\n",
    "from tqdm import tqdm\n",
    "import csv\n",
    "\n",
    "sys.path.append('../')\n",
    "import datasets\n",
    "import models\n",
    "import utils\n",
    "import setup"
   ]
  },
  {
   "cell_type": "code",
   "execution_count": 2,
   "metadata": {},
   "outputs": [],
   "source": [
    "#load relevant data\n",
    "train_df_h3 = pd.read_csv(\"../pseudo_absence_generation_data/train_df_h3.csv\", index_col=0)\n",
    "gdfk = pd.read_csv(\"../pseudo_absence_generation_data/gdfk_res3.csv\", index_col=0)\n",
    "all_spatial_grid_counts = train_df_h3.index.value_counts()\n",
    "presence_absence = pd.DataFrame({\n",
    "    \"background\": all_spatial_grid_counts,\n",
    "})\n",
    "presence_absence = presence_absence.fillna(0)"
   ]
  },
  {
   "cell_type": "code",
   "execution_count": 4,
   "metadata": {},
   "outputs": [],
   "source": [
    "# Directory containing model files\n",
    "MODEL_DIR = '../five_models/'\n",
    "\n",
    "# Function to collect all model paths in the nested directory\n",
    "def collect_model_paths(model_dir):\n",
    "    model_paths = []\n",
    "    for root, _, files in os.walk(model_dir):\n",
    "        for file in files:\n",
    "            if file.endswith('.pt'):\n",
    "                model_paths.append(os.path.join(root, file))\n",
    "    return model_paths"
   ]
  },
  {
   "cell_type": "code",
   "execution_count": 5,
   "metadata": {},
   "outputs": [],
   "source": [
    "MODEL_PATHS = collect_model_paths(MODEL_DIR)"
   ]
  },
  {
   "cell_type": "code",
   "execution_count": 9,
   "metadata": {},
   "outputs": [],
   "source": [
    "DEVICE = torch.device('cuda' if torch.cuda.is_available() else 'cpu')\n",
    "models_list = []\n",
    "for model_path in MODEL_PATHS:\n",
    "    train_params = torch.load(model_path, map_location='cpu')\n",
    "    model = models.get_model(train_params['params'])\n",
    "    model.load_state_dict(train_params['state_dict'], strict=True)\n",
    "    model = model.to(DEVICE)\n",
    "    model.eval()\n",
    "    models_list.append(model)\n"
   ]
  },
  {
   "cell_type": "code",
   "execution_count": 11,
   "metadata": {},
   "outputs": [],
   "source": [
    "if train_params['params']['input_enc'] in ['env', 'sin_cos_env']:\n",
    "    raster = datasets.load_env()\n",
    "else:\n",
    "    raster = None\n",
    "enc = utils.CoordEncoder(train_params['params']['input_enc'], raster=raster)\n",
    "\n",
    "obs_locs = np.array(gdfk[['lng', 'lat']].values, dtype=np.float32)\n",
    "obs_locs = torch.from_numpy(obs_locs).to('cpu')\n",
    "loc_feat = enc.encode(obs_locs)"
   ]
  },
  {
   "cell_type": "code",
   "execution_count": 12,
   "metadata": {},
   "outputs": [],
   "source": [
    "with torch.no_grad():\n",
    "    loc_emb = model(loc_feat, return_feats=True)\n",
    "    wt = model.class_emb.weight.detach().clone()\n",
    "    wt.requires_grad = False"
   ]
  },
  {
   "cell_type": "code",
   "execution_count": 23,
   "metadata": {},
   "outputs": [],
   "source": [
    "# Load models and store loc_emb and wt\n",
    "loc_emb_list = []\n",
    "wt_list = []\n",
    "\n",
    "for model_path in MODEL_PATHS:\n",
    "    train_params = torch.load(model_path, map_location='cpu')\n",
    "    model = models.get_model(train_params['params'])\n",
    "    model.load_state_dict(train_params['state_dict'], strict=True)\n",
    "    model = model.to(DEVICE)\n",
    "    model.eval()\n",
    "    with torch.no_grad():\n",
    "        loc_emb = model(loc_feat, return_feats=True)\n",
    "        wt = model.class_emb.weight.detach().clone()\n",
    "        wt.requires_grad = False\n",
    "        loc_emb_list.append(loc_emb)\n",
    "        wt_list.append(wt)"
   ]
  },
  {
   "cell_type": "code",
   "execution_count": 24,
   "metadata": {},
   "outputs": [],
   "source": [
    "class_index = 0\n",
    "predictions = []\n",
    "\n",
    "for loc_emb, wt in zip(loc_emb_list, wt_list):\n",
    "    with torch.no_grad():\n",
    "        wt_1 = wt[class_index, :]\n",
    "        preds = torch.sigmoid(torch.matmul(loc_emb, wt_1)).cpu().numpy()\n",
    "        predictions.append(preds)\n",
    "\n",
    "stacked_tensors = np.stack(predictions)\n",
    "preds = np.mean(stacked_tensors, axis=0)"
   ]
  },
  {
   "cell_type": "code",
   "execution_count": 29,
   "metadata": {},
   "outputs": [
    {
     "data": {
      "text/plain": [
       "(15, 288122)"
      ]
     },
     "execution_count": 29,
     "metadata": {},
     "output_type": "execute_result"
    }
   ],
   "source": [
    "stacked_tensors.shape"
   ]
  },
  {
   "cell_type": "code",
   "execution_count": null,
   "metadata": {},
   "outputs": [],
   "source": [
    "with open(args.result_dir+f\"/thresholds.csv\", mode='w', newline='') as file:\n",
    "    fieldnames = [\"thres\"]\n",
    "    writer = csv.DictWriter(file, fieldnames=fieldnames)\n",
    "    writer.writeheader()  # Write the header\n",
    "\n",
    "    for class_index, class_id in tqdm(enumerate(range(wt.shape[0])), total=wt.shape[0]):\n",
    "        predictions = []\n",
    "\n",
    "        for loc_emb, wt in zip(loc_emb_list, wt_list):\n",
    "            with torch.no_grad():\n",
    "                wt_1 = wt[class_index, :]\n",
    "                preds = torch.sigmoid(torch.matmul(loc_emb, wt_1)).cpu().numpy()\n",
    "                predictions.append(preds)\n",
    "\n",
    "        stacked_tensors = np.stack(predictions)\n",
    "        preds = np.mean(stacked_tensors, axis=0)\n",
    "\n",
    "        gdfk[\"pred\"] = preds\n",
    "\n",
    "        target_spatial_grid_counts = train_df_h3[train_df_h3.label==class_id].index.value_counts()\n",
    "\n",
    "        presence_absence[\"forground\"] = target_spatial_grid_counts\n",
    "        presence_absence[\"predictions\"] = gdfk[\"pred\"]\n",
    "        presence_absence.forground = presence_absence.forground.fillna(0)\n",
    "        yield_cutoff = np.percentile((presence_absence[\"background\"]/presence_absence[\"forground\"])[presence_absence[\"forground\"]>0], 95)\n",
    "        absences = presence_absence[(presence_absence[\"forground\"]==0) & (presence_absence[\"background\"] > yield_cutoff)][\"predictions\"]\n",
    "        presences = presence_absence[(presence_absence[\"forground\"]>0)][\"predictions\"]\n",
    "        df_x = pd.DataFrame({'predictions': presences, 'test': 1})\n",
    "        df_y = pd.DataFrame({'predictions': absences, 'test': 0})\n",
    "        for_thres = pd.concat([df_x, df_y], ignore_index=False)\n",
    "        precision, recall, thresholds = precision_recall_curve(for_thres.test, for_thres.predictions)\n",
    "        p1 = (2 * precision * recall)\n",
    "        p2 = (precision + recall)\n",
    "        out = np.zeros( (len(p1)) )\n",
    "        fscore = np.divide(p1,p2, out=out, where=p2!=0)\n",
    "        index = np.argmax(fscore)\n",
    "        thres = thresholds[index]\n",
    "        max_fscore = fscore[index]\n",
    "        \n",
    "        row = {\n",
    "            \"thres\": thres,\n",
    "        }\n",
    "        writer.writerow(row)"
   ]
  }
 ],
 "metadata": {
  "kernelspec": {
   "display_name": "sinr_icml_og",
   "language": "python",
   "name": "python3"
  },
  "language_info": {
   "codemirror_mode": {
    "name": "ipython",
    "version": 3
   },
   "file_extension": ".py",
   "mimetype": "text/x-python",
   "name": "python",
   "nbconvert_exporter": "python",
   "pygments_lexer": "ipython3",
   "version": "3.9.0"
  }
 },
 "nbformat": 4,
 "nbformat_minor": 2
}
