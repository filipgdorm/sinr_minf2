{
 "cells": [
  {
   "cell_type": "code",
   "execution_count": 1,
   "metadata": {},
   "outputs": [
    {
     "name": "stderr",
     "output_type": "stream",
     "text": [
      "/Users/filipdorm/opt/anaconda3/envs/sinr_icml_og/lib/python3.9/site-packages/tqdm/auto.py:21: TqdmWarning: IProgress not found. Please update jupyter and ipywidgets. See https://ipywidgets.readthedocs.io/en/stable/user_install.html\n",
      "  from .autonotebook import tqdm as notebook_tqdm\n"
     ]
    }
   ],
   "source": [
    "import pandas as pd\n",
    "import numpy as np\n",
    "import json\n",
    "import os\n",
    "import sys\n",
    "from sklearn.metrics import f1_score\n",
    "import h3pandas\n",
    "import torch\n",
    "import h3\n",
    "from sklearn.metrics import precision_recall_curve\n",
    "from tqdm import tqdm\n",
    "import pickle\n",
    "\n",
    "sys.path.append('../')\n",
    "import datasets\n",
    "import models\n",
    "import utils\n",
    "import setup\n",
    "\n",
    "import argparse\n",
    "import logging"
   ]
  },
  {
   "cell_type": "code",
   "execution_count": 2,
   "metadata": {},
   "outputs": [],
   "source": [
    "MODEL_PATH = '../pretrained_models/' + \"1000_cap_models/final_loss_an_full_input_enc_sin_cos_hard_cap_num_per_class_1000/model.pt\"\n",
    "EXP_NAME = \"masking_delta_001\"\n",
    "THRES_PATH = \"./thresholds/masking/thresholds.csv\"\n",
    "thres = pd.read_csv(THRES_PATH)"
   ]
  },
  {
   "cell_type": "code",
   "execution_count": 3,
   "metadata": {},
   "outputs": [
    {
     "name": "stderr",
     "output_type": "stream",
     "text": [
      "Model used for experiment: ../pretrained_models/1000_cap_models/final_loss_an_full_input_enc_sin_cos_hard_cap_num_per_class_1000/model.pt\n"
     ]
    }
   ],
   "source": [
    "# Set up logging to file\n",
    "log_file_path = f\"results/{EXP_NAME}_log.out\"\n",
    "logging.basicConfig(filename=log_file_path, filemode='a', level=logging.INFO,\n",
    "                format='%(levelname)s: %(message)s')\n",
    "console = logging.StreamHandler()\n",
    "console.setLevel(logging.INFO)\n",
    "logging.getLogger('').addHandler(console)\n",
    "\n",
    "logging.info(f\"Model used for experiment: {MODEL_PATH}\")"
   ]
  },
  {
   "cell_type": "code",
   "execution_count": 4,
   "metadata": {},
   "outputs": [
    {
     "data": {
      "text/plain": [
       "ResidualFCNet(\n",
       "  (class_emb): Linear(in_features=256, out_features=47375, bias=False)\n",
       "  (feats): Sequential(\n",
       "    (0): Linear(in_features=4, out_features=256, bias=True)\n",
       "    (1): ReLU(inplace=True)\n",
       "    (2): ResLayer(\n",
       "      (nonlin1): ReLU(inplace=True)\n",
       "      (nonlin2): ReLU(inplace=True)\n",
       "      (dropout1): Dropout(p=0.5, inplace=False)\n",
       "      (w1): Linear(in_features=256, out_features=256, bias=True)\n",
       "      (w2): Linear(in_features=256, out_features=256, bias=True)\n",
       "    )\n",
       "    (3): ResLayer(\n",
       "      (nonlin1): ReLU(inplace=True)\n",
       "      (nonlin2): ReLU(inplace=True)\n",
       "      (dropout1): Dropout(p=0.5, inplace=False)\n",
       "      (w1): Linear(in_features=256, out_features=256, bias=True)\n",
       "      (w2): Linear(in_features=256, out_features=256, bias=True)\n",
       "    )\n",
       "    (4): ResLayer(\n",
       "      (nonlin1): ReLU(inplace=True)\n",
       "      (nonlin2): ReLU(inplace=True)\n",
       "      (dropout1): Dropout(p=0.5, inplace=False)\n",
       "      (w1): Linear(in_features=256, out_features=256, bias=True)\n",
       "      (w2): Linear(in_features=256, out_features=256, bias=True)\n",
       "    )\n",
       "    (5): ResLayer(\n",
       "      (nonlin1): ReLU(inplace=True)\n",
       "      (nonlin2): ReLU(inplace=True)\n",
       "      (dropout1): Dropout(p=0.5, inplace=False)\n",
       "      (w1): Linear(in_features=256, out_features=256, bias=True)\n",
       "      (w2): Linear(in_features=256, out_features=256, bias=True)\n",
       "    )\n",
       "  )\n",
       ")"
      ]
     },
     "execution_count": 4,
     "metadata": {},
     "output_type": "execute_result"
    }
   ],
   "source": [
    "# load model\n",
    "DEVICE = torch.device('cuda' if torch.cuda.is_available() else 'cpu')\n",
    "train_params = torch.load(MODEL_PATH, map_location='cpu')\n",
    "model = models.get_model(train_params['params'])\n",
    "model.load_state_dict(train_params['state_dict'], strict=True)\n",
    "model = model.to(DEVICE)\n",
    "model.eval()"
   ]
  },
  {
   "cell_type": "code",
   "execution_count": 5,
   "metadata": {},
   "outputs": [],
   "source": [
    "def find_mapping_between_models(vision_taxa, geo_taxa):\n",
    "    # this will output an array of size N_overlap X 2\n",
    "    # the first column will be the indices of the vision model, and the second is their\n",
    "    # corresponding index in the geo model\n",
    "    taxon_map = np.ones((vision_taxa.shape[0], 2), dtype=np.int32)*-1\n",
    "    taxon_map[:, 0] = np.arange(vision_taxa.shape[0])\n",
    "    geo_taxa_arr = np.array(geo_taxa)\n",
    "    for tt_id, tt in enumerate(vision_taxa):\n",
    "        ind = np.where(geo_taxa_arr==tt)[0]\n",
    "        if len(ind) > 0:\n",
    "            taxon_map[tt_id, 1] = ind[0]\n",
    "    inds = np.where(taxon_map[:, 1]>-1)[0]\n",
    "    taxon_map = taxon_map[inds, :]\n",
    "    return taxon_map"
   ]
  },
  {
   "cell_type": "code",
   "execution_count": 6,
   "metadata": {},
   "outputs": [],
   "source": [
    "def convert_to_inat_vision_order(geo_pred_ip, vision_top_k_prob, vision_top_k_inds, vision_taxa, taxon_map):\n",
    "        # this is slow as we turn the sparse input back into the same size as the dense one\n",
    "        vision_pred = np.zeros((geo_pred_ip.shape[0], len(vision_taxa)), dtype=np.float32)\n",
    "        geo_pred = np.ones((geo_pred_ip.shape[0], len(vision_taxa)), dtype=np.float32)\n",
    "        vision_pred[np.arange(vision_pred.shape[0])[..., np.newaxis], vision_top_k_inds] = vision_top_k_prob\n",
    "\n",
    "        geo_pred[:, taxon_map[:, 0]] = geo_pred_ip[:, taxon_map[:, 1]]\n",
    "\n",
    "        return geo_pred, vision_pred"
   ]
  },
  {
   "cell_type": "code",
   "execution_count": 7,
   "metadata": {},
   "outputs": [
    {
     "name": "stdout",
     "output_type": "stream",
     "text": [
      "282974 total test observations\n",
      "44877 out of 55378 taxa in both vision and geo models\n"
     ]
    }
   ],
   "source": [
    "\n",
    "with open('paths.json', 'r') as f:\n",
    "            paths = json.load(f)\n",
    "# load vision model predictions:\n",
    "data = np.load(os.path.join(paths['geo_prior'], 'geo_prior_model_preds.npz'))\n",
    "print(data['probs'].shape[0], 'total test observations')\n",
    "# load locations:\n",
    "meta = pd.read_csv(os.path.join(paths['geo_prior'], 'geo_prior_model_meta.csv'))\n",
    "obs_locs  = np.vstack((meta['longitude'].values, meta['latitude'].values)).T.astype(np.float32)\n",
    "# taxonomic mapping:\n",
    "taxon_map = find_mapping_between_models(data['model_to_taxa'], train_params['params']['class_to_taxa'])\n",
    "print(taxon_map.shape[0], 'out of', len(data['model_to_taxa']), 'taxa in both vision and geo models')\n"
   ]
  },
  {
   "cell_type": "code",
   "execution_count": 8,
   "metadata": {},
   "outputs": [],
   "source": [
    "if train_params['params']['input_enc'] in ['env', 'sin_cos_env']:\n",
    "    raster = datasets.load_env()\n",
    "else:\n",
    "    raster = None\n",
    "enc = utils.CoordEncoder(train_params['params']['input_enc'], raster=raster)"
   ]
  },
  {
   "cell_type": "code",
   "execution_count": 11,
   "metadata": {},
   "outputs": [
    {
     "name": "stderr",
     "output_type": "stream",
     "text": [
      "  0%|          | 0/139 [00:08<?, ?it/s]\n"
     ]
    }
   ],
   "source": [
    "results = {}\n",
    "# loop over in batches\n",
    "batch_start = np.hstack((np.arange(0, data['probs'].shape[0], 2048), data['probs'].shape[0]))\n",
    "correct_pred = np.zeros(data['probs'].shape[0])\n",
    "\n",
    "for bb_id, bb in tqdm(enumerate(range(len(batch_start)-1)), total=len(batch_start)-1):\n",
    "    batch_inds = np.arange(batch_start[bb], batch_start[bb+1])\n",
    "\n",
    "    vision_probs = data['probs'][batch_inds, :]\n",
    "    vision_inds = data['inds'][batch_inds, :]\n",
    "    gt = data['labels'][batch_inds]\n",
    "\n",
    "    obs_locs_batch = torch.from_numpy(obs_locs[batch_inds, :]).to('cpu')\n",
    "    loc_feat = enc.encode(obs_locs_batch)\n",
    "\n",
    "    with torch.no_grad():\n",
    "        loc_emb = model(loc_feat, return_feats=True)\n",
    "        wt = model.class_emb.weight.detach().clone()\n",
    "        wt.requires_grad = False\n",
    "    raw_preds = torch.matmul(loc_emb, wt.T)\n",
    "    preds = torch.sigmoid(raw_preds)\n",
    "    #geo_pred = np.where(preds.numpy() > thres['thres'].values, 1.0, 0.01)\n",
    "    geo_pred = preds\n",
    "\n",
    "    geo_pred, vision_pred = convert_to_inat_vision_order(geo_pred, vision_probs, vision_inds,\n",
    "                                                            data['model_to_taxa'], taxon_map)\n",
    "\n",
    "    comb_pred = np.argmax(vision_pred*geo_pred, 1)\n",
    "    comb_pred = (comb_pred==gt)\n",
    "    correct_pred[batch_inds] = comb_pred\n",
    "    break"
   ]
  },
  {
   "cell_type": "code",
   "execution_count": 13,
   "metadata": {},
   "outputs": [],
   "source": [
    "lala = preds + 0.01"
   ]
  },
  {
   "cell_type": "code",
   "execution_count": 18,
   "metadata": {},
   "outputs": [
    {
     "data": {
      "text/plain": [
       "tensor(1.)"
      ]
     },
     "execution_count": 18,
     "metadata": {},
     "output_type": "execute_result"
    }
   ],
   "source": [
    "np.clip(lala, None, 1).max()"
   ]
  },
  {
   "cell_type": "code",
   "execution_count": 16,
   "metadata": {},
   "outputs": [
    {
     "data": {
      "text/plain": [
       "tensor(1.0054)"
      ]
     },
     "execution_count": 16,
     "metadata": {},
     "output_type": "execute_result"
    }
   ],
   "source": [
    "lala.max()"
   ]
  },
  {
   "cell_type": "code",
   "execution_count": 10,
   "metadata": {},
   "outputs": [
    {
     "name": "stderr",
     "output_type": "stream",
     "text": [
      "100%|██████████| 139/139 [13:49<00:00,  5.97s/it]\n"
     ]
    }
   ],
   "source": [
    "def run_evaluation(model, enc):\n",
    "    results = {}\n",
    "    # loop over in batches\n",
    "    batch_start = np.hstack((np.arange(0, data['probs'].shape[0], 2048), data['probs'].shape[0]))\n",
    "    correct_pred = np.zeros(data['probs'].shape[0])\n",
    "\n",
    "    for bb_id, bb in tqdm(enumerate(range(len(batch_start)-1)), total=len(batch_start)-1):\n",
    "        batch_inds = np.arange(batch_start[bb], batch_start[bb+1])\n",
    "\n",
    "        vision_probs = data['probs'][batch_inds, :]\n",
    "        vision_inds = data['inds'][batch_inds, :]\n",
    "        gt = data['labels'][batch_inds]\n",
    "\n",
    "        obs_locs_batch = torch.from_numpy(obs_locs[batch_inds, :]).to('cpu')\n",
    "        loc_feat = enc.encode(obs_locs_batch)\n",
    "\n",
    "        with torch.no_grad():\n",
    "            loc_emb = model(loc_feat, return_feats=True)\n",
    "            wt = model.class_emb.weight.detach().clone()\n",
    "            wt.requires_grad = False\n",
    "        raw_preds = torch.matmul(loc_emb, wt.T)\n",
    "        preds = torch.sigmoid(raw_preds)\n",
    "        geo_pred = np.where(preds.numpy() > thres['thres'].values, 1.0, 0.01)\n",
    "\n",
    "        geo_pred, vision_pred = convert_to_inat_vision_order(geo_pred, vision_probs, vision_inds,\n",
    "                                                                data['model_to_taxa'], taxon_map)\n",
    "\n",
    "        comb_pred = np.argmax(vision_pred*geo_pred, 1)\n",
    "        comb_pred = (comb_pred==gt)\n",
    "        correct_pred[batch_inds] = comb_pred\n",
    "\n",
    "    results['vision_only_top_1'] = float((data['inds'][:, -1] == data['labels']).mean())\n",
    "    results['vision_geo_top_1'] = float(correct_pred.mean())\n",
    "\n",
    "    return results\n",
    "results = run_evaluation(model, enc)\n"
   ]
  },
  {
   "cell_type": "code",
   "execution_count": 11,
   "metadata": {},
   "outputs": [
    {
     "name": "stderr",
     "output_type": "stream",
     "text": [
      "Overall accuracy vision only model 0.754\n",
      "Overall accuracy of geo model      0.818\n",
      "Gain                               0.064\n"
     ]
    },
    {
     "name": "stdout",
     "output_type": "stream",
     "text": [
      "Overall accuracy vision only model 0.754\n",
      "Overall accuracy of geo model      0.818\n",
      "Gain                               0.064\n"
     ]
    }
   ],
   "source": [
    "def report(results):\n",
    "        print('Overall accuracy vision only model', round(results['vision_only_top_1'], 3))\n",
    "        print('Overall accuracy of geo model     ', round(results['vision_geo_top_1'], 3))\n",
    "        print('Gain                              ', round(results['vision_geo_top_1'] - results['vision_only_top_1'], 3))\n",
    "        res1 = round(results['vision_only_top_1'], 3)\n",
    "        res2 = round(results['vision_geo_top_1'], 3)\n",
    "        res3 = round(results['vision_geo_top_1'] - results['vision_only_top_1'], 3)\n",
    "        logging.info(f'Overall accuracy vision only model {res1}')\n",
    "        logging.info(f'Overall accuracy of geo model      {res2}')\n",
    "        logging.info(f'Gain                               {res3}')\n",
    "\n",
    "report(results)"
   ]
  },
  {
   "cell_type": "code",
   "execution_count": null,
   "metadata": {},
   "outputs": [],
   "source": []
  }
 ],
 "metadata": {
  "kernelspec": {
   "display_name": "sinr_icml_og",
   "language": "python",
   "name": "python3"
  },
  "language_info": {
   "codemirror_mode": {
    "name": "ipython",
    "version": 3
   },
   "file_extension": ".py",
   "mimetype": "text/x-python",
   "name": "python",
   "nbconvert_exporter": "python",
   "pygments_lexer": "ipython3",
   "version": "3.9.0"
  }
 },
 "nbformat": 4,
 "nbformat_minor": 2
}
