{
 "cells": [
  {
   "cell_type": "code",
   "execution_count": 5,
   "metadata": {},
   "outputs": [],
   "source": [
    "import pandas as pd\n",
    "import numpy as np\n",
    "import json\n",
    "import os\n",
    "import sys\n",
    "from sklearn.metrics import f1_score\n",
    "import h3pandas\n",
    "import torch\n",
    "import h3\n",
    "from sklearn.metrics import precision_recall_curve\n",
    "import argparse\n",
    "from tqdm import tqdm\n",
    "\n",
    "sys.path.append('../')\n",
    "import datasets\n",
    "import models\n",
    "import utils\n",
    "import setup\n",
    "\n",
    "import matplotlib.pyplot as plt\n",
    "from sklearn.mixture import GaussianMixture"
   ]
  },
  {
   "cell_type": "code",
   "execution_count": 2,
   "metadata": {},
   "outputs": [
    {
     "data": {
      "text/plain": [
       "ResidualFCNet(\n",
       "  (class_emb): Linear(in_features=256, out_features=47375, bias=False)\n",
       "  (feats): Sequential(\n",
       "    (0): Linear(in_features=4, out_features=256, bias=True)\n",
       "    (1): ReLU(inplace=True)\n",
       "    (2): ResLayer(\n",
       "      (nonlin1): ReLU(inplace=True)\n",
       "      (nonlin2): ReLU(inplace=True)\n",
       "      (dropout1): Dropout(p=0.5, inplace=False)\n",
       "      (w1): Linear(in_features=256, out_features=256, bias=True)\n",
       "      (w2): Linear(in_features=256, out_features=256, bias=True)\n",
       "    )\n",
       "    (3): ResLayer(\n",
       "      (nonlin1): ReLU(inplace=True)\n",
       "      (nonlin2): ReLU(inplace=True)\n",
       "      (dropout1): Dropout(p=0.5, inplace=False)\n",
       "      (w1): Linear(in_features=256, out_features=256, bias=True)\n",
       "      (w2): Linear(in_features=256, out_features=256, bias=True)\n",
       "    )\n",
       "    (4): ResLayer(\n",
       "      (nonlin1): ReLU(inplace=True)\n",
       "      (nonlin2): ReLU(inplace=True)\n",
       "      (dropout1): Dropout(p=0.5, inplace=False)\n",
       "      (w1): Linear(in_features=256, out_features=256, bias=True)\n",
       "      (w2): Linear(in_features=256, out_features=256, bias=True)\n",
       "    )\n",
       "    (5): ResLayer(\n",
       "      (nonlin1): ReLU(inplace=True)\n",
       "      (nonlin2): ReLU(inplace=True)\n",
       "      (dropout1): Dropout(p=0.5, inplace=False)\n",
       "      (w1): Linear(in_features=256, out_features=256, bias=True)\n",
       "      (w2): Linear(in_features=256, out_features=256, bias=True)\n",
       "    )\n",
       "  )\n",
       ")"
      ]
     },
     "execution_count": 2,
     "metadata": {},
     "output_type": "execute_result"
    }
   ],
   "source": [
    "MODEL_PATH = \"../pretrained_models/model_an_full_input_enc_sin_cos_hard_cap_num_per_class_1000.pt\"\n",
    "train_df_h3 = pd.read_csv(\"../pseudo_absence_generation_data/train_df_h3.csv\", index_col=0)\n",
    "gdfk = pd.read_csv(\"../pseudo_absence_generation_data/gdfk_res3.csv\", index_col=0)\n",
    "all_spatial_grid_counts = train_df_h3.index.value_counts()\n",
    "presence_absence = pd.DataFrame({\n",
    "    \"background\": all_spatial_grid_counts,\n",
    "})\n",
    "presence_absence = presence_absence.fillna(0)\n",
    "\n",
    "DEVICE = torch.device('cuda' if torch.cuda.is_available() else 'cpu')\n",
    "train_params = torch.load(MODEL_PATH, map_location='cpu')\n",
    "model = models.get_model(train_params['params'])\n",
    "model.load_state_dict(train_params['state_dict'], strict=True)\n",
    "model = model.to(DEVICE)\n",
    "model.eval()"
   ]
  },
  {
   "cell_type": "code",
   "execution_count": 3,
   "metadata": {},
   "outputs": [],
   "source": [
    "\n",
    "if train_params['params']['input_enc'] in ['env', 'sin_cos_env']:\n",
    "    raster = datasets.load_env()\n",
    "else:\n",
    "    raster = None\n",
    "enc = utils.CoordEncoder(train_params['params']['input_enc'], raster=raster)\n",
    "\n",
    "#load reference from iucn\n",
    "with open(os.path.join('../data/eval/iucn/', 'iucn_res_5.json'), 'r') as f:\n",
    "            data = json.load(f)\n",
    "species_ids = list((data['taxa_presence'].keys()))\n",
    "\n",
    "obs_locs = np.array(gdfk[['lng', 'lat']].values, dtype=np.float32)\n",
    "obs_locs = torch.from_numpy(obs_locs).to('cpu')\n",
    "loc_feat = enc.encode(obs_locs)\n",
    "\n",
    "classes_of_interest = torch.zeros(len(species_ids), dtype=torch.int64)\n",
    "for tt_id, tt in enumerate(species_ids):\n",
    "    class_of_interest = np.array([train_params['params']['class_to_taxa'].index(int(tt))])\n",
    "    classes_of_interest[tt_id] = torch.from_numpy(class_of_interest)\n",
    "\n",
    "with torch.no_grad():\n",
    "    loc_emb = model(loc_feat, return_feats=True)\n",
    "    wt = model.class_emb.weight[classes_of_interest, :]\n"
   ]
  },
  {
   "cell_type": "code",
   "execution_count": 7,
   "metadata": {},
   "outputs": [
    {
     "name": "stderr",
     "output_type": "stream",
     "text": [
      "  0%|          | 1/2418 [00:00<17:19,  2.32it/s]"
     ]
    },
    {
     "name": "stdout",
     "output_type": "stream",
     "text": [
      "estimated means\n",
      " [[0.   ]\n",
      " [0.158]]\n",
      "threshold: 0.00470047\n"
     ]
    },
    {
     "name": "stderr",
     "output_type": "stream",
     "text": [
      "  0%|          | 2/2418 [00:00<13:35,  2.96it/s]"
     ]
    },
    {
     "name": "stdout",
     "output_type": "stream",
     "text": [
      "estimated means\n",
      " [[0.   ]\n",
      " [0.155]]\n",
      "threshold: 0.00450045\n"
     ]
    },
    {
     "name": "stderr",
     "output_type": "stream",
     "text": [
      "  0%|          | 3/2418 [00:00<12:46,  3.15it/s]"
     ]
    },
    {
     "name": "stdout",
     "output_type": "stream",
     "text": [
      "estimated means\n",
      " [[0.  ]\n",
      " [0.06]]\n",
      "threshold: 0.00440044\n"
     ]
    },
    {
     "name": "stderr",
     "output_type": "stream",
     "text": [
      "  0%|          | 4/2418 [00:01<11:24,  3.53it/s]"
     ]
    },
    {
     "name": "stdout",
     "output_type": "stream",
     "text": [
      "estimated means\n",
      " [[0.   ]\n",
      " [0.164]]\n",
      "threshold: 0.00450045\n"
     ]
    },
    {
     "name": "stderr",
     "output_type": "stream",
     "text": [
      "  0%|          | 5/2418 [00:01<10:30,  3.83it/s]"
     ]
    },
    {
     "name": "stdout",
     "output_type": "stream",
     "text": [
      "estimated means\n",
      " [[0.   ]\n",
      " [0.169]]\n",
      "threshold: 0.00470047\n"
     ]
    },
    {
     "name": "stderr",
     "output_type": "stream",
     "text": [
      "  0%|          | 6/2418 [00:01<10:35,  3.79it/s]"
     ]
    },
    {
     "name": "stdout",
     "output_type": "stream",
     "text": [
      "estimated means\n",
      " [[0.   ]\n",
      " [0.121]]\n",
      "threshold: 0.00440044\n"
     ]
    },
    {
     "name": "stderr",
     "output_type": "stream",
     "text": [
      "  0%|          | 8/2418 [00:02<09:23,  4.27it/s]"
     ]
    },
    {
     "name": "stdout",
     "output_type": "stream",
     "text": [
      "estimated means\n",
      " [[0.   ]\n",
      " [0.261]]\n",
      "threshold: 0.00480048\n",
      "estimated means\n",
      " [[0.   ]\n",
      " [0.238]]\n",
      "threshold: 0.0050005\n"
     ]
    },
    {
     "name": "stderr",
     "output_type": "stream",
     "text": [
      "  0%|          | 9/2418 [00:02<09:39,  4.15it/s]"
     ]
    },
    {
     "name": "stdout",
     "output_type": "stream",
     "text": [
      "estimated means\n",
      " [[0.   ]\n",
      " [0.328]]\n",
      "threshold: 0.00460046\n"
     ]
    },
    {
     "name": "stderr",
     "output_type": "stream",
     "text": [
      "  0%|          | 10/2418 [00:02<11:45,  3.41it/s]"
     ]
    },
    {
     "name": "stdout",
     "output_type": "stream",
     "text": [
      "estimated means\n",
      " [[0.   ]\n",
      " [0.192]]\n",
      "threshold: 0.00450045\n"
     ]
    },
    {
     "name": "stderr",
     "output_type": "stream",
     "text": [
      "  0%|          | 11/2418 [00:03<11:00,  3.64it/s]"
     ]
    },
    {
     "name": "stdout",
     "output_type": "stream",
     "text": [
      "estimated means\n",
      " [[0.   ]\n",
      " [0.327]]\n",
      "threshold: 0.00480048\n"
     ]
    },
    {
     "name": "stderr",
     "output_type": "stream",
     "text": [
      "  0%|          | 12/2418 [00:03<10:25,  3.85it/s]"
     ]
    },
    {
     "name": "stdout",
     "output_type": "stream",
     "text": [
      "estimated means\n",
      " [[0.   ]\n",
      " [0.195]]\n",
      "threshold: 0.00490049\n"
     ]
    },
    {
     "name": "stderr",
     "output_type": "stream",
     "text": [
      "  1%|          | 13/2418 [00:03<10:46,  3.72it/s]"
     ]
    },
    {
     "name": "stdout",
     "output_type": "stream",
     "text": [
      "estimated means\n",
      " [[0.   ]\n",
      " [0.166]]\n",
      "threshold: 0.00450045\n"
     ]
    },
    {
     "name": "stderr",
     "output_type": "stream",
     "text": [
      "  1%|          | 14/2418 [00:03<10:37,  3.77it/s]"
     ]
    },
    {
     "name": "stdout",
     "output_type": "stream",
     "text": [
      "estimated means\n",
      " [[0.   ]\n",
      " [0.069]]\n",
      "threshold: 0.00430043\n"
     ]
    },
    {
     "name": "stderr",
     "output_type": "stream",
     "text": [
      "  1%|          | 16/2418 [00:04<09:28,  4.23it/s]"
     ]
    },
    {
     "name": "stdout",
     "output_type": "stream",
     "text": [
      "estimated means\n",
      " [[0.  ]\n",
      " [0.22]]\n",
      "threshold: 0.00460046\n",
      "estimated means\n",
      " [[0.   ]\n",
      " [0.198]]\n",
      "threshold: 0.0050005\n"
     ]
    },
    {
     "name": "stderr",
     "output_type": "stream",
     "text": [
      "  1%|          | 17/2418 [00:04<09:01,  4.43it/s]"
     ]
    },
    {
     "name": "stdout",
     "output_type": "stream",
     "text": [
      "estimated means\n",
      " [[0.   ]\n",
      " [0.124]]\n",
      "threshold: 0.00490049\n"
     ]
    },
    {
     "name": "stderr",
     "output_type": "stream",
     "text": [
      "  1%|          | 18/2418 [00:04<09:09,  4.37it/s]"
     ]
    },
    {
     "name": "stdout",
     "output_type": "stream",
     "text": [
      "estimated means\n",
      " [[0.   ]\n",
      " [0.206]]\n",
      "threshold: 0.00450045\n"
     ]
    },
    {
     "name": "stderr",
     "output_type": "stream",
     "text": [
      "  1%|          | 19/2418 [00:04<09:08,  4.37it/s]"
     ]
    },
    {
     "name": "stdout",
     "output_type": "stream",
     "text": [
      "estimated means\n",
      " [[0.   ]\n",
      " [0.137]]\n",
      "threshold: 0.00450045\n"
     ]
    },
    {
     "name": "stderr",
     "output_type": "stream",
     "text": [
      "  1%|          | 20/2418 [00:05<09:07,  4.38it/s]"
     ]
    },
    {
     "name": "stdout",
     "output_type": "stream",
     "text": [
      "estimated means\n",
      " [[0.   ]\n",
      " [0.259]]\n",
      "threshold: 0.00460046\n",
      "estimated means\n",
      " [[0.   ]\n",
      " [0.153]]\n"
     ]
    },
    {
     "name": "stderr",
     "output_type": "stream",
     "text": [
      "  1%|          | 20/2418 [00:05<10:39,  3.75it/s]"
     ]
    },
    {
     "name": "stdout",
     "output_type": "stream",
     "text": [
      "threshold: 0.00520052\n"
     ]
    },
    {
     "name": "stderr",
     "output_type": "stream",
     "text": [
      "\n"
     ]
    }
   ],
   "source": [
    "size_factor = 1\n",
    "output = []\n",
    "for class_index, class_id in tqdm(enumerate(classes_of_interest), total=len(classes_of_interest)):\n",
    "    wt_1 = wt[class_index,:]\n",
    "    preds = torch.sigmoid(torch.matmul(loc_emb, wt_1)).cpu().numpy()\n",
    "\n",
    "    x_comb=preds\n",
    "    # fit mixture of gaussian with two gaussians \n",
    "    gm = GaussianMixture(n_components=2, random_state=0).fit(x_comb[..., np.newaxis])\n",
    "    print('estimated means\\n', np.round(gm.means_,3))\n",
    "\n",
    "    # evaluate all locations in range [0, 1]\n",
    "    x_test = np.linspace(0, 1, 10000)\n",
    "    op = gm.predict_proba(x_test[..., np.newaxis])\n",
    "\n",
    "    # get the threshold, i.e. the cross over point between two gaussians\n",
    "    if gm.means_[0][0] > gm.means_[1][0]: threshold_id = np.where(op[:, 0] > op[:, 1])[0][0] \n",
    "    else: threshold_id = np.where(op[:, 0] < op[:, 1])[0][0]\n",
    "    threshold = x_test[threshold_id]\n",
    "    print('threshold:', np.round(threshold, 8))\n",
    "\n",
    "    if class_index==20:break\n",
    "\n"
   ]
  },
  {
   "cell_type": "code",
   "execution_count": 8,
   "metadata": {},
   "outputs": [
    {
     "name": "stdout",
     "output_type": "stream",
     "text": [
      "estimated means\n",
      " [[0.   ]\n",
      " [0.153]]\n",
      "threshold: 0.00520052\n"
     ]
    },
    {
     "data": {
      "image/png": "[encoded data removed]",
      "text/plain": [
       "<Figure size 640x480 with 1 Axes>"
      ]
     },
     "metadata": {},
     "output_type": "display_data"
    }
   ],
   "source": [
    "\n",
    "\n",
    "# create some dummy data that represents the outputs \n",
    "# here pretending the outputs of the range estimation model\n",
    "# can be represented as two gaussians, one for each of \n",
    "# present or absent\n",
    "\"\"\"cls1 = np.random.randn(100)*0.1 + 0.1\n",
    "cls2 = np.random.randn(100)*0.1 + 0.7\n",
    "x_comb = np.hstack((cls1, cls2))\n",
    "x_comb = np.clip(x_comb, 0, 1)\"\"\"\n",
    "x_comb=preds\n",
    "# fit mixture of gaussian with two gaussians \n",
    "gm = GaussianMixture(n_components=2, random_state=0).fit(x_comb[..., np.newaxis])\n",
    "print('estimated means\\n', np.round(gm.means_,3))\n",
    "\n",
    "# evaluate all locations in range [0, 1]\n",
    "x_test = np.linspace(0, 1, 10000)\n",
    "op = gm.predict_proba(x_test[..., np.newaxis])\n",
    "\n",
    "# get the threshold, i.e. the cross over point between two gaussians\n",
    "if gm.means_[0][0] > gm.means_[1][0]: threshold_id = np.where(op[:, 0] > op[:, 1])[0][0] \n",
    "else: threshold_id = np.where(op[:, 0] < op[:, 1])[0][0]\n",
    "threshold = x_test[threshold_id]\n",
    "print('threshold:', np.round(threshold, 8))\n",
    "\n",
    "# plot \n",
    "plt.close('all')\n",
    "plt.figure(1)\n",
    "plt.hist(x_comb, 25, [0, 1], density=True)\n",
    "plt.plot(x_test, op[:, 0], 'r')\n",
    "#plt.plot(x_test, op[:, 1], 'b')\n",
    "plt.xlabel('Prob for species S from range model')\n",
    "plt.show()"
   ]
  },
  {
   "cell_type": "code",
   "execution_count": 13,
   "metadata": {},
   "outputs": [
    {
     "name": "stdout",
     "output_type": "stream",
     "text": [
      "estimated means\n",
      " [[0.704]\n",
      " [0.106]]\n",
      "threshold: 0.366\n"
     ]
    },
    {
     "data": {
      "image/png": "[encoded data removed]",
      "text/plain": [
       "<Figure size 640x480 with 1 Axes>"
      ]
     },
     "metadata": {},
     "output_type": "display_data"
    }
   ],
   "source": [
    "import numpy as np\n",
    "import matplotlib.pyplot as plt\n",
    "from sklearn.mixture import GaussianMixture\n",
    "\n",
    "# create some dummy data that represents the outputs \n",
    "# here pretending the outputs of the range estimation model\n",
    "# can be represented as two gaussians, one for each of \n",
    "# present or absent\n",
    "cls1 = np.random.randn(100)*0.1 + 0.1\n",
    "cls2 = np.random.randn(100)*0.1 + 0.7\n",
    "x_comb = np.hstack((cls1, cls2))\n",
    "x_comb = np.clip(x_comb, 0, 1)\n",
    "\n",
    "# fit mixture of gaussian with two gaussians \n",
    "gm = GaussianMixture(n_components=2, random_state=0).fit(x_comb[..., np.newaxis])\n",
    "print('estimated means\\n', np.round(gm.means_,3))\n",
    "\n",
    "# evaluate all locations in range [0, 1]\n",
    "x_test = np.linspace(0, 1, 1000)\n",
    "op = gm.predict_proba(x_test[..., np.newaxis])\n",
    "\n",
    "# get the threshold, i.e. the cross over point between two gaussians\n",
    "if gm.means_[0][0] > gm.means_[1][0]: threshold_id = np.where(op[:, 0] > op[:, 1])[0][0] \n",
    "else: threshold_id = np.where(op[:, 0] < op[:, 1])[0][0]\n",
    "threshold = x_test[threshold_id]\n",
    "print('threshold:', np.round(threshold, 3))\n",
    "\n",
    "# plot \n",
    "plt.close('all')\n",
    "plt.figure(1)\n",
    "plt.hist(x_comb, 25, [0, 1], density=True)\n",
    "plt.plot(x_test, op[:, 0], 'r')\n",
    "#plt.plot(x_test, op[:, 1], 'b')\n",
    "plt.xlabel('Prob for species S from range model')\n",
    "plt.show()"
   ]
  },
  {
   "cell_type": "code",
   "execution_count": null,
   "metadata": {},
   "outputs": [],
   "source": []
  }
 ],
 "metadata": {
  "kernelspec": {
   "display_name": "sinr_icml_og",
   "language": "python",
   "name": "python3"
  },
  "language_info": {
   "codemirror_mode": {
    "name": "ipython",
    "version": 3
   },
   "file_extension": ".py",
   "mimetype": "text/x-python",
   "name": "python",
   "nbconvert_exporter": "python",
   "pygments_lexer": "ipython3",
   "version": "3.9.0"
  }
 },
 "nbformat": 4,
 "nbformat_minor": 2
}
