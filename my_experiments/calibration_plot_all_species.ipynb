{
 "cells": [
  {
   "cell_type": "markdown",
   "metadata": {},
   "source": [
    "attempt of making a calibration plot"
   ]
  },
  {
   "cell_type": "code",
   "execution_count": 5,
   "metadata": {},
   "outputs": [],
   "source": [
    "import sys\n",
    "\n",
    "import pandas as pd\n",
    "import numpy as np\n",
    "import json\n",
    "import os\n",
    "\n",
    "import torch\n",
    "import ml_insights as mli\n",
    "import matplotlib.pyplot as plt"
   ]
  },
  {
   "cell_type": "code",
   "execution_count": 6,
   "metadata": {},
   "outputs": [],
   "source": [
    "sys.path.append('../')\n",
    "import datasets\n",
    "import models\n",
    "import utils\n"
   ]
  },
  {
   "cell_type": "code",
   "execution_count": 7,
   "metadata": {},
   "outputs": [],
   "source": [
    "HIGH_RES = True\n",
    "THRESHOLD = 0.5\n",
    "DISABLE_OCEAN_MASK = False\n",
    "DEVICE = torch.device('cuda' if torch.cuda.is_available() else 'cpu')\n",
    "SET_MAX_CMAP_TO_1 = False"
   ]
  },
  {
   "cell_type": "code",
   "execution_count": 8,
   "metadata": {},
   "outputs": [
    {
     "data": {
      "text/plain": [
       "ResidualFCNet(\n",
       "  (class_emb): Linear(in_features=256, out_features=47375, bias=False)\n",
       "  (feats): Sequential(\n",
       "    (0): Linear(in_features=4, out_features=256, bias=True)\n",
       "    (1): ReLU(inplace=True)\n",
       "    (2): ResLayer(\n",
       "      (nonlin1): ReLU(inplace=True)\n",
       "      (nonlin2): ReLU(inplace=True)\n",
       "      (dropout1): Dropout(p=0.5, inplace=False)\n",
       "      (w1): Linear(in_features=256, out_features=256, bias=True)\n",
       "      (w2): Linear(in_features=256, out_features=256, bias=True)\n",
       "    )\n",
       "    (3): ResLayer(\n",
       "      (nonlin1): ReLU(inplace=True)\n",
       "      (nonlin2): ReLU(inplace=True)\n",
       "      (dropout1): Dropout(p=0.5, inplace=False)\n",
       "      (w1): Linear(in_features=256, out_features=256, bias=True)\n",
       "      (w2): Linear(in_features=256, out_features=256, bias=True)\n",
       "    )\n",
       "    (4): ResLayer(\n",
       "      (nonlin1): ReLU(inplace=True)\n",
       "      (nonlin2): ReLU(inplace=True)\n",
       "      (dropout1): Dropout(p=0.5, inplace=False)\n",
       "      (w1): Linear(in_features=256, out_features=256, bias=True)\n",
       "      (w2): Linear(in_features=256, out_features=256, bias=True)\n",
       "    )\n",
       "    (5): ResLayer(\n",
       "      (nonlin1): ReLU(inplace=True)\n",
       "      (nonlin2): ReLU(inplace=True)\n",
       "      (dropout1): Dropout(p=0.5, inplace=False)\n",
       "      (w1): Linear(in_features=256, out_features=256, bias=True)\n",
       "      (w2): Linear(in_features=256, out_features=256, bias=True)\n",
       "    )\n",
       "  )\n",
       ")"
      ]
     },
     "execution_count": 8,
     "metadata": {},
     "output_type": "execute_result"
    }
   ],
   "source": [
    "# load model\n",
    "train_params = torch.load('../pretrained_models/model_an_full_input_enc_sin_cos_hard_cap_num_per_class_1000.pt', map_location='cpu')\n",
    "model = models.get_model(train_params['params'])\n",
    "model.load_state_dict(train_params['state_dict'], strict=True)\n",
    "model = model.to(DEVICE)\n",
    "model.eval()"
   ]
  },
  {
   "cell_type": "code",
   "execution_count": 9,
   "metadata": {},
   "outputs": [],
   "source": [
    "#load reference from iucn\n",
    "with open(os.path.join('../data/eval/iucn/', 'iucn_res_5.json'), 'r') as f:\n",
    "            data = json.load(f)"
   ]
  },
  {
   "cell_type": "code",
   "execution_count": 10,
   "metadata": {},
   "outputs": [],
   "source": [
    "species_ids = list((data['taxa_presence'].keys()))"
   ]
  },
  {
   "cell_type": "code",
   "execution_count": 20,
   "metadata": {},
   "outputs": [
    {
     "data": {
      "text/plain": [
       "2418"
      ]
     },
     "execution_count": 20,
     "metadata": {},
     "output_type": "execute_result"
    }
   ],
   "source": [
    "len(species_ids)"
   ]
  },
  {
   "cell_type": "code",
   "execution_count": 11,
   "metadata": {},
   "outputs": [],
   "source": [
    "if train_params['params']['input_enc'] in ['env', 'sin_cos_env']:\n",
    "    raster = datasets.load_env()\n",
    "else:\n",
    "    raster = None\n",
    "enc = utils.CoordEncoder(train_params['params']['input_enc'], raster=raster)"
   ]
  },
  {
   "cell_type": "code",
   "execution_count": 12,
   "metadata": {},
   "outputs": [],
   "source": [
    "obs_locs = np.array(data['locs'], dtype=np.float32)\n",
    "obs_locs = torch.from_numpy(obs_locs).to('cpu')\n",
    "loc_feat = enc.encode(obs_locs)"
   ]
  },
  {
   "cell_type": "code",
   "execution_count": 13,
   "metadata": {},
   "outputs": [],
   "source": [
    "classes_of_interest = torch.zeros(len(species_ids), dtype=torch.int64)\n",
    "taxa_ids = torch.zeros(len(species_ids), dtype=torch.int64)\n",
    "for tt_id, tt in enumerate(species_ids):\n",
    "    class_of_interest = np.array([train_params['params']['class_to_taxa'].index(int(tt))])\n",
    "    classes_of_interest[tt_id] = torch.from_numpy(class_of_interest)\n",
    "    taxa_ids[tt_id] = int(tt)"
   ]
  },
  {
   "cell_type": "code",
   "execution_count": 14,
   "metadata": {},
   "outputs": [],
   "source": [
    "with torch.no_grad():\n",
    "    loc_emb = model(loc_feat, return_feats=True)\n",
    "    wt = model.class_emb.weight[classes_of_interest, :]"
   ]
  },
  {
   "cell_type": "code",
   "execution_count": 24,
   "metadata": {},
   "outputs": [],
   "source": [
    "def create_calibration_curves(taxa, preds, species_locs):\n",
    "    truth_array = np.zeros(preds.shape, int)\n",
    "    truth_array[species_locs] = 1\n",
    "    \n",
    "    fig, ax = plt.subplots(figsize=(10,5))\n",
    "    fig.suptitle(\"taxa \"+ str(taxa), y=0.9)\n",
    "    rd = mli.plot_reliability_diagram(truth_array, preds, marker='.', show_histogram=True)\n",
    "    #plt.savefig(f'../calibration_plots/calibration_curves/{taxa}.png')\n",
    "    return rd\n"
   ]
  },
  {
   "cell_type": "code",
   "execution_count": 25,
   "metadata": {},
   "outputs": [
    {
     "name": "stderr",
     "output_type": "stream",
     "text": [
      "/var/folders/pp/c6m9_85s5rd16hbzmflk4b9r0000gn/T/ipykernel_20486/4244665464.py:2: FutureWarning: The geopandas.dataset module is deprecated and will be removed in GeoPandas 1.0. You can get the original 'naturalearth_lowres' data from https://www.naturalearthdata.com/downloads/110m-cultural-vectors/.\n",
      "  df = gpd.read_file(gpd.datasets.get_path('naturalearth_lowres'))\n"
     ]
    }
   ],
   "source": [
    "import geopandas as gpd\n",
    "df = gpd.read_file(gpd.datasets.get_path('naturalearth_lowres'))\n",
    "\n",
    "def plot_map(taxa,preds,species_locs):\n",
    "    test = np.array(data['locs'])\n",
    "    plot_array = test[species_locs]\n",
    "    thresholds = [0.02,0.1,0.5]\n",
    "\n",
    "    mask1 = preds>thresholds[0]\n",
    "    plot_threhs1 = test[mask1]\n",
    "\n",
    "    mask2 = preds>thresholds[1]\n",
    "    plot_threhs2 = test[mask2]\n",
    "\n",
    "    mask3 = preds>thresholds[2]\n",
    "    plot_threhs3 = test[mask3]\n",
    "\n",
    "    fig, [ax1, ax2] = plt.subplots(1, 2, figsize=(10,5))\n",
    "    fig.suptitle(\"taxa \" + str(taxa),  y=0.75)\n",
    "    #iucn map\n",
    "    df.plot(ax=ax1,color=\"lightgray\")\n",
    "    ax1.set_xticks([])\n",
    "    ax1.set_yticks([])\n",
    "    ax1.scatter(plot_array[:,0], plot_array[:,1], color='firebrick', s=10, alpha=0.05)\n",
    "\n",
    "    #predictions\n",
    "\n",
    "    df.plot(ax=ax2,color=\"lightgray\")\n",
    "\n",
    "    ax2.set_xticks([])\n",
    "    ax2.set_yticks([])\n",
    "\n",
    "    ax2.scatter(plot_threhs1[:,0], plot_threhs1[:,1], color='lightsteelblue', s=10, alpha=0.05)\n",
    "    ax2.scatter(plot_threhs2[:,0], plot_threhs2[:,1], color='cornflowerblue', s=10, alpha=0.05)\n",
    "    ax2.scatter(plot_threhs3[:,0], plot_threhs3[:,1], color='mediumblue', s=10, alpha=0.05)\n",
    "\n",
    "    plt.tight_layout()\n",
    "    #plt.savefig(f'../calibration_plots/maps/{taxa}map.png')"
   ]
  },
  {
   "cell_type": "code",
   "execution_count": 26,
   "metadata": {},
   "outputs": [
    {
     "name": "stdout",
     "output_type": "stream",
     "text": [
      "0\n",
      "1\n",
      "2\n",
      "3\n",
      "4\n",
      "5\n",
      "6\n",
      "7\n",
      "8\n",
      "9\n",
      "10\n"
     ]
    },
    {
     "name": "stderr",
     "output_type": "stream",
     "text": [
      "/var/folders/pp/c6m9_85s5rd16hbzmflk4b9r0000gn/T/ipykernel_20486/1698052475.py:5: RuntimeWarning: More than 20 figures have been opened. Figures created through the pyplot interface (`matplotlib.pyplot.figure`) are retained until explicitly closed and may consume too much memory. (To control this warning, see the rcParam `figure.max_open_warning`). Consider using `matplotlib.pyplot.close()`.\n",
      "  fig, ax = plt.subplots(figsize=(10,5))\n"
     ]
    },
    {
     "name": "stdout",
     "output_type": "stream",
     "text": [
      "11\n",
      "12\n",
      "13\n",
      "14\n",
      "15\n"
     ]
    },
    {
     "name": "stderr",
     "output_type": "stream",
     "text": [
      "Exception ignored in: <function TransformNode.set_children.<locals>.<lambda> at 0x7f8cdc1f7310>\n",
      "Traceback (most recent call last):\n",
      "  File \"/Users/filipdorm/opt/anaconda3/envs/sinr_icml/lib/python3.9/site-packages/matplotlib/transforms.py\", line 209, in <lambda>\n",
      "    self, lambda _, pop=child._parents.pop, k=id(self): pop(k))\n",
      "KeyboardInterrupt: \n"
     ]
    },
    {
     "name": "stdout",
     "output_type": "stream",
     "text": [
      "16\n",
      "17\n",
      "18\n",
      "19\n",
      "20\n",
      "21\n",
      "22\n",
      "23\n",
      "24\n",
      "25\n",
      "26\n",
      "27\n"
     ]
    }
   ],
   "source": [
    "species_dict = dict()\n",
    "for tt_id, taxa in enumerate(taxa_ids):\n",
    "    wt_1 = wt[tt_id,:]\n",
    "    preds = torch.sigmoid(torch.matmul(loc_emb, wt_1)).cpu().numpy()\n",
    "    taxa = taxa.item()\n",
    "    species_locs = data['taxa_presence'].get(str(taxa))\n",
    "    rd = create_calibration_curves(taxa,preds,species_locs)\n",
    "    species_dict[taxa] = rd\n",
    "\n",
    "    plot_map(taxa,preds,species_locs);"
   ]
  },
  {
   "cell_type": "code",
   "execution_count": 23,
   "metadata": {},
   "outputs": [
    {
     "name": "stdout",
     "output_type": "stream",
     "text": [
      "dictionary saved successfully to file\n"
     ]
    }
   ],
   "source": [
    "\"\"\"import pickle\n",
    "with open('species_calibration_curves.pkl', 'wb') as fp:\n",
    "    pickle.dump(species_dict, fp)\n",
    "    print('dictionary saved successfully to file')\"\"\""
   ]
  }
 ],
 "metadata": {
  "kernelspec": {
   "display_name": "sinr_icml",
   "language": "python",
   "name": "python3"
  },
  "language_info": {
   "codemirror_mode": {
    "name": "ipython",
    "version": 3
   },
   "file_extension": ".py",
   "mimetype": "text/x-python",
   "name": "python",
   "nbconvert_exporter": "python",
   "pygments_lexer": "ipython3",
   "version": "3.9.0"
  }
 },
 "nbformat": 4,
 "nbformat_minor": 2
}
