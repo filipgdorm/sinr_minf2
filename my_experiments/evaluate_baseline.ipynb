{
 "cells": [
  {
   "cell_type": "code",
   "execution_count": 1,
   "metadata": {},
   "outputs": [
    {
     "name": "stderr",
     "output_type": "stream",
     "text": [
      "/Users/filipdorm/opt/anaconda3/envs/sinr_icml/lib/python3.9/site-packages/tqdm/auto.py:21: TqdmWarning: IProgress not found. Please update jupyter and ipywidgets. See https://ipywidgets.readthedocs.io/en/stable/user_install.html\n",
      "  from .autonotebook import tqdm as notebook_tqdm\n"
     ]
    }
   ],
   "source": [
    "import torch\n",
    "import models\n",
    "import numpy as np\n",
    "import os\n",
    "import eval"
   ]
  },
  {
   "cell_type": "code",
   "execution_count": 2,
   "metadata": {},
   "outputs": [
    {
     "data": {
      "text/plain": [
       "ResidualFCNet(\n",
       "  (class_emb): Linear(in_features=256, out_features=47375, bias=False)\n",
       "  (feats): Sequential(\n",
       "    (0): Linear(in_features=4, out_features=256, bias=True)\n",
       "    (1): ReLU(inplace=True)\n",
       "    (2): ResLayer(\n",
       "      (nonlin1): ReLU(inplace=True)\n",
       "      (nonlin2): ReLU(inplace=True)\n",
       "      (dropout1): Dropout(p=0.5, inplace=False)\n",
       "      (w1): Linear(in_features=256, out_features=256, bias=True)\n",
       "      (w2): Linear(in_features=256, out_features=256, bias=True)\n",
       "    )\n",
       "    (3): ResLayer(\n",
       "      (nonlin1): ReLU(inplace=True)\n",
       "      (nonlin2): ReLU(inplace=True)\n",
       "      (dropout1): Dropout(p=0.5, inplace=False)\n",
       "      (w1): Linear(in_features=256, out_features=256, bias=True)\n",
       "      (w2): Linear(in_features=256, out_features=256, bias=True)\n",
       "    )\n",
       "    (4): ResLayer(\n",
       "      (nonlin1): ReLU(inplace=True)\n",
       "      (nonlin2): ReLU(inplace=True)\n",
       "      (dropout1): Dropout(p=0.5, inplace=False)\n",
       "      (w1): Linear(in_features=256, out_features=256, bias=True)\n",
       "      (w2): Linear(in_features=256, out_features=256, bias=True)\n",
       "    )\n",
       "    (5): ResLayer(\n",
       "      (nonlin1): ReLU(inplace=True)\n",
       "      (nonlin2): ReLU(inplace=True)\n",
       "      (dropout1): Dropout(p=0.5, inplace=False)\n",
       "      (w1): Linear(in_features=256, out_features=256, bias=True)\n",
       "      (w2): Linear(in_features=256, out_features=256, bias=True)\n",
       "    )\n",
       "  )\n",
       ")"
      ]
     },
     "execution_count": 2,
     "metadata": {},
     "output_type": "execute_result"
    }
   ],
   "source": [
    "# load model\n",
    "train_params = torch.load('./pretrained_models/model_an_full_input_enc_sin_cos_hard_cap_num_per_class_1000.pt', map_location='cpu')\n",
    "train_params['experiment_name'] = \"model_an_full_input_enc_sin_cos_hard_cap_num_per_class_1000.pt\"\n",
    "model = models.get_model(train_params['params'])\n",
    "model.load_state_dict(train_params['state_dict'], strict=True)\n",
    "model = model.to('cpu')\n",
    "model.eval()"
   ]
  },
  {
   "cell_type": "code",
   "execution_count": 3,
   "metadata": {},
   "outputs": [
    {
     "name": "stdout",
     "output_type": "stream",
     "text": [
      "\n",
      "iucn\n"
     ]
    },
    {
     "ename": "KeyboardInterrupt",
     "evalue": "",
     "output_type": "error",
     "traceback": [
      "\u001b[0;31m---------------------------------------------------------------------------\u001b[0m",
      "\u001b[0;31mKeyboardInterrupt\u001b[0m                         Traceback (most recent call last)",
      "\u001b[1;32m/Users/filipdorm/sinr/evaluate_baseline.ipynb Cell 3\u001b[0m line \u001b[0;36m8\n\u001b[1;32m      <a href='vscode-notebook-cell:/Users/filipdorm/sinr/evaluate_baseline.ipynb#W2sZmlsZQ%3D%3D?line=5'>6</a>\u001b[0m \u001b[39mif\u001b[39;00m eval_type \u001b[39m==\u001b[39m \u001b[39m'\u001b[39m\u001b[39miucn\u001b[39m\u001b[39m'\u001b[39m:\n\u001b[1;32m      <a href='vscode-notebook-cell:/Users/filipdorm/sinr/evaluate_baseline.ipynb#W2sZmlsZQ%3D%3D?line=6'>7</a>\u001b[0m     eval_params[\u001b[39m'\u001b[39m\u001b[39mdevice\u001b[39m\u001b[39m'\u001b[39m] \u001b[39m=\u001b[39m torch\u001b[39m.\u001b[39mdevice(\u001b[39m'\u001b[39m\u001b[39mcpu\u001b[39m\u001b[39m'\u001b[39m) \u001b[39m# for memory reasons\u001b[39;00m\n\u001b[0;32m----> <a href='vscode-notebook-cell:/Users/filipdorm/sinr/evaluate_baseline.ipynb#W2sZmlsZQ%3D%3D?line=7'>8</a>\u001b[0m cur_results \u001b[39m=\u001b[39m \u001b[39meval\u001b[39;49m\u001b[39m.\u001b[39;49mlaunch_eval_run(eval_params)\n\u001b[1;32m      <a href='vscode-notebook-cell:/Users/filipdorm/sinr/evaluate_baseline.ipynb#W2sZmlsZQ%3D%3D?line=8'>9</a>\u001b[0m np\u001b[39m.\u001b[39msave(os\u001b[39m.\u001b[39mpath\u001b[39m.\u001b[39mjoin(eval_params[\u001b[39m'\u001b[39m\u001b[39mexp_base\u001b[39m\u001b[39m'\u001b[39m], train_params[\u001b[39m'\u001b[39m\u001b[39mexperiment_name\u001b[39m\u001b[39m'\u001b[39m], \u001b[39mf\u001b[39m\u001b[39m'\u001b[39m\u001b[39mresults_\u001b[39m\u001b[39m{\u001b[39;00meval_type\u001b[39m}\u001b[39;00m\u001b[39m.npy\u001b[39m\u001b[39m'\u001b[39m), cur_results)\n",
      "File \u001b[0;32m~/sinr/eval.py:356\u001b[0m, in \u001b[0;36mlaunch_eval_run\u001b[0;34m(overrides)\u001b[0m\n\u001b[1;32m    354\u001b[0m \u001b[39melif\u001b[39;00m eval_params[\u001b[39m'\u001b[39m\u001b[39meval_type\u001b[39m\u001b[39m'\u001b[39m] \u001b[39m==\u001b[39m \u001b[39m'\u001b[39m\u001b[39miucn\u001b[39m\u001b[39m'\u001b[39m:\n\u001b[1;32m    355\u001b[0m     evaluator \u001b[39m=\u001b[39m EvaluatorIUCN(train_params[\u001b[39m'\u001b[39m\u001b[39mparams\u001b[39m\u001b[39m'\u001b[39m], eval_params)\n\u001b[0;32m--> 356\u001b[0m     results \u001b[39m=\u001b[39m evaluator\u001b[39m.\u001b[39;49mrun_evaluation(model, enc)\n\u001b[1;32m    357\u001b[0m     evaluator\u001b[39m.\u001b[39mreport(results)\n\u001b[1;32m    358\u001b[0m \u001b[39melif\u001b[39;00m eval_params[\u001b[39m'\u001b[39m\u001b[39meval_type\u001b[39m\u001b[39m'\u001b[39m] \u001b[39m==\u001b[39m \u001b[39m'\u001b[39m\u001b[39mgeo_prior\u001b[39m\u001b[39m'\u001b[39m:\n",
      "File \u001b[0;32m~/sinr/eval.py:146\u001b[0m, in \u001b[0;36mEvaluatorIUCN.run_evaluation\u001b[0;34m(self, model, enc)\u001b[0m\n\u001b[1;32m    144\u001b[0m classes_of_interest \u001b[39m=\u001b[39m torch\u001b[39m.\u001b[39mzeros(\u001b[39mlen\u001b[39m(\u001b[39mself\u001b[39m\u001b[39m.\u001b[39mtaxa), dtype\u001b[39m=\u001b[39mtorch\u001b[39m.\u001b[39mint64)\n\u001b[1;32m    145\u001b[0m \u001b[39mfor\u001b[39;00m tt_id, tt \u001b[39min\u001b[39;00m \u001b[39menumerate\u001b[39m(\u001b[39mself\u001b[39m\u001b[39m.\u001b[39mtaxa):\n\u001b[0;32m--> 146\u001b[0m     class_of_interest \u001b[39m=\u001b[39m np\u001b[39m.\u001b[39mwhere(np\u001b[39m.\u001b[39;49marray(\u001b[39mself\u001b[39;49m\u001b[39m.\u001b[39;49mtrain_params[\u001b[39m'\u001b[39;49m\u001b[39mclass_to_taxa\u001b[39;49m\u001b[39m'\u001b[39;49m]) \u001b[39m==\u001b[39m tt)[\u001b[39m0\u001b[39m]\n\u001b[1;32m    147\u001b[0m     \u001b[39mif\u001b[39;00m \u001b[39mlen\u001b[39m(class_of_interest) \u001b[39m!=\u001b[39m \u001b[39m0\u001b[39m:\n\u001b[1;32m    148\u001b[0m         classes_of_interest[tt_id] \u001b[39m=\u001b[39m torch\u001b[39m.\u001b[39mfrom_numpy(class_of_interest)\n",
      "\u001b[0;31mKeyboardInterrupt\u001b[0m: "
     ]
    }
   ],
   "source": [
    "for eval_type in ['iucn']:\n",
    "    eval_params = {}\n",
    "    eval_params['exp_base'] = './pretrained_models'\n",
    "    eval_params['experiment_name'] = train_params['experiment_name']\n",
    "    eval_params['eval_type'] = eval_type\n",
    "    if eval_type == 'iucn':\n",
    "        eval_params['device'] = torch.device('cpu') # for memory reasons\n",
    "    cur_results = eval.launch_eval_run(eval_params)\n",
    "    np.save(os.path.join(eval_params['exp_base'], train_params['experiment_name'], f'results_{eval_type}.npy'), cur_results)"
   ]
  },
  {
   "cell_type": "code",
   "execution_count": null,
   "metadata": {},
   "outputs": [],
   "source": []
  }
 ],
 "metadata": {
  "kernelspec": {
   "display_name": "sinr_icml",
   "language": "python",
   "name": "python3"
  },
  "language_info": {
   "codemirror_mode": {
    "name": "ipython",
    "version": 3
   },
   "file_extension": ".py",
   "mimetype": "text/x-python",
   "name": "python",
   "nbconvert_exporter": "python",
   "pygments_lexer": "ipython3",
   "version": "3.9.0"
  }
 },
 "nbformat": 4,
 "nbformat_minor": 2
}
