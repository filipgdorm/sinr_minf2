{
 "cells": [
  {
   "cell_type": "code",
   "execution_count": 1,
   "metadata": {},
   "outputs": [],
   "source": [
    "import torch\n",
    "import numpy as np\n",
    "import os\n"
   ]
  },
  {
   "cell_type": "code",
   "execution_count": null,
   "metadata": {},
   "outputs": [],
   "source": [
    "import sys\n",
    "sys.path.append('../')\n",
    "import eval\n",
    "import models"
   ]
  },
  {
   "cell_type": "code",
   "execution_count": null,
   "metadata": {},
   "outputs": [
    {
     "name": "stdout",
     "output_type": "stream",
     "text": [
      "/Users/filipdorm\n",
      "/Users/filipdorm/sinr\n",
      "LICENSE                       paths.json\n",
      "README.md                     \u001b[34mpretrained_models\u001b[m\u001b[m/\n",
      "\u001b[34m__pycache__\u001b[m\u001b[m/                  requirements.txt\n",
      "\u001b[34mdata\u001b[m\u001b[m/                         setup.py\n",
      "datasets.py                   train.py\n",
      "eval.py                       train_and_evaluate_models.py\n",
      "losses.py                     utils.py\n",
      "models.py                     viz_ica.py\n",
      "\u001b[34mmy_experiments\u001b[m\u001b[m/               viz_map.py\n",
      "\u001b[34mother_data\u001b[m\u001b[m/                   \u001b[34mweb_app\u001b[m\u001b[m/\n",
      "\u001b[34moutput\u001b[m\u001b[m/\n"
     ]
    }
   ],
   "source": [
    "%cd\n",
    "%cd sinr/\n",
    "%ls"
   ]
  },
  {
   "cell_type": "code",
   "execution_count": null,
   "metadata": {},
   "outputs": [
    {
     "data": {
      "text/plain": [
       "ResidualFCNet(\n",
       "  (class_emb): Linear(in_features=256, out_features=47375, bias=False)\n",
       "  (feats): Sequential(\n",
       "    (0): Linear(in_features=4, out_features=256, bias=True)\n",
       "    (1): ReLU(inplace=True)\n",
       "    (2): ResLayer(\n",
       "      (nonlin1): ReLU(inplace=True)\n",
       "      (nonlin2): ReLU(inplace=True)\n",
       "      (dropout1): Dropout(p=0.5, inplace=False)\n",
       "      (w1): Linear(in_features=256, out_features=256, bias=True)\n",
       "      (w2): Linear(in_features=256, out_features=256, bias=True)\n",
       "    )\n",
       "    (3): ResLayer(\n",
       "      (nonlin1): ReLU(inplace=True)\n",
       "      (nonlin2): ReLU(inplace=True)\n",
       "      (dropout1): Dropout(p=0.5, inplace=False)\n",
       "      (w1): Linear(in_features=256, out_features=256, bias=True)\n",
       "      (w2): Linear(in_features=256, out_features=256, bias=True)\n",
       "    )\n",
       "    (4): ResLayer(\n",
       "      (nonlin1): ReLU(inplace=True)\n",
       "      (nonlin2): ReLU(inplace=True)\n",
       "      (dropout1): Dropout(p=0.5, inplace=False)\n",
       "      (w1): Linear(in_features=256, out_features=256, bias=True)\n",
       "      (w2): Linear(in_features=256, out_features=256, bias=True)\n",
       "    )\n",
       "    (5): ResLayer(\n",
       "      (nonlin1): ReLU(inplace=True)\n",
       "      (nonlin2): ReLU(inplace=True)\n",
       "      (dropout1): Dropout(p=0.5, inplace=False)\n",
       "      (w1): Linear(in_features=256, out_features=256, bias=True)\n",
       "      (w2): Linear(in_features=256, out_features=256, bias=True)\n",
       "    )\n",
       "  )\n",
       ")"
      ]
     },
     "execution_count": 9,
     "metadata": {},
     "output_type": "execute_result"
    }
   ],
   "source": [
    "# load model\n",
    "train_params = torch.load('./pretrained_models/model_an_full_input_enc_sin_cos_hard_cap_num_per_class_1000.pt', map_location='cpu')\n",
    "train_params['experiment_name'] = \"model_an_full_input_enc_sin_cos_hard_cap_num_per_class_1000.pt\"\n",
    "model = models.get_model(train_params['params'])\n",
    "model.load_state_dict(train_params['state_dict'], strict=True)\n",
    "model = model.to('cpu')\n",
    "model.eval()"
   ]
  },
  {
   "cell_type": "code",
   "execution_count": null,
   "metadata": {},
   "outputs": [
    {
     "name": "stdout",
     "output_type": "stream",
     "text": [
      "\n",
      "iucn\n",
      "[[-29.992083 -34.167377 -26.67738  ... -29.583178 -27.599483 -30.873058]\n",
      " [-44.176468 -46.45711  -38.729893 ... -37.081287 -42.738182 -50.04854 ]\n",
      " [-41.3692   -43.147087 -36.040638 ... -34.645435 -39.429    -46.498325]\n",
      " ...\n",
      " [-39.88031  -52.564144 -42.476112 ... -50.427765 -37.361618 -38.415573]\n",
      " [-32.01905  -40.4126   -32.853275 ... -40.309063 -31.736357 -33.205116]\n",
      " [-35.124306 -47.171913 -38.19304  ... -46.70177  -33.557777 -34.322174]]\n"
     ]
    },
    {
     "ename": "",
     "evalue": "",
     "output_type": "error",
     "traceback": [
      "\u001b[1;31mThe Kernel crashed while executing code in the the current cell or a previous cell. Please review the code in the cell(s) to identify a possible cause of the failure. Click <a href='https://aka.ms/vscodeJupyterKernelCrash'>here</a> for more info. View Jupyter <a href='command:jupyter.viewOutput'>log</a> for further details."
     ]
    }
   ],
   "source": [
    "for eval_type in ['iucn']:\n",
    "    eval_params = {}\n",
    "    eval_params['exp_base'] = './pretrained_models'\n",
    "    eval_params['experiment_name'] = train_params['experiment_name']\n",
    "    eval_params['eval_type'] = eval_type\n",
    "    if eval_type == 'iucn':\n",
    "        eval_params['device'] = torch.device('cpu') # for memory reasons\n",
    "    cur_results = eval.launch_eval_run(eval_params)\n",
    "    np.save(os.path.join(eval_params['exp_base'], train_params['experiment_name'], f'results_{eval_type}.npy'), cur_results)"
   ]
  },
  {
   "cell_type": "code",
   "execution_count": null,
   "metadata": {},
   "outputs": [],
   "source": []
  }
 ],
 "metadata": {
  "kernelspec": {
   "display_name": "sinr_icml",
   "language": "python",
   "name": "python3"
  },
  "language_info": {
   "codemirror_mode": {
    "name": "ipython",
    "version": 3
   },
   "file_extension": ".py",
   "mimetype": "text/x-python",
   "name": "python",
   "nbconvert_exporter": "python",
   "pygments_lexer": "ipython3",
   "version": "3.9.0"
  }
 },
 "nbformat": 4,
 "nbformat_minor": 2
}
