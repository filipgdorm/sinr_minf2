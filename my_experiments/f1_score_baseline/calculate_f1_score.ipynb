{
 "cells": [
  {
   "cell_type": "code",
   "execution_count": 1,
   "metadata": {},
   "outputs": [
    {
     "name": "stderr",
     "output_type": "stream",
     "text": [
      "/Users/filipdorm/opt/anaconda3/envs/sinr_icml_og/lib/python3.9/site-packages/tqdm/auto.py:21: TqdmWarning: IProgress not found. Please update jupyter and ipywidgets. See https://ipywidgets.readthedocs.io/en/stable/user_install.html\n",
      "  from .autonotebook import tqdm as notebook_tqdm\n"
     ]
    }
   ],
   "source": [
    "import torch\n",
    "import pandas as pd\n",
    "import numpy as np\n",
    "import json\n",
    "import os\n",
    "import sys\n",
    "from sklearn.metrics import f1_score\n"
   ]
  },
  {
   "cell_type": "code",
   "execution_count": 4,
   "metadata": {},
   "outputs": [],
   "source": [
    "sys.path.append('../../')\n",
    "import datasets\n",
    "import models\n",
    "import utils"
   ]
  },
  {
   "cell_type": "code",
   "execution_count": 5,
   "metadata": {},
   "outputs": [],
   "source": [
    "DEVICE = torch.device('cuda' if torch.cuda.is_available() else 'cpu')"
   ]
  },
  {
   "cell_type": "code",
   "execution_count": 7,
   "metadata": {},
   "outputs": [
    {
     "data": {
      "text/plain": [
       "ResidualFCNet(\n",
       "  (class_emb): Linear(in_features=256, out_features=47375, bias=False)\n",
       "  (feats): Sequential(\n",
       "    (0): Linear(in_features=4, out_features=256, bias=True)\n",
       "    (1): ReLU(inplace=True)\n",
       "    (2): ResLayer(\n",
       "      (nonlin1): ReLU(inplace=True)\n",
       "      (nonlin2): ReLU(inplace=True)\n",
       "      (dropout1): Dropout(p=0.5, inplace=False)\n",
       "      (w1): Linear(in_features=256, out_features=256, bias=True)\n",
       "      (w2): Linear(in_features=256, out_features=256, bias=True)\n",
       "    )\n",
       "    (3): ResLayer(\n",
       "      (nonlin1): ReLU(inplace=True)\n",
       "      (nonlin2): ReLU(inplace=True)\n",
       "      (dropout1): Dropout(p=0.5, inplace=False)\n",
       "      (w1): Linear(in_features=256, out_features=256, bias=True)\n",
       "      (w2): Linear(in_features=256, out_features=256, bias=True)\n",
       "    )\n",
       "    (4): ResLayer(\n",
       "      (nonlin1): ReLU(inplace=True)\n",
       "      (nonlin2): ReLU(inplace=True)\n",
       "      (dropout1): Dropout(p=0.5, inplace=False)\n",
       "      (w1): Linear(in_features=256, out_features=256, bias=True)\n",
       "      (w2): Linear(in_features=256, out_features=256, bias=True)\n",
       "    )\n",
       "    (5): ResLayer(\n",
       "      (nonlin1): ReLU(inplace=True)\n",
       "      (nonlin2): ReLU(inplace=True)\n",
       "      (dropout1): Dropout(p=0.5, inplace=False)\n",
       "      (w1): Linear(in_features=256, out_features=256, bias=True)\n",
       "      (w2): Linear(in_features=256, out_features=256, bias=True)\n",
       "    )\n",
       "  )\n",
       ")"
      ]
     },
     "execution_count": 7,
     "metadata": {},
     "output_type": "execute_result"
    }
   ],
   "source": [
    "# load model\n",
    "train_params = torch.load('../../pretrained_models/model_an_full_input_enc_sin_cos_hard_cap_num_per_class_1000.pt', map_location='cpu')\n",
    "model = models.get_model(train_params['params'])\n",
    "model.load_state_dict(train_params['state_dict'], strict=True)\n",
    "model = model.to(DEVICE)\n",
    "model.eval()"
   ]
  },
  {
   "cell_type": "code",
   "execution_count": 5,
   "metadata": {},
   "outputs": [],
   "source": [
    "#load reference from iucn\n",
    "with open(os.path.join('../../data/eval/iucn/', 'iucn_res_5.json'), 'r') as f:\n",
    "            data = json.load(f)\n",
    "species_ids = list((data['taxa_presence'].keys()))"
   ]
  },
  {
   "cell_type": "code",
   "execution_count": 6,
   "metadata": {},
   "outputs": [],
   "source": [
    "if train_params['params']['input_enc'] in ['env', 'sin_cos_env']:\n",
    "    raster = datasets.load_env()\n",
    "else:\n",
    "    raster = None\n",
    "enc = utils.CoordEncoder(train_params['params']['input_enc'], raster=raster)"
   ]
  },
  {
   "cell_type": "code",
   "execution_count": 7,
   "metadata": {},
   "outputs": [],
   "source": [
    "obs_locs = np.array(data['locs'], dtype=np.float32)\n",
    "obs_locs = torch.from_numpy(obs_locs).to('cpu')\n",
    "loc_feat = enc.encode(obs_locs)"
   ]
  },
  {
   "cell_type": "code",
   "execution_count": 8,
   "metadata": {},
   "outputs": [],
   "source": [
    "classes_of_interest = torch.zeros(len(species_ids), dtype=torch.int64)\n",
    "taxa_ids = torch.zeros(len(species_ids), dtype=torch.int64)\n",
    "for tt_id, tt in enumerate(species_ids):\n",
    "    class_of_interest = np.array([train_params['params']['class_to_taxa'].index(int(tt))])\n",
    "    classes_of_interest[tt_id] = torch.from_numpy(class_of_interest)\n",
    "    taxa_ids[tt_id] = int(tt)"
   ]
  },
  {
   "cell_type": "code",
   "execution_count": 9,
   "metadata": {},
   "outputs": [],
   "source": [
    "with torch.no_grad():\n",
    "    loc_emb = model(loc_feat, return_feats=True)\n",
    "    wt = model.class_emb.weight[classes_of_interest, :]"
   ]
  },
  {
   "cell_type": "code",
   "execution_count": 10,
   "metadata": {},
   "outputs": [],
   "source": [
    "def f1_at_thresh(y_true, y_pred, thresh, type = 'binary'):\n",
    "    y_thresh = y_pred > thresh\n",
    "    return f1_score(y_true, y_thresh, average=type)"
   ]
  },
  {
   "cell_type": "code",
   "execution_count": 11,
   "metadata": {},
   "outputs": [],
   "source": [
    "num_points = 19\n",
    "\n",
    "# Generate logarithmically spaced numbers in the range [0, 1]\n",
    "geomspace_values = np.geomspace(0.01, 1, num=num_points, endpoint=False)"
   ]
  },
  {
   "cell_type": "code",
   "execution_count": 12,
   "metadata": {},
   "outputs": [
    {
     "data": {
      "text/plain": [
       "array([0.05, 0.1 , 0.15, 0.2 , 0.25, 0.3 , 0.35, 0.4 , 0.45, 0.5 , 0.55,\n",
       "       0.6 , 0.65, 0.7 , 0.75, 0.8 , 0.85, 0.9 , 0.95])"
      ]
     },
     "execution_count": 12,
     "metadata": {},
     "output_type": "execute_result"
    }
   ],
   "source": [
    "linspace_values = np.linspace(0.05, 1, num=num_points, endpoint=False)\n",
    "linspace_values"
   ]
  },
  {
   "cell_type": "code",
   "execution_count": 13,
   "metadata": {},
   "outputs": [
    {
     "name": "stdout",
     "output_type": "stream",
     "text": [
      "0\n",
      "100\n",
      "200\n",
      "300\n",
      "400\n"
     ]
    }
   ],
   "source": [
    "threshs = linspace_values\n",
    "per_species_f1 = np.zeros((len(taxa_ids),len(threshs)))\n",
    "for tt_id, taxa in enumerate(taxa_ids):\n",
    "    wt_1 = wt[tt_id,:]\n",
    "    preds = torch.sigmoid(torch.matmul(loc_emb, wt_1)).cpu().numpy()\n",
    "    taxa = taxa.item()\n",
    "    species_locs = data['taxa_presence'].get(str(taxa))\n",
    "    y_test = np.zeros(preds.shape, int)\n",
    "    y_test[species_locs] = 1\n",
    "\n",
    "    for i, thresh in enumerate(threshs):\n",
    "        per_species_f1[tt_id][i] = f1_at_thresh(y_test, preds, thresh, type='binary')\n",
    "\n",
    "    if tt_id % 100 == 0:\n",
    "        print(tt_id)  "
   ]
  },
  {
   "cell_type": "code",
   "execution_count": null,
   "metadata": {},
   "outputs": [],
   "source": [
    "np.save('./results/f1_scores_linspace.npy', per_species_f1)"
   ]
  },
  {
   "cell_type": "code",
   "execution_count": null,
   "metadata": {},
   "outputs": [],
   "source": []
  }
 ],
 "metadata": {
  "kernelspec": {
   "display_name": "sinr_icml",
   "language": "python",
   "name": "python3"
  },
  "language_info": {
   "codemirror_mode": {
    "name": "ipython",
    "version": 3
   },
   "file_extension": ".py",
   "mimetype": "text/x-python",
   "name": "python",
   "nbconvert_exporter": "python",
   "pygments_lexer": "ipython3",
   "version": "3.9.0"
  }
 },
 "nbformat": 4,
 "nbformat_minor": 2
}
