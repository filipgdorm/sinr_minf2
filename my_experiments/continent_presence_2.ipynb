{
 "cells": [
  {
   "cell_type": "code",
   "execution_count": 2,
   "metadata": {},
   "outputs": [],
   "source": [
    "import sys\n",
    "\n",
    "import torch\n",
    "import pandas as pd\n",
    "import numpy as np\n",
    "import json\n",
    "import os\n",
    "\n",
    "import matplotlib.pyplot as plt"
   ]
  },
  {
   "cell_type": "code",
   "execution_count": 3,
   "metadata": {},
   "outputs": [],
   "source": [
    "sys.path.append('../')\n",
    "import datasets\n",
    "import models\n",
    "import utils\n"
   ]
  },
  {
   "cell_type": "code",
   "execution_count": 4,
   "metadata": {},
   "outputs": [],
   "source": [
    "HIGH_RES = True\n",
    "THRESHOLD = 0.5\n",
    "DISABLE_OCEAN_MASK = False\n",
    "DEVICE = torch.device('cuda' if torch.cuda.is_available() else 'cpu')\n",
    "SET_MAX_CMAP_TO_1 = False"
   ]
  },
  {
   "cell_type": "code",
   "execution_count": 5,
   "metadata": {},
   "outputs": [
    {
     "data": {
      "text/plain": [
       "ResidualFCNet(\n",
       "  (class_emb): Linear(in_features=256, out_features=47375, bias=False)\n",
       "  (feats): Sequential(\n",
       "    (0): Linear(in_features=4, out_features=256, bias=True)\n",
       "    (1): ReLU(inplace=True)\n",
       "    (2): ResLayer(\n",
       "      (nonlin1): ReLU(inplace=True)\n",
       "      (nonlin2): ReLU(inplace=True)\n",
       "      (dropout1): Dropout(p=0.5, inplace=False)\n",
       "      (w1): Linear(in_features=256, out_features=256, bias=True)\n",
       "      (w2): Linear(in_features=256, out_features=256, bias=True)\n",
       "    )\n",
       "    (3): ResLayer(\n",
       "      (nonlin1): ReLU(inplace=True)\n",
       "      (nonlin2): ReLU(inplace=True)\n",
       "      (dropout1): Dropout(p=0.5, inplace=False)\n",
       "      (w1): Linear(in_features=256, out_features=256, bias=True)\n",
       "      (w2): Linear(in_features=256, out_features=256, bias=True)\n",
       "    )\n",
       "    (4): ResLayer(\n",
       "      (nonlin1): ReLU(inplace=True)\n",
       "      (nonlin2): ReLU(inplace=True)\n",
       "      (dropout1): Dropout(p=0.5, inplace=False)\n",
       "      (w1): Linear(in_features=256, out_features=256, bias=True)\n",
       "      (w2): Linear(in_features=256, out_features=256, bias=True)\n",
       "    )\n",
       "    (5): ResLayer(\n",
       "      (nonlin1): ReLU(inplace=True)\n",
       "      (nonlin2): ReLU(inplace=True)\n",
       "      (dropout1): Dropout(p=0.5, inplace=False)\n",
       "      (w1): Linear(in_features=256, out_features=256, bias=True)\n",
       "      (w2): Linear(in_features=256, out_features=256, bias=True)\n",
       "    )\n",
       "  )\n",
       ")"
      ]
     },
     "execution_count": 5,
     "metadata": {},
     "output_type": "execute_result"
    }
   ],
   "source": [
    "# load model\n",
    "train_params = torch.load('../pretrained_models/model_an_full_input_enc_sin_cos_hard_cap_num_per_class_1000.pt', map_location='cpu')\n",
    "model = models.get_model(train_params['params'])\n",
    "model.load_state_dict(train_params['state_dict'], strict=True)\n",
    "model = model.to(DEVICE)\n",
    "model.eval()"
   ]
  },
  {
   "cell_type": "code",
   "execution_count": 6,
   "metadata": {},
   "outputs": [],
   "source": [
    "#load reference from iucn\n",
    "with open(os.path.join('../data/eval/iucn/', 'iucn_res_5.json'), 'r') as f:\n",
    "            data = json.load(f)"
   ]
  },
  {
   "cell_type": "code",
   "execution_count": 7,
   "metadata": {},
   "outputs": [],
   "source": [
    "species_ids = list((data['taxa_presence'].keys()))"
   ]
  },
  {
   "cell_type": "code",
   "execution_count": 8,
   "metadata": {},
   "outputs": [
    {
     "data": {
      "text/plain": [
       "2418"
      ]
     },
     "execution_count": 8,
     "metadata": {},
     "output_type": "execute_result"
    }
   ],
   "source": [
    "len(species_ids)"
   ]
  },
  {
   "cell_type": "code",
   "execution_count": 9,
   "metadata": {},
   "outputs": [],
   "source": [
    "if train_params['params']['input_enc'] in ['env', 'sin_cos_env']:\n",
    "    raster = datasets.load_env()\n",
    "else:\n",
    "    raster = None\n",
    "enc = utils.CoordEncoder(train_params['params']['input_enc'], raster=raster)"
   ]
  },
  {
   "cell_type": "code",
   "execution_count": 10,
   "metadata": {},
   "outputs": [],
   "source": [
    "# Define the number of points\n",
    "num_long_points = 8\n",
    "num_lat_points = 16"
   ]
  },
  {
   "cell_type": "code",
   "execution_count": 11,
   "metadata": {},
   "outputs": [],
   "source": [
    "# Generate list of tuples with evenly spaced points\n",
    "lowres_locs = [[x, y] for x in range(-180, 180, 360 // num_lat_points) for y in range(-90, 91, 180 // num_long_points)]"
   ]
  },
  {
   "cell_type": "code",
   "execution_count": 12,
   "metadata": {},
   "outputs": [
    {
     "data": {
      "text/plain": [
       "153"
      ]
     },
     "execution_count": 12,
     "metadata": {},
     "output_type": "execute_result"
    }
   ],
   "source": [
    "len(lowres_locs)"
   ]
  },
  {
   "cell_type": "code",
   "execution_count": 13,
   "metadata": {},
   "outputs": [],
   "source": [
    "obs_locs = np.array(lowres_locs, dtype=np.float32)\n",
    "obs_locs = torch.from_numpy(obs_locs).to('cpu')\n",
    "loc_feat = enc.encode(obs_locs)"
   ]
  },
  {
   "cell_type": "code",
   "execution_count": 14,
   "metadata": {},
   "outputs": [
    {
     "data": {
      "text/plain": [
       "tensor([[-1.0000, -1.0000],\n",
       "        [-1.0000, -0.7556],\n",
       "        [-1.0000, -0.5111],\n",
       "        [-1.0000, -0.2667],\n",
       "        [-1.0000, -0.0222],\n",
       "        [-1.0000,  0.2222],\n",
       "        [-1.0000,  0.4667],\n",
       "        [-1.0000,  0.7111],\n",
       "        [-1.0000,  0.9556],\n",
       "        [-0.8778, -1.0000],\n",
       "        [-0.8778, -0.7556],\n",
       "        [-0.8778, -0.5111],\n",
       "        [-0.8778, -0.2667],\n",
       "        [-0.8778, -0.0222],\n",
       "        [-0.8778,  0.2222],\n",
       "        [-0.8778,  0.4667],\n",
       "        [-0.8778,  0.7111],\n",
       "        [-0.8778,  0.9556],\n",
       "        [-0.7556, -1.0000],\n",
       "        [-0.7556, -0.7556],\n",
       "        [-0.7556, -0.5111],\n",
       "        [-0.7556, -0.2667],\n",
       "        [-0.7556, -0.0222],\n",
       "        [-0.7556,  0.2222],\n",
       "        [-0.7556,  0.4667],\n",
       "        [-0.7556,  0.7111],\n",
       "        [-0.7556,  0.9556],\n",
       "        [-0.6333, -1.0000],\n",
       "        [-0.6333, -0.7556],\n",
       "        [-0.6333, -0.5111],\n",
       "        [-0.6333, -0.2667],\n",
       "        [-0.6333, -0.0222],\n",
       "        [-0.6333,  0.2222],\n",
       "        [-0.6333,  0.4667],\n",
       "        [-0.6333,  0.7111],\n",
       "        [-0.6333,  0.9556],\n",
       "        [-0.5111, -1.0000],\n",
       "        [-0.5111, -0.7556],\n",
       "        [-0.5111, -0.5111],\n",
       "        [-0.5111, -0.2667],\n",
       "        [-0.5111, -0.0222],\n",
       "        [-0.5111,  0.2222],\n",
       "        [-0.5111,  0.4667],\n",
       "        [-0.5111,  0.7111],\n",
       "        [-0.5111,  0.9556],\n",
       "        [-0.3889, -1.0000],\n",
       "        [-0.3889, -0.7556],\n",
       "        [-0.3889, -0.5111],\n",
       "        [-0.3889, -0.2667],\n",
       "        [-0.3889, -0.0222],\n",
       "        [-0.3889,  0.2222],\n",
       "        [-0.3889,  0.4667],\n",
       "        [-0.3889,  0.7111],\n",
       "        [-0.3889,  0.9556],\n",
       "        [-0.2667, -1.0000],\n",
       "        [-0.2667, -0.7556],\n",
       "        [-0.2667, -0.5111],\n",
       "        [-0.2667, -0.2667],\n",
       "        [-0.2667, -0.0222],\n",
       "        [-0.2667,  0.2222],\n",
       "        [-0.2667,  0.4667],\n",
       "        [-0.2667,  0.7111],\n",
       "        [-0.2667,  0.9556],\n",
       "        [-0.1444, -1.0000],\n",
       "        [-0.1444, -0.7556],\n",
       "        [-0.1444, -0.5111],\n",
       "        [-0.1444, -0.2667],\n",
       "        [-0.1444, -0.0222],\n",
       "        [-0.1444,  0.2222],\n",
       "        [-0.1444,  0.4667],\n",
       "        [-0.1444,  0.7111],\n",
       "        [-0.1444,  0.9556],\n",
       "        [-0.0222, -1.0000],\n",
       "        [-0.0222, -0.7556],\n",
       "        [-0.0222, -0.5111],\n",
       "        [-0.0222, -0.2667],\n",
       "        [-0.0222, -0.0222],\n",
       "        [-0.0222,  0.2222],\n",
       "        [-0.0222,  0.4667],\n",
       "        [-0.0222,  0.7111],\n",
       "        [-0.0222,  0.9556],\n",
       "        [ 0.1000, -1.0000],\n",
       "        [ 0.1000, -0.7556],\n",
       "        [ 0.1000, -0.5111],\n",
       "        [ 0.1000, -0.2667],\n",
       "        [ 0.1000, -0.0222],\n",
       "        [ 0.1000,  0.2222],\n",
       "        [ 0.1000,  0.4667],\n",
       "        [ 0.1000,  0.7111],\n",
       "        [ 0.1000,  0.9556],\n",
       "        [ 0.2222, -1.0000],\n",
       "        [ 0.2222, -0.7556],\n",
       "        [ 0.2222, -0.5111],\n",
       "        [ 0.2222, -0.2667],\n",
       "        [ 0.2222, -0.0222],\n",
       "        [ 0.2222,  0.2222],\n",
       "        [ 0.2222,  0.4667],\n",
       "        [ 0.2222,  0.7111],\n",
       "        [ 0.2222,  0.9556],\n",
       "        [ 0.3444, -1.0000],\n",
       "        [ 0.3444, -0.7556],\n",
       "        [ 0.3444, -0.5111],\n",
       "        [ 0.3444, -0.2667],\n",
       "        [ 0.3444, -0.0222],\n",
       "        [ 0.3444,  0.2222],\n",
       "        [ 0.3444,  0.4667],\n",
       "        [ 0.3444,  0.7111],\n",
       "        [ 0.3444,  0.9556],\n",
       "        [ 0.4667, -1.0000],\n",
       "        [ 0.4667, -0.7556],\n",
       "        [ 0.4667, -0.5111],\n",
       "        [ 0.4667, -0.2667],\n",
       "        [ 0.4667, -0.0222],\n",
       "        [ 0.4667,  0.2222],\n",
       "        [ 0.4667,  0.4667],\n",
       "        [ 0.4667,  0.7111],\n",
       "        [ 0.4667,  0.9556],\n",
       "        [ 0.5889, -1.0000],\n",
       "        [ 0.5889, -0.7556],\n",
       "        [ 0.5889, -0.5111],\n",
       "        [ 0.5889, -0.2667],\n",
       "        [ 0.5889, -0.0222],\n",
       "        [ 0.5889,  0.2222],\n",
       "        [ 0.5889,  0.4667],\n",
       "        [ 0.5889,  0.7111],\n",
       "        [ 0.5889,  0.9556],\n",
       "        [ 0.7111, -1.0000],\n",
       "        [ 0.7111, -0.7556],\n",
       "        [ 0.7111, -0.5111],\n",
       "        [ 0.7111, -0.2667],\n",
       "        [ 0.7111, -0.0222],\n",
       "        [ 0.7111,  0.2222],\n",
       "        [ 0.7111,  0.4667],\n",
       "        [ 0.7111,  0.7111],\n",
       "        [ 0.7111,  0.9556],\n",
       "        [ 0.8333, -1.0000],\n",
       "        [ 0.8333, -0.7556],\n",
       "        [ 0.8333, -0.5111],\n",
       "        [ 0.8333, -0.2667],\n",
       "        [ 0.8333, -0.0222],\n",
       "        [ 0.8333,  0.2222],\n",
       "        [ 0.8333,  0.4667],\n",
       "        [ 0.8333,  0.7111],\n",
       "        [ 0.8333,  0.9556],\n",
       "        [ 0.9556, -1.0000],\n",
       "        [ 0.9556, -0.7556],\n",
       "        [ 0.9556, -0.5111],\n",
       "        [ 0.9556, -0.2667],\n",
       "        [ 0.9556, -0.0222],\n",
       "        [ 0.9556,  0.2222],\n",
       "        [ 0.9556,  0.4667],\n",
       "        [ 0.9556,  0.7111],\n",
       "        [ 0.9556,  0.9556]])"
      ]
     },
     "execution_count": 14,
     "metadata": {},
     "output_type": "execute_result"
    }
   ],
   "source": [
    "obs_locs"
   ]
  },
  {
   "cell_type": "code",
   "execution_count": 15,
   "metadata": {},
   "outputs": [
    {
     "data": {
      "text/plain": [
       "tensor([[ 8.7423e-08,  8.7423e-08, -1.0000e+00, -1.0000e+00],\n",
       "        [ 8.7423e-08, -6.9466e-01, -1.0000e+00, -7.1934e-01],\n",
       "        [ 8.7423e-08, -9.9939e-01, -1.0000e+00, -3.4900e-02],\n",
       "        [ 8.7423e-08, -7.4314e-01, -1.0000e+00,  6.6913e-01],\n",
       "        [ 8.7423e-08, -6.9756e-02, -1.0000e+00,  9.9756e-01],\n",
       "        [ 8.7423e-08,  6.4279e-01, -1.0000e+00,  7.6604e-01],\n",
       "        [ 8.7423e-08,  9.9452e-01, -1.0000e+00,  1.0453e-01],\n",
       "        [ 8.7423e-08,  7.8801e-01, -1.0000e+00, -6.1566e-01],\n",
       "        [ 8.7423e-08,  1.3917e-01, -1.0000e+00, -9.9027e-01],\n",
       "        [-3.7461e-01,  8.7423e-08, -9.2718e-01, -1.0000e+00],\n",
       "        [-3.7461e-01, -6.9466e-01, -9.2718e-01, -7.1934e-01],\n",
       "        [-3.7461e-01, -9.9939e-01, -9.2718e-01, -3.4900e-02],\n",
       "        [-3.7461e-01, -7.4314e-01, -9.2718e-01,  6.6913e-01],\n",
       "        [-3.7461e-01, -6.9756e-02, -9.2718e-01,  9.9756e-01],\n",
       "        [-3.7461e-01,  6.4279e-01, -9.2718e-01,  7.6604e-01],\n",
       "        [-3.7461e-01,  9.9452e-01, -9.2718e-01,  1.0453e-01],\n",
       "        [-3.7461e-01,  7.8801e-01, -9.2718e-01, -6.1566e-01],\n",
       "        [-3.7461e-01,  1.3917e-01, -9.2718e-01, -9.9027e-01],\n",
       "        [-6.9466e-01,  8.7423e-08, -7.1934e-01, -1.0000e+00],\n",
       "        [-6.9466e-01, -6.9466e-01, -7.1934e-01, -7.1934e-01],\n",
       "        [-6.9466e-01, -9.9939e-01, -7.1934e-01, -3.4900e-02],\n",
       "        [-6.9466e-01, -7.4314e-01, -7.1934e-01,  6.6913e-01],\n",
       "        [-6.9466e-01, -6.9756e-02, -7.1934e-01,  9.9756e-01],\n",
       "        [-6.9466e-01,  6.4279e-01, -7.1934e-01,  7.6604e-01],\n",
       "        [-6.9466e-01,  9.9452e-01, -7.1934e-01,  1.0453e-01],\n",
       "        [-6.9466e-01,  7.8801e-01, -7.1934e-01, -6.1566e-01],\n",
       "        [-6.9466e-01,  1.3917e-01, -7.1934e-01, -9.9027e-01],\n",
       "        [-9.1355e-01,  8.7423e-08, -4.0674e-01, -1.0000e+00],\n",
       "        [-9.1355e-01, -6.9466e-01, -4.0674e-01, -7.1934e-01],\n",
       "        [-9.1355e-01, -9.9939e-01, -4.0674e-01, -3.4900e-02],\n",
       "        [-9.1355e-01, -7.4314e-01, -4.0674e-01,  6.6913e-01],\n",
       "        [-9.1355e-01, -6.9756e-02, -4.0674e-01,  9.9756e-01],\n",
       "        [-9.1355e-01,  6.4279e-01, -4.0674e-01,  7.6604e-01],\n",
       "        [-9.1355e-01,  9.9452e-01, -4.0674e-01,  1.0453e-01],\n",
       "        [-9.1355e-01,  7.8801e-01, -4.0674e-01, -6.1566e-01],\n",
       "        [-9.1355e-01,  1.3917e-01, -4.0674e-01, -9.9027e-01],\n",
       "        [-9.9939e-01,  8.7423e-08, -3.4900e-02, -1.0000e+00],\n",
       "        [-9.9939e-01, -6.9466e-01, -3.4900e-02, -7.1934e-01],\n",
       "        [-9.9939e-01, -9.9939e-01, -3.4900e-02, -3.4900e-02],\n",
       "        [-9.9939e-01, -7.4314e-01, -3.4900e-02,  6.6913e-01],\n",
       "        [-9.9939e-01, -6.9756e-02, -3.4900e-02,  9.9756e-01],\n",
       "        [-9.9939e-01,  6.4279e-01, -3.4900e-02,  7.6604e-01],\n",
       "        [-9.9939e-01,  9.9452e-01, -3.4900e-02,  1.0453e-01],\n",
       "        [-9.9939e-01,  7.8801e-01, -3.4900e-02, -6.1566e-01],\n",
       "        [-9.9939e-01,  1.3917e-01, -3.4900e-02, -9.9027e-01],\n",
       "        [-9.3969e-01,  8.7423e-08,  3.4202e-01, -1.0000e+00],\n",
       "        [-9.3969e-01, -6.9466e-01,  3.4202e-01, -7.1934e-01],\n",
       "        [-9.3969e-01, -9.9939e-01,  3.4202e-01, -3.4900e-02],\n",
       "        [-9.3969e-01, -7.4314e-01,  3.4202e-01,  6.6913e-01],\n",
       "        [-9.3969e-01, -6.9756e-02,  3.4202e-01,  9.9756e-01],\n",
       "        [-9.3969e-01,  6.4279e-01,  3.4202e-01,  7.6604e-01],\n",
       "        [-9.3969e-01,  9.9452e-01,  3.4202e-01,  1.0453e-01],\n",
       "        [-9.3969e-01,  7.8801e-01,  3.4202e-01, -6.1566e-01],\n",
       "        [-9.3969e-01,  1.3917e-01,  3.4202e-01, -9.9027e-01],\n",
       "        [-7.4314e-01,  8.7423e-08,  6.6913e-01, -1.0000e+00],\n",
       "        [-7.4314e-01, -6.9466e-01,  6.6913e-01, -7.1934e-01],\n",
       "        [-7.4314e-01, -9.9939e-01,  6.6913e-01, -3.4900e-02],\n",
       "        [-7.4314e-01, -7.4314e-01,  6.6913e-01,  6.6913e-01],\n",
       "        [-7.4314e-01, -6.9756e-02,  6.6913e-01,  9.9756e-01],\n",
       "        [-7.4314e-01,  6.4279e-01,  6.6913e-01,  7.6604e-01],\n",
       "        [-7.4314e-01,  9.9452e-01,  6.6913e-01,  1.0453e-01],\n",
       "        [-7.4314e-01,  7.8801e-01,  6.6913e-01, -6.1566e-01],\n",
       "        [-7.4314e-01,  1.3917e-01,  6.6913e-01, -9.9027e-01],\n",
       "        [-4.3837e-01,  8.7423e-08,  8.9879e-01, -1.0000e+00],\n",
       "        [-4.3837e-01, -6.9466e-01,  8.9879e-01, -7.1934e-01],\n",
       "        [-4.3837e-01, -9.9939e-01,  8.9879e-01, -3.4900e-02],\n",
       "        [-4.3837e-01, -7.4314e-01,  8.9879e-01,  6.6913e-01],\n",
       "        [-4.3837e-01, -6.9756e-02,  8.9879e-01,  9.9756e-01],\n",
       "        [-4.3837e-01,  6.4279e-01,  8.9879e-01,  7.6604e-01],\n",
       "        [-4.3837e-01,  9.9452e-01,  8.9879e-01,  1.0453e-01],\n",
       "        [-4.3837e-01,  7.8801e-01,  8.9879e-01, -6.1566e-01],\n",
       "        [-4.3837e-01,  1.3917e-01,  8.9879e-01, -9.9027e-01],\n",
       "        [-6.9756e-02,  8.7423e-08,  9.9756e-01, -1.0000e+00],\n",
       "        [-6.9756e-02, -6.9466e-01,  9.9756e-01, -7.1934e-01],\n",
       "        [-6.9756e-02, -9.9939e-01,  9.9756e-01, -3.4900e-02],\n",
       "        [-6.9756e-02, -7.4314e-01,  9.9756e-01,  6.6913e-01],\n",
       "        [-6.9756e-02, -6.9756e-02,  9.9756e-01,  9.9756e-01],\n",
       "        [-6.9756e-02,  6.4279e-01,  9.9756e-01,  7.6604e-01],\n",
       "        [-6.9756e-02,  9.9452e-01,  9.9756e-01,  1.0453e-01],\n",
       "        [-6.9756e-02,  7.8801e-01,  9.9756e-01, -6.1566e-01],\n",
       "        [-6.9756e-02,  1.3917e-01,  9.9756e-01, -9.9027e-01],\n",
       "        [ 3.0902e-01,  8.7423e-08,  9.5106e-01, -1.0000e+00],\n",
       "        [ 3.0902e-01, -6.9466e-01,  9.5106e-01, -7.1934e-01],\n",
       "        [ 3.0902e-01, -9.9939e-01,  9.5106e-01, -3.4900e-02],\n",
       "        [ 3.0902e-01, -7.4314e-01,  9.5106e-01,  6.6913e-01],\n",
       "        [ 3.0902e-01, -6.9756e-02,  9.5106e-01,  9.9756e-01],\n",
       "        [ 3.0902e-01,  6.4279e-01,  9.5106e-01,  7.6604e-01],\n",
       "        [ 3.0902e-01,  9.9452e-01,  9.5106e-01,  1.0453e-01],\n",
       "        [ 3.0902e-01,  7.8801e-01,  9.5106e-01, -6.1566e-01],\n",
       "        [ 3.0902e-01,  1.3917e-01,  9.5106e-01, -9.9027e-01],\n",
       "        [ 6.4279e-01,  8.7423e-08,  7.6604e-01, -1.0000e+00],\n",
       "        [ 6.4279e-01, -6.9466e-01,  7.6604e-01, -7.1934e-01],\n",
       "        [ 6.4279e-01, -9.9939e-01,  7.6604e-01, -3.4900e-02],\n",
       "        [ 6.4279e-01, -7.4314e-01,  7.6604e-01,  6.6913e-01],\n",
       "        [ 6.4279e-01, -6.9756e-02,  7.6604e-01,  9.9756e-01],\n",
       "        [ 6.4279e-01,  6.4279e-01,  7.6604e-01,  7.6604e-01],\n",
       "        [ 6.4279e-01,  9.9452e-01,  7.6604e-01,  1.0453e-01],\n",
       "        [ 6.4279e-01,  7.8801e-01,  7.6604e-01, -6.1566e-01],\n",
       "        [ 6.4279e-01,  1.3917e-01,  7.6604e-01, -9.9027e-01],\n",
       "        [ 8.8295e-01,  8.7423e-08,  4.6947e-01, -1.0000e+00],\n",
       "        [ 8.8295e-01, -6.9466e-01,  4.6947e-01, -7.1934e-01],\n",
       "        [ 8.8295e-01, -9.9939e-01,  4.6947e-01, -3.4900e-02],\n",
       "        [ 8.8295e-01, -7.4314e-01,  4.6947e-01,  6.6913e-01],\n",
       "        [ 8.8295e-01, -6.9756e-02,  4.6947e-01,  9.9756e-01],\n",
       "        [ 8.8295e-01,  6.4279e-01,  4.6947e-01,  7.6604e-01],\n",
       "        [ 8.8295e-01,  9.9452e-01,  4.6947e-01,  1.0453e-01],\n",
       "        [ 8.8295e-01,  7.8801e-01,  4.6947e-01, -6.1566e-01],\n",
       "        [ 8.8295e-01,  1.3917e-01,  4.6947e-01, -9.9027e-01],\n",
       "        [ 9.9452e-01,  8.7423e-08,  1.0453e-01, -1.0000e+00],\n",
       "        [ 9.9452e-01, -6.9466e-01,  1.0453e-01, -7.1934e-01],\n",
       "        [ 9.9452e-01, -9.9939e-01,  1.0453e-01, -3.4900e-02],\n",
       "        [ 9.9452e-01, -7.4314e-01,  1.0453e-01,  6.6913e-01],\n",
       "        [ 9.9452e-01, -6.9756e-02,  1.0453e-01,  9.9756e-01],\n",
       "        [ 9.9452e-01,  6.4279e-01,  1.0453e-01,  7.6604e-01],\n",
       "        [ 9.9452e-01,  9.9452e-01,  1.0453e-01,  1.0453e-01],\n",
       "        [ 9.9452e-01,  7.8801e-01,  1.0453e-01, -6.1566e-01],\n",
       "        [ 9.9452e-01,  1.3917e-01,  1.0453e-01, -9.9027e-01],\n",
       "        [ 9.6126e-01,  8.7423e-08, -2.7564e-01, -1.0000e+00],\n",
       "        [ 9.6126e-01, -6.9466e-01, -2.7564e-01, -7.1934e-01],\n",
       "        [ 9.6126e-01, -9.9939e-01, -2.7564e-01, -3.4900e-02],\n",
       "        [ 9.6126e-01, -7.4314e-01, -2.7564e-01,  6.6913e-01],\n",
       "        [ 9.6126e-01, -6.9756e-02, -2.7564e-01,  9.9756e-01],\n",
       "        [ 9.6126e-01,  6.4279e-01, -2.7564e-01,  7.6604e-01],\n",
       "        [ 9.6126e-01,  9.9452e-01, -2.7564e-01,  1.0453e-01],\n",
       "        [ 9.6126e-01,  7.8801e-01, -2.7564e-01, -6.1566e-01],\n",
       "        [ 9.6126e-01,  1.3917e-01, -2.7564e-01, -9.9027e-01],\n",
       "        [ 7.8801e-01,  8.7423e-08, -6.1566e-01, -1.0000e+00],\n",
       "        [ 7.8801e-01, -6.9466e-01, -6.1566e-01, -7.1934e-01],\n",
       "        [ 7.8801e-01, -9.9939e-01, -6.1566e-01, -3.4900e-02],\n",
       "        [ 7.8801e-01, -7.4314e-01, -6.1566e-01,  6.6913e-01],\n",
       "        [ 7.8801e-01, -6.9756e-02, -6.1566e-01,  9.9756e-01],\n",
       "        [ 7.8801e-01,  6.4279e-01, -6.1566e-01,  7.6604e-01],\n",
       "        [ 7.8801e-01,  9.9452e-01, -6.1566e-01,  1.0453e-01],\n",
       "        [ 7.8801e-01,  7.8801e-01, -6.1566e-01, -6.1566e-01],\n",
       "        [ 7.8801e-01,  1.3917e-01, -6.1566e-01, -9.9027e-01],\n",
       "        [ 5.0000e-01,  8.7423e-08, -8.6603e-01, -1.0000e+00],\n",
       "        [ 5.0000e-01, -6.9466e-01, -8.6603e-01, -7.1934e-01],\n",
       "        [ 5.0000e-01, -9.9939e-01, -8.6603e-01, -3.4900e-02],\n",
       "        [ 5.0000e-01, -7.4314e-01, -8.6603e-01,  6.6913e-01],\n",
       "        [ 5.0000e-01, -6.9756e-02, -8.6603e-01,  9.9756e-01],\n",
       "        [ 5.0000e-01,  6.4279e-01, -8.6603e-01,  7.6604e-01],\n",
       "        [ 5.0000e-01,  9.9452e-01, -8.6603e-01,  1.0453e-01],\n",
       "        [ 5.0000e-01,  7.8801e-01, -8.6603e-01, -6.1566e-01],\n",
       "        [ 5.0000e-01,  1.3917e-01, -8.6603e-01, -9.9027e-01],\n",
       "        [ 1.3917e-01,  8.7423e-08, -9.9027e-01, -1.0000e+00],\n",
       "        [ 1.3917e-01, -6.9466e-01, -9.9027e-01, -7.1934e-01],\n",
       "        [ 1.3917e-01, -9.9939e-01, -9.9027e-01, -3.4900e-02],\n",
       "        [ 1.3917e-01, -7.4314e-01, -9.9027e-01,  6.6913e-01],\n",
       "        [ 1.3917e-01, -6.9756e-02, -9.9027e-01,  9.9756e-01],\n",
       "        [ 1.3917e-01,  6.4279e-01, -9.9027e-01,  7.6604e-01],\n",
       "        [ 1.3917e-01,  9.9452e-01, -9.9027e-01,  1.0453e-01],\n",
       "        [ 1.3917e-01,  7.8801e-01, -9.9027e-01, -6.1566e-01],\n",
       "        [ 1.3917e-01,  1.3917e-01, -9.9027e-01, -9.9027e-01]])"
      ]
     },
     "execution_count": 15,
     "metadata": {},
     "output_type": "execute_result"
    }
   ],
   "source": [
    "loc_feat"
   ]
  },
  {
   "cell_type": "code",
   "execution_count": 16,
   "metadata": {},
   "outputs": [],
   "source": [
    "classes_of_interest = torch.zeros(len(species_ids), dtype=torch.int64)\n",
    "taxa_ids = torch.zeros(len(species_ids), dtype=torch.int64)\n",
    "for tt_id, tt in enumerate(species_ids):\n",
    "    class_of_interest = np.array([train_params['params']['class_to_taxa'].index(int(tt))])\n",
    "    classes_of_interest[tt_id] = torch.from_numpy(class_of_interest)\n",
    "    taxa_ids[tt_id] = int(tt)"
   ]
  },
  {
   "cell_type": "code",
   "execution_count": 17,
   "metadata": {},
   "outputs": [],
   "source": [
    "with torch.no_grad():\n",
    "    loc_emb = model(loc_feat, return_feats=True)\n",
    "    wt = model.class_emb.weight[classes_of_interest, :]"
   ]
  },
  {
   "cell_type": "code",
   "execution_count": 18,
   "metadata": {},
   "outputs": [],
   "source": [
    "out_df = pd.DataFrame(columns=list(range(0,len(loc_emb))))\n",
    "\n",
    "for tt_id, taxa in enumerate(taxa_ids):\n",
    "    wt_1 = wt[tt_id,:]\n",
    "    preds = torch.sigmoid(torch.matmul(loc_emb, wt_1)).cpu().numpy()\n",
    "    out_df.loc[taxa.item()] = preds"
   ]
  },
  {
   "cell_type": "code",
   "execution_count": 19,
   "metadata": {},
   "outputs": [],
   "source": [
    "out_df.to_csv('../output/lowres_pred.csv')"
   ]
  },
  {
   "cell_type": "markdown",
   "metadata": {},
   "source": [
    "same but ocean mask"
   ]
  },
  {
   "cell_type": "code",
   "execution_count": 20,
   "metadata": {},
   "outputs": [
    {
     "data": {
      "text/plain": [
       "(1000, 2000)"
      ]
     },
     "execution_count": 20,
     "metadata": {},
     "output_type": "execute_result"
    }
   ],
   "source": [
    "mask = np.load('../data/masks/ocean_mask.npy')\n",
    "reduced_mask = mask[1:-1,2:-2]\n",
    "reduced_mask.shape"
   ]
  },
  {
   "cell_type": "code",
   "execution_count": 21,
   "metadata": {},
   "outputs": [],
   "source": [
    "pooling_factor_rows = reduced_mask.shape[0] // num_long_points\n",
    "pooling_factor_cols = reduced_mask.shape[1] // num_lat_points\n",
    "\n",
    "# Reshape and apply average pooling\n",
    "pooled_array = reduced_mask.reshape((num_long_points, pooling_factor_rows, num_lat_points, pooling_factor_cols)).mean(axis=(1, 3))\n",
    "\n",
    "# Apply thresholding to convert average values to 0 or 1\n",
    "threshold = 0.25\n",
    "binary_pooled_array = (pooled_array > threshold).astype(int)\n",
    "mask_inds = np.where(binary_pooled_array.reshape(-1) == 1)[0]"
   ]
  },
  {
   "cell_type": "code",
   "execution_count": 24,
   "metadata": {},
   "outputs": [],
   "source": [
    "locs = utils.coord_grid(binary_pooled_array.shape)\n",
    "locs = locs[mask_inds, :]"
   ]
  },
  {
   "cell_type": "code",
   "execution_count": 25,
   "metadata": {},
   "outputs": [],
   "source": [
    "obs_locs = np.array(locs, dtype=np.float32)\n",
    "obs_locs = torch.from_numpy(obs_locs).to('cpu')\n",
    "loc_feat = enc.encode(obs_locs)"
   ]
  },
  {
   "cell_type": "code",
   "execution_count": 26,
   "metadata": {},
   "outputs": [],
   "source": [
    "classes_of_interest = torch.zeros(len(species_ids), dtype=torch.int64)\n",
    "taxa_ids = torch.zeros(len(species_ids), dtype=torch.int64)\n",
    "for tt_id, tt in enumerate(species_ids):\n",
    "    class_of_interest = np.array([train_params['params']['class_to_taxa'].index(int(tt))])\n",
    "    classes_of_interest[tt_id] = torch.from_numpy(class_of_interest)\n",
    "    taxa_ids[tt_id] = int(tt)"
   ]
  },
  {
   "cell_type": "code",
   "execution_count": 27,
   "metadata": {},
   "outputs": [],
   "source": [
    "with torch.no_grad():\n",
    "    loc_emb = model(loc_feat, return_feats=True)\n",
    "    wt = model.class_emb.weight[classes_of_interest, :]"
   ]
  },
  {
   "cell_type": "code",
   "execution_count": 28,
   "metadata": {},
   "outputs": [],
   "source": [
    "out_df = pd.DataFrame(columns=list(range(0,len(loc_emb))))\n",
    "\n",
    "for tt_id, taxa in enumerate(taxa_ids):\n",
    "    wt_1 = wt[tt_id,:]\n",
    "    preds = torch.sigmoid(torch.matmul(loc_emb, wt_1)).cpu().numpy()\n",
    "    out_df.loc[taxa.item()] = preds"
   ]
  },
  {
   "cell_type": "code",
   "execution_count": 29,
   "metadata": {},
   "outputs": [],
   "source": [
    "out_df.to_csv('../output/lowres_oceanmask_pred.csv')"
   ]
  },
  {
   "cell_type": "code",
   "execution_count": 31,
   "metadata": {},
   "outputs": [
    {
     "data": {
      "text/plain": [
       "(48,)"
      ]
     },
     "execution_count": 31,
     "metadata": {},
     "output_type": "execute_result"
    }
   ],
   "source": [
    "preds.shape"
   ]
  },
  {
   "cell_type": "code",
   "execution_count": null,
   "metadata": {},
   "outputs": [],
   "source": []
  }
 ],
 "metadata": {
  "kernelspec": {
   "display_name": "sinr_icml",
   "language": "python",
   "name": "python3"
  },
  "language_info": {
   "codemirror_mode": {
    "name": "ipython",
    "version": 3
   },
   "file_extension": ".py",
   "mimetype": "text/x-python",
   "name": "python",
   "nbconvert_exporter": "python",
   "pygments_lexer": "ipython3",
   "version": "3.9.0"
  }
 },
 "nbformat": 4,
 "nbformat_minor": 2
}
