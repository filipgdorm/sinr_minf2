{
 "cells": [
  {
   "cell_type": "code",
   "execution_count": 1,
   "metadata": {},
   "outputs": [
    {
     "name": "stderr",
     "output_type": "stream",
     "text": [
      "/var/folders/pp/c6m9_85s5rd16hbzmflk4b9r0000gn/T/ipykernel_23711/762228682.py:2: DeprecationWarning: \n",
      "Pyarrow will become a required dependency of pandas in the next major release of pandas (pandas 3.0),\n",
      "(to allow more performant data types, such as the Arrow string type, and better interoperability with other libraries)\n",
      "but was not found to be installed on your system.\n",
      "If this would cause problems for you,\n",
      "please provide us feedback at https://github.com/pandas-dev/pandas/issues/54466\n",
      "        \n",
      "  import pandas as pd\n",
      "/Users/filipdorm/opt/anaconda3/envs/sinr_icml/lib/python3.9/site-packages/tqdm/auto.py:21: TqdmWarning: IProgress not found. Please update jupyter and ipywidgets. See https://ipywidgets.readthedocs.io/en/stable/user_install.html\n",
      "  from .autonotebook import tqdm as notebook_tqdm\n"
     ]
    }
   ],
   "source": [
    "#import torch\n",
    "import pandas as pd\n",
    "import numpy as np\n",
    "import json\n",
    "import os\n",
    "import sys\n",
    "from sklearn.metrics import f1_score\n",
    "import h3pandas\n",
    "import torch\n",
    "import h3\n",
    "from sklearn.metrics import precision_recall_curve\n",
    "\n",
    "#sys.path.append('../')\n",
    "import datasets\n",
    "import models\n",
    "import utils\n",
    "import setup"
   ]
  },
  {
   "cell_type": "markdown",
   "metadata": {},
   "source": [
    "get training data"
   ]
  },
  {
   "cell_type": "code",
   "execution_count": 2,
   "metadata": {},
   "outputs": [],
   "source": [
    "train_params = {}\n",
    "\n",
    "train_params['experiment_name'] = 'demo' # This will be the name of the directory where results for this run are saved.\n",
    "train_params['species_set'] = 'all'\n",
    "train_params['hard_cap_num_per_class'] = 1000\n",
    "train_params['num_aux_species'] = 0\n",
    "train_params['input_enc'] = 'sin_cos'\n",
    "train_params['loss'] = 'an_full'"
   ]
  },
  {
   "cell_type": "code",
   "execution_count": 3,
   "metadata": {},
   "outputs": [],
   "source": [
    "params = setup.get_default_params_train(train_params)"
   ]
  },
  {
   "cell_type": "code",
   "execution_count": 4,
   "metadata": {},
   "outputs": [
    {
     "name": "stdout",
     "output_type": "stream",
     "text": [
      "\n",
      "Loading  data/train/geo_prior_train.csv\n",
      "Number of unique classes 47375\n",
      "subsampling (up to) 1000 per class for the training set\n",
      "final training set size: 15132683\n"
     ]
    }
   ],
   "source": [
    "train_dataset = datasets.get_train_data(params)"
   ]
  },
  {
   "cell_type": "code",
   "execution_count": 5,
   "metadata": {},
   "outputs": [],
   "source": [
    "train_df = pd.DataFrame(train_dataset.locs, columns=['lng','lat'])\n",
    "train_df['lng'] = train_df['lng']*180\n",
    "train_df['lat'] = train_df['lat']*90\n",
    "train_df['label'] = train_dataset.labels"
   ]
  },
  {
   "cell_type": "code",
   "execution_count": 6,
   "metadata": {},
   "outputs": [],
   "source": [
    "train_df = train_df#[:100000]"
   ]
  },
  {
   "cell_type": "code",
   "execution_count": 7,
   "metadata": {},
   "outputs": [
    {
     "data": {
      "text/html": [
       "<div>\n",
       "<style scoped>\n",
       "    .dataframe tbody tr th:only-of-type {\n",
       "        vertical-align: middle;\n",
       "    }\n",
       "\n",
       "    .dataframe tbody tr th {\n",
       "        vertical-align: top;\n",
       "    }\n",
       "\n",
       "    .dataframe thead th {\n",
       "        text-align: right;\n",
       "    }\n",
       "</style>\n",
       "<table border=\"1\" class=\"dataframe\">\n",
       "  <thead>\n",
       "    <tr style=\"text-align: right;\">\n",
       "      <th></th>\n",
       "      <th>lng</th>\n",
       "      <th>lat</th>\n",
       "      <th>label</th>\n",
       "    </tr>\n",
       "  </thead>\n",
       "  <tbody>\n",
       "    <tr>\n",
       "      <th>0</th>\n",
       "      <td>-122.767303</td>\n",
       "      <td>38.609741</td>\n",
       "      <td>6009</td>\n",
       "    </tr>\n",
       "    <tr>\n",
       "      <th>1</th>\n",
       "      <td>27.187214</td>\n",
       "      <td>-25.719343</td>\n",
       "      <td>227</td>\n",
       "    </tr>\n",
       "    <tr>\n",
       "      <th>2</th>\n",
       "      <td>-154.493057</td>\n",
       "      <td>63.588753</td>\n",
       "      <td>18149</td>\n",
       "    </tr>\n",
       "    <tr>\n",
       "      <th>3</th>\n",
       "      <td>80.543846</td>\n",
       "      <td>24.323742</td>\n",
       "      <td>3161</td>\n",
       "    </tr>\n",
       "    <tr>\n",
       "      <th>4</th>\n",
       "      <td>-69.504318</td>\n",
       "      <td>-12.870047</td>\n",
       "      <td>6292</td>\n",
       "    </tr>\n",
       "    <tr>\n",
       "      <th>...</th>\n",
       "      <td>...</td>\n",
       "      <td>...</td>\n",
       "      <td>...</td>\n",
       "    </tr>\n",
       "    <tr>\n",
       "      <th>15132678</th>\n",
       "      <td>145.519882</td>\n",
       "      <td>-27.974419</td>\n",
       "      <td>2275</td>\n",
       "    </tr>\n",
       "    <tr>\n",
       "      <th>15132679</th>\n",
       "      <td>-81.656639</td>\n",
       "      <td>28.835541</td>\n",
       "      <td>15053</td>\n",
       "    </tr>\n",
       "    <tr>\n",
       "      <th>15132680</th>\n",
       "      <td>101.055000</td>\n",
       "      <td>41.953999</td>\n",
       "      <td>15708</td>\n",
       "    </tr>\n",
       "    <tr>\n",
       "      <th>15132681</th>\n",
       "      <td>150.319336</td>\n",
       "      <td>-33.666206</td>\n",
       "      <td>12001</td>\n",
       "    </tr>\n",
       "    <tr>\n",
       "      <th>15132682</th>\n",
       "      <td>-82.830399</td>\n",
       "      <td>28.064079</td>\n",
       "      <td>2546</td>\n",
       "    </tr>\n",
       "  </tbody>\n",
       "</table>\n",
       "<p>15132683 rows × 3 columns</p>\n",
       "</div>"
      ],
      "text/plain": [
       "                 lng        lat  label\n",
       "0        -122.767303  38.609741   6009\n",
       "1          27.187214 -25.719343    227\n",
       "2        -154.493057  63.588753  18149\n",
       "3          80.543846  24.323742   3161\n",
       "4         -69.504318 -12.870047   6292\n",
       "...              ...        ...    ...\n",
       "15132678  145.519882 -27.974419   2275\n",
       "15132679  -81.656639  28.835541  15053\n",
       "15132680  101.055000  41.953999  15708\n",
       "15132681  150.319336 -33.666206  12001\n",
       "15132682  -82.830399  28.064079   2546\n",
       "\n",
       "[15132683 rows x 3 columns]"
      ]
     },
     "execution_count": 7,
     "metadata": {},
     "output_type": "execute_result"
    }
   ],
   "source": [
    "train_df"
   ]
  },
  {
   "cell_type": "code",
   "execution_count": 8,
   "metadata": {},
   "outputs": [],
   "source": [
    "h3_resolution = 4\n",
    "train_df_h3 = train_df.h3.geo_to_h3(h3_resolution)\n",
    "all_spatial_grid_counts = train_df_h3.index.value_counts()\n",
    "presence_absence = pd.DataFrame({\n",
    "    \"background\": all_spatial_grid_counts,\n",
    "})\n",
    "presence_absence = presence_absence.fillna(0)"
   ]
  },
  {
   "cell_type": "code",
   "execution_count": 9,
   "metadata": {},
   "outputs": [],
   "source": [
    "desired_recall = 0.95\n",
    "resolution = h3_resolution\n",
    "area = h3.hex_area(resolution)"
   ]
  },
  {
   "cell_type": "code",
   "execution_count": 10,
   "metadata": {},
   "outputs": [
    {
     "data": {
      "text/plain": [
       "ResidualFCNet(\n",
       "  (class_emb): Linear(in_features=256, out_features=47375, bias=False)\n",
       "  (feats): Sequential(\n",
       "    (0): Linear(in_features=4, out_features=256, bias=True)\n",
       "    (1): ReLU(inplace=True)\n",
       "    (2): ResLayer(\n",
       "      (nonlin1): ReLU(inplace=True)\n",
       "      (nonlin2): ReLU(inplace=True)\n",
       "      (dropout1): Dropout(p=0.5, inplace=False)\n",
       "      (w1): Linear(in_features=256, out_features=256, bias=True)\n",
       "      (w2): Linear(in_features=256, out_features=256, bias=True)\n",
       "    )\n",
       "    (3): ResLayer(\n",
       "      (nonlin1): ReLU(inplace=True)\n",
       "      (nonlin2): ReLU(inplace=True)\n",
       "      (dropout1): Dropout(p=0.5, inplace=False)\n",
       "      (w1): Linear(in_features=256, out_features=256, bias=True)\n",
       "      (w2): Linear(in_features=256, out_features=256, bias=True)\n",
       "    )\n",
       "    (4): ResLayer(\n",
       "      (nonlin1): ReLU(inplace=True)\n",
       "      (nonlin2): ReLU(inplace=True)\n",
       "      (dropout1): Dropout(p=0.5, inplace=False)\n",
       "      (w1): Linear(in_features=256, out_features=256, bias=True)\n",
       "      (w2): Linear(in_features=256, out_features=256, bias=True)\n",
       "    )\n",
       "    (5): ResLayer(\n",
       "      (nonlin1): ReLU(inplace=True)\n",
       "      (nonlin2): ReLU(inplace=True)\n",
       "      (dropout1): Dropout(p=0.5, inplace=False)\n",
       "      (w1): Linear(in_features=256, out_features=256, bias=True)\n",
       "      (w2): Linear(in_features=256, out_features=256, bias=True)\n",
       "    )\n",
       "  )\n",
       ")"
      ]
     },
     "execution_count": 10,
     "metadata": {},
     "output_type": "execute_result"
    }
   ],
   "source": [
    "# load model\n",
    "DEVICE = torch.device('cuda' if torch.cuda.is_available() else 'cpu')\n",
    "train_params = torch.load('./pretrained_models/model_an_full_input_enc_sin_cos_hard_cap_num_per_class_1000.pt', map_location='cpu')\n",
    "model = models.get_model(train_params['params'])\n",
    "model.load_state_dict(train_params['state_dict'], strict=True)\n",
    "model = model.to(DEVICE)\n",
    "model.eval()"
   ]
  },
  {
   "cell_type": "code",
   "execution_count": 11,
   "metadata": {},
   "outputs": [],
   "source": [
    "if train_params['params']['input_enc'] in ['env', 'sin_cos_env']:\n",
    "    raster = datasets.load_env()\n",
    "else:\n",
    "    raster = None\n",
    "enc = utils.CoordEncoder(train_params['params']['input_enc'], raster=raster)"
   ]
  },
  {
   "cell_type": "code",
   "execution_count": null,
   "metadata": {},
   "outputs": [],
   "source": [
    "#load reference from iucn\n",
    "with open(os.path.join('./data/eval/iucn/', 'iucn_res_5.json'), 'r') as f:\n",
    "            data = json.load(f)\n",
    "species_ids = list((data['taxa_presence'].keys()))"
   ]
  },
  {
   "cell_type": "code",
   "execution_count": 12,
   "metadata": {},
   "outputs": [],
   "source": [
    "#load inat loc feat\n",
    "gdfk = pd.read_csv('./inat_loc_feat_thresh.csv', index_col=\"h3index\")\n"
   ]
  },
  {
   "cell_type": "code",
   "execution_count": null,
   "metadata": {},
   "outputs": [],
   "source": [
    "obs_locs = np.array(gdfk[['lng', 'lat']].values, dtype=np.float32)\n",
    "obs_locs = torch.from_numpy(obs_locs).to('cpu')\n",
    "loc_feat = enc.encode(obs_locs)"
   ]
  },
  {
   "cell_type": "code",
   "execution_count": 15,
   "metadata": {},
   "outputs": [],
   "source": [
    "\n",
    "classes_of_interest = torch.zeros(len(species_ids), dtype=torch.int64)\n",
    "#taxa_ids = torch.zeros(len(species_ids), dtype=torch.int64)\n",
    "for tt_id, tt in enumerate(species_ids):\n",
    "    class_of_interest = np.array([train_params['params']['class_to_taxa'].index(int(tt))])\n",
    "    classes_of_interest[tt_id] = torch.from_numpy(class_of_interest)\n",
    "    #taxa_ids[tt_id] = int(tt)"
   ]
  },
  {
   "cell_type": "code",
   "execution_count": 16,
   "metadata": {},
   "outputs": [],
   "source": [
    "#classes_of_interest = torch.from_numpy(np.array(list(set(train_df.label))))"
   ]
  },
  {
   "cell_type": "code",
   "execution_count": 17,
   "metadata": {},
   "outputs": [
    {
     "data": {
      "text/plain": [
       "tensor([ 2573,  2744,  2629,  ..., 47345, 47346, 47348])"
      ]
     },
     "execution_count": 17,
     "metadata": {},
     "output_type": "execute_result"
    }
   ],
   "source": [
    "classes_of_interest"
   ]
  },
  {
   "cell_type": "code",
   "execution_count": 18,
   "metadata": {},
   "outputs": [],
   "source": [
    "with torch.no_grad():\n",
    "    loc_emb = model(loc_feat, return_feats=True)\n",
    "    wt = model.class_emb.weight[classes_of_interest, :]"
   ]
  },
  {
   "cell_type": "code",
   "execution_count": 21,
   "metadata": {},
   "outputs": [
    {
     "name": "stdout",
     "output_type": "stream",
     "text": [
      "0\n",
      "100\n",
      "200\n",
      "300\n",
      "400\n",
      "500\n",
      "600\n",
      "700\n",
      "800\n",
      "900\n",
      "1000\n",
      "1100\n",
      "1200\n",
      "1300\n",
      "1400\n",
      "1500\n",
      "1600\n",
      "1700\n",
      "1800\n",
      "1900\n",
      "2000\n",
      "2100\n",
      "2200\n",
      "2300\n",
      "2400\n"
     ]
    }
   ],
   "source": [
    "output = []\n",
    "for class_index, class_id in enumerate(classes_of_interest):\n",
    "    wt_1 = wt[class_index,:]\n",
    "    preds = torch.sigmoid(torch.matmul(loc_emb, wt_1)).cpu().numpy()\n",
    "    gdfk[\"pred\"] = preds\n",
    "\n",
    "    target_spatial_grid_counts = train_df_h3[train_df_h3.label==class_id.item()].index.value_counts()\n",
    "    presences = gdfk.loc[target_spatial_grid_counts.index][\"pred\"]\n",
    "    if len(presences) == 0:\n",
    "                print(\"not present\")\n",
    "                continue\n",
    "    presence_absence[\"forground\"] = target_spatial_grid_counts\n",
    "    presence_absence[\"predictions\"] = gdfk[\"pred\"]\n",
    "    presence_absence.forground = presence_absence.forground.fillna(0)\n",
    "    yield_cutoff = np.percentile((presence_absence[\"background\"]/presence_absence[\"forground\"])[presence_absence[\"forground\"]>0], 95)\n",
    "    absences = presence_absence[(presence_absence[\"forground\"]==0) & (presence_absence[\"background\"] > yield_cutoff)][\"predictions\"]\n",
    "    presences = presence_absence[(presence_absence[\"forground\"]>0)][\"predictions\"]\n",
    "    df_x = pd.DataFrame({'predictions': presences, 'test': 1})\n",
    "    df_y = pd.DataFrame({'predictions': absences, 'test': 0})\n",
    "    for_thres = pd.concat([df_x, df_y], ignore_index=False)\n",
    "    precision, recall, thresholds = precision_recall_curve(for_thres.test, for_thres.predictions)\n",
    "    p1 = (2 * precision * recall)\n",
    "    p2 = (precision + recall)\n",
    "    out = np.zeros( (len(p1)) )\n",
    "    fscore = np.divide(p1,p2, out=out, where=p2!=0)\n",
    "    index = np.argmax(fscore)\n",
    "    thres = thresholds[index]\n",
    "\n",
    "    #store daa\n",
    "    row = {\n",
    "        \"taxon_id\": train_dataset.class_to_taxa[class_id.item()],   ### may be wrong\n",
    "        \"thres\": thres,\n",
    "        \"area\": len(gdfk[gdfk.pred >= thres])*area\n",
    "    }\n",
    "    row_dict = dict(row)\n",
    "    output.append(row_dict)\n",
    "\n",
    "    if(class_index%100==0):\n",
    "            print(class_index)\n",
    "\n",
    "output_pd = pd.DataFrame(output)\n",
    "    "
   ]
  },
  {
   "cell_type": "code",
   "execution_count": 22,
   "metadata": {},
   "outputs": [],
   "source": [
    "output_pd.to_csv(\"./inat_thresholds_v2.csv\")\n"
   ]
  },
  {
   "cell_type": "code",
   "execution_count": null,
   "metadata": {},
   "outputs": [],
   "source": []
  }
 ],
 "metadata": {
  "kernelspec": {
   "display_name": "sinr_icml_og",
   "language": "python",
   "name": "python3"
  },
  "language_info": {
   "codemirror_mode": {
    "name": "ipython",
    "version": 3
   },
   "file_extension": ".py",
   "mimetype": "text/x-python",
   "name": "python",
   "nbconvert_exporter": "python",
   "pygments_lexer": "ipython3",
   "version": "3.9.0"
  }
 },
 "nbformat": 4,
 "nbformat_minor": 2
}
