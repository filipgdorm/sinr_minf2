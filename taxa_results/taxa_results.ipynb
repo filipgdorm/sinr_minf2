{
 "cells": [
  {
   "cell_type": "code",
   "execution_count": 1,
   "metadata": {},
   "outputs": [],
   "source": [
    "import pandas as pd\n",
    "import numpy as np\n",
    "import matplotlib.pyplot as plt"
   ]
  },
  {
   "cell_type": "code",
   "execution_count": 2,
   "metadata": {},
   "outputs": [],
   "source": [
    "inat_names = pd.read_csv('../other_data/species_info_data/taxa_meta.csv', index_col='taxon_id')[['name']].reset_index()\n",
    "full_iucn = pd.read_csv('../other_data/species_info_data/full_iucn_set.csv')[[\"scientificName\",\t\"kingdomName\",\t\"phylumName\",\t\"orderName\",\t\"className\",\t\"familyName\",\t\"genusName\"]]"
   ]
  },
  {
   "cell_type": "markdown",
   "metadata": {},
   "source": [
    "## tgt method"
   ]
  },
  {
   "cell_type": "code",
   "execution_count": 3,
   "metadata": {},
   "outputs": [],
   "source": [
    "tgt_df = pd.read_csv(\"../core_experiments/tgt_background_results/an_full_1000/thresholds.csv\", index_col=0)\n",
    "tgt_results = np.load(\"../core_experiments/tgt_background_results/an_full_1000/f1_scores.npy\")\n",
    "tgt_df[\"fscore\"] = tgt_results"
   ]
  },
  {
   "cell_type": "code",
   "execution_count": 4,
   "metadata": {},
   "outputs": [],
   "source": [
    "tgt_df = tgt_df.merge(inat_names, on=\"taxon_id\").merge(full_iucn, left_on=\"name\", right_on=\"scientificName\")\n",
    "data1 =tgt_df.groupby(\"className\")[\"fscore\"].mean()"
   ]
  },
  {
   "cell_type": "markdown",
   "metadata": {},
   "source": [
    "## masking method"
   ]
  },
  {
   "cell_type": "code",
   "execution_count": 5,
   "metadata": {},
   "outputs": [],
   "source": [
    "mask_df = pd.read_csv(\"../core_experiments/masking_results/an_full_1000/thresholds.csv\", index_col=0)\n",
    "mask_results = np.load(\"../core_experiments/masking_results/an_full_1000/f1_scores.npy\")\n",
    "mask_df[\"fscore\"] = mask_results"
   ]
  },
  {
   "cell_type": "code",
   "execution_count": 6,
   "metadata": {},
   "outputs": [],
   "source": [
    "mask_df = mask_df.merge(inat_names, on=\"taxon_id\").merge(full_iucn, left_on=\"name\", right_on=\"scientificName\")\n",
    "data2 =mask_df.groupby(\"className\")[\"fscore\"].mean()"
   ]
  },
  {
   "cell_type": "markdown",
   "metadata": {},
   "source": [
    "## random method"
   ]
  },
  {
   "cell_type": "code",
   "execution_count": 7,
   "metadata": {},
   "outputs": [],
   "source": [
    "rdm_df = pd.read_csv(\"../core_experiments/rdm_background_results/an_full_1000/thresholds.csv\", index_col=0)\n",
    "rdm_results = np.load(\"../core_experiments/rdm_background_results/an_full_1000/f1_scores.npy\")\n",
    "rdm_df[\"fscore\"] = rdm_results"
   ]
  },
  {
   "cell_type": "code",
   "execution_count": 8,
   "metadata": {},
   "outputs": [],
   "source": [
    "rdm_df = rdm_df.merge(inat_names, on=\"taxon_id\").merge(full_iucn, left_on=\"name\", right_on=\"scientificName\")\n",
    "data3 =rdm_df.groupby(\"className\")[\"fscore\"].mean()"
   ]
  },
  {
   "cell_type": "markdown",
   "metadata": {},
   "source": [
    "## upper bound"
   ]
  },
  {
   "cell_type": "code",
   "execution_count": 9,
   "metadata": {},
   "outputs": [],
   "source": [
    "up_df = pd.read_csv(\"../raw_performance/new_results/an_full_1000/scores.csv\", index_col=0)"
   ]
  },
  {
   "cell_type": "code",
   "execution_count": 10,
   "metadata": {},
   "outputs": [],
   "source": [
    "up_df = up_df.merge(inat_names, on=\"taxon_id\").merge(full_iucn, left_on=\"name\", right_on=\"scientificName\")\n",
    "data4 = up_df.groupby(\"className\")[\"fscore\"].mean()"
   ]
  },
  {
   "cell_type": "code",
   "execution_count": 11,
   "metadata": {},
   "outputs": [
    {
     "data": {
      "text/plain": [
       "0.6645329395889287"
      ]
     },
     "execution_count": 11,
     "metadata": {},
     "output_type": "execute_result"
    }
   ],
   "source": [
    "up_df.fscore.mean()"
   ]
  },
  {
   "cell_type": "code",
   "execution_count": 23,
   "metadata": {},
   "outputs": [
    {
     "data": {
      "image/png": "[encoded data removed]",
      "text/plain": [
       "<Figure size 480.315x275.591 with 1 Axes>"
      ]
     },
     "metadata": {},
     "output_type": "display_data"
    }
   ],
   "source": [
    "cm = 1/2.54  # centimeters in inches\n",
    "\n",
    "# Combine the Series into a DataFrame\n",
    "df = pd.DataFrame({\n",
    "    'Target Sampling': data1,\n",
    "    'LPT-R': data2,\n",
    "    'Random Sampling': data3,\n",
    "    'Upper Bound': data4\n",
    "})\n",
    "colors = [\"#F97A1F\", \"#006BA2\",\t\"#FBD051\", \"darkgray\"]\n",
    "\n",
    "# Plot the DataFrame\n",
    "ax = df.plot(kind='bar', figsize=(12.2*cm, 7*cm), color=colors)\n",
    "ax.set_ylabel(\"Mean F1 Score\")\n",
    "#ax.set_title(\"Grouped Bar Plot\")\n",
    "plt.xticks(rotation=0)\n",
    "plt.legend(loc=\"lower right\")\n",
    "ax.set_xticklabels(['Amphibia', 'Aves', 'Mammalia', 'Reptilia'])  # Custom x-axis labels\n",
    "ax.set_xlabel(\"\")\n",
    "\n",
    "\n",
    "plt.savefig('./iconic_performance.pdf',bbox_inches='tight')\n",
    "plt.show()"
   ]
  },
  {
   "cell_type": "code",
   "execution_count": null,
   "metadata": {},
   "outputs": [],
   "source": []
  }
 ],
 "metadata": {
  "kernelspec": {
   "display_name": "sinr_icml_og",
   "language": "python",
   "name": "python3"
  },
  "language_info": {
   "codemirror_mode": {
    "name": "ipython",
    "version": 3
   },
   "file_extension": ".py",
   "mimetype": "text/x-python",
   "name": "python",
   "nbconvert_exporter": "python",
   "pygments_lexer": "ipython3",
   "version": "3.9.0"
  }
 },
 "nbformat": 4,
 "nbformat_minor": 2
}
