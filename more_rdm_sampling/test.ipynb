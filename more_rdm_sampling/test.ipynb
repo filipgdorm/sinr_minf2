{
 "cells": [
  {
   "cell_type": "code",
   "execution_count": 1,
   "metadata": {},
   "outputs": [
    {
     "name": "stderr",
     "output_type": "stream",
     "text": [
      "/Users/filipdorm/opt/anaconda3/envs/sinr_icml_og/lib/python3.9/site-packages/tqdm/auto.py:21: TqdmWarning: IProgress not found. Please update jupyter and ipywidgets. See https://ipywidgets.readthedocs.io/en/stable/user_install.html\n",
      "  from .autonotebook import tqdm as notebook_tqdm\n"
     ]
    }
   ],
   "source": [
    "import pandas as pd\n",
    "import numpy as np\n",
    "import json\n",
    "import os\n",
    "import sys\n",
    "from sklearn.metrics import f1_score\n",
    "import h3pandas\n",
    "import torch\n",
    "import h3\n",
    "from sklearn.metrics import precision_recall_curve\n",
    "import argparse\n",
    "from tqdm import tqdm\n",
    "\n",
    "sys.path.append('../')\n",
    "import datasets\n",
    "import models\n",
    "import utils\n",
    "import setup\n"
   ]
  },
  {
   "cell_type": "code",
   "execution_count": 2,
   "metadata": {},
   "outputs": [
    {
     "data": {
      "text/plain": [
       "ResidualFCNet(\n",
       "  (class_emb): Linear(in_features=256, out_features=47375, bias=False)\n",
       "  (feats): Sequential(\n",
       "    (0): Linear(in_features=4, out_features=256, bias=True)\n",
       "    (1): ReLU(inplace=True)\n",
       "    (2): ResLayer(\n",
       "      (nonlin1): ReLU(inplace=True)\n",
       "      (nonlin2): ReLU(inplace=True)\n",
       "      (dropout1): Dropout(p=0.5, inplace=False)\n",
       "      (w1): Linear(in_features=256, out_features=256, bias=True)\n",
       "      (w2): Linear(in_features=256, out_features=256, bias=True)\n",
       "    )\n",
       "    (3): ResLayer(\n",
       "      (nonlin1): ReLU(inplace=True)\n",
       "      (nonlin2): ReLU(inplace=True)\n",
       "      (dropout1): Dropout(p=0.5, inplace=False)\n",
       "      (w1): Linear(in_features=256, out_features=256, bias=True)\n",
       "      (w2): Linear(in_features=256, out_features=256, bias=True)\n",
       "    )\n",
       "    (4): ResLayer(\n",
       "      (nonlin1): ReLU(inplace=True)\n",
       "      (nonlin2): ReLU(inplace=True)\n",
       "      (dropout1): Dropout(p=0.5, inplace=False)\n",
       "      (w1): Linear(in_features=256, out_features=256, bias=True)\n",
       "      (w2): Linear(in_features=256, out_features=256, bias=True)\n",
       "    )\n",
       "    (5): ResLayer(\n",
       "      (nonlin1): ReLU(inplace=True)\n",
       "      (nonlin2): ReLU(inplace=True)\n",
       "      (dropout1): Dropout(p=0.5, inplace=False)\n",
       "      (w1): Linear(in_features=256, out_features=256, bias=True)\n",
       "      (w2): Linear(in_features=256, out_features=256, bias=True)\n",
       "    )\n",
       "  )\n",
       ")"
      ]
     },
     "execution_count": 2,
     "metadata": {},
     "output_type": "execute_result"
    }
   ],
   "source": [
    "MODEL_PATH = \"../pretrained_models/model_an_full_input_enc_sin_cos_hard_cap_num_per_class_1000.pt\"\n",
    "train_df_h3 = pd.read_csv(\"../pseudo_absence_generation_data/train_df_h3.csv\", index_col=0)\n",
    "gdfk = pd.read_csv(\"../pseudo_absence_generation_data/gdfk_res3.csv\", index_col=0)\n",
    "all_spatial_grid_counts = train_df_h3.index.value_counts()\n",
    "presence_absence = pd.DataFrame({\n",
    "    \"background\": all_spatial_grid_counts,\n",
    "})\n",
    "presence_absence = presence_absence.fillna(0)\n",
    "\n",
    "DEVICE = torch.device('cuda' if torch.cuda.is_available() else 'cpu')\n",
    "train_params = torch.load(MODEL_PATH, map_location='cpu')\n",
    "model = models.get_model(train_params['params'])\n",
    "model.load_state_dict(train_params['state_dict'], strict=True)\n",
    "model = model.to(DEVICE)\n",
    "model.eval()"
   ]
  },
  {
   "cell_type": "code",
   "execution_count": 3,
   "metadata": {},
   "outputs": [],
   "source": [
    "\n",
    "if train_params['params']['input_enc'] in ['env', 'sin_cos_env']:\n",
    "    raster = datasets.load_env()\n",
    "else:\n",
    "    raster = None\n",
    "enc = utils.CoordEncoder(train_params['params']['input_enc'], raster=raster)\n",
    "\n",
    "#load reference from iucn\n",
    "with open(os.path.join('../data/eval/iucn/', 'iucn_res_5.json'), 'r') as f:\n",
    "            data = json.load(f)\n",
    "species_ids = list((data['taxa_presence'].keys()))\n",
    "\n",
    "obs_locs = np.array(gdfk[['lng', 'lat']].values, dtype=np.float32)\n",
    "obs_locs = torch.from_numpy(obs_locs).to('cpu')\n",
    "loc_feat = enc.encode(obs_locs)\n",
    "\n",
    "classes_of_interest = torch.zeros(len(species_ids), dtype=torch.int64)\n",
    "for tt_id, tt in enumerate(species_ids):\n",
    "    class_of_interest = np.array([train_params['params']['class_to_taxa'].index(int(tt))])\n",
    "    classes_of_interest[tt_id] = torch.from_numpy(class_of_interest)\n",
    "\n",
    "with torch.no_grad():\n",
    "    loc_emb = model(loc_feat, return_feats=True)\n",
    "    wt = model.class_emb.weight[classes_of_interest, :]\n"
   ]
  },
  {
   "cell_type": "code",
   "execution_count": 10,
   "metadata": {},
   "outputs": [
    {
     "name": "stderr",
     "output_type": "stream",
     "text": [
      "  0%|          | 0/2418 [00:01<?, ?it/s]\n"
     ]
    }
   ],
   "source": [
    "size_factor = 1\n",
    "output = []\n",
    "for class_index, class_id in tqdm(enumerate(classes_of_interest), total=len(classes_of_interest)):\n",
    "    wt_1 = wt[class_index,:]\n",
    "    preds = torch.sigmoid(torch.matmul(loc_emb, wt_1)).cpu().numpy()\n",
    "    gdfk[\"pred\"] = preds\n",
    "\n",
    "    target_spatial_grid_counts = train_df_h3[train_df_h3.label==class_id.item()].index.value_counts()\n",
    "\n",
    "    presence_absence[\"forground\"] = target_spatial_grid_counts\n",
    "    presence_absence[\"predictions\"] = gdfk[\"pred\"]\n",
    "    presence_absence.forground = presence_absence.forground.fillna(0)\n",
    "\n",
    "    presences = presence_absence[(presence_absence[\"forground\"]>0)][\"predictions\"]\n",
    "    NUM_ABSENCES = size_factor * len(presences)\n",
    "    absences = presence_absence[(presence_absence[\"forground\"]==0)].sample(n=NUM_ABSENCES, random_state=42)[\"predictions\"]\n",
    "\n",
    "    df_x = pd.DataFrame({'predictions': presences, 'test': 1})\n",
    "    df_y = pd.DataFrame({'predictions': absences, 'test': 0})\n",
    "    for_thres = pd.concat([df_x, df_y], ignore_index=False)\n",
    "    precision, recall, thresholds = precision_recall_curve(for_thres.test, for_thres.predictions)\n",
    "    p1 = (2 * precision * recall)\n",
    "    p2 = (precision + recall)\n",
    "    out = np.zeros( (len(p1)) )\n",
    "    fscore = np.divide(p1,p2, out=out, where=p2!=0)\n",
    "    index = np.argmax(fscore)\n",
    "    thres = thresholds[index]\n",
    "    max_fscore = fscore[index]\n",
    "    \n",
    "    row = {\n",
    "        \"taxon_id\": species_ids[class_index],\n",
    "        \"thres\": thres,\n",
    "    }\n",
    "    row_dict = dict(row)\n",
    "    output.append(row_dict)\n",
    "    break\n",
    "\n"
   ]
  },
  {
   "cell_type": "code",
   "execution_count": null,
   "metadata": {},
   "outputs": [],
   "source": []
  }
 ],
 "metadata": {
  "kernelspec": {
   "display_name": "sinr_icml_og",
   "language": "python",
   "name": "python3"
  },
  "language_info": {
   "codemirror_mode": {
    "name": "ipython",
    "version": 3
   },
   "file_extension": ".py",
   "mimetype": "text/x-python",
   "name": "python",
   "nbconvert_exporter": "python",
   "pygments_lexer": "ipython3",
   "version": "3.9.0"
  }
 },
 "nbformat": 4,
 "nbformat_minor": 2
}
