{
 "cells": [
  {
   "cell_type": "code",
   "execution_count": 1,
   "metadata": {},
   "outputs": [
    {
     "name": "stderr",
     "output_type": "stream",
     "text": [
      "/Users/filipdorm/opt/anaconda3/envs/sinr_icml_og/lib/python3.9/site-packages/tqdm/auto.py:21: TqdmWarning: IProgress not found. Please update jupyter and ipywidgets. See https://ipywidgets.readthedocs.io/en/stable/user_install.html\n",
      "  from .autonotebook import tqdm as notebook_tqdm\n"
     ]
    }
   ],
   "source": [
    "#import torch\n",
    "import pandas as pd\n",
    "import numpy as np\n",
    "import json\n",
    "import os\n",
    "import sys\n",
    "from sklearn.metrics import f1_score\n",
    "import h3pandas\n",
    "import torch\n",
    "import h3\n",
    "from sklearn.metrics import precision_recall_curve\n",
    "from tqdm import tqdm\n",
    "\n",
    "sys.path.append('../')\n",
    "import datasets\n",
    "import models\n",
    "import utils\n",
    "import setup"
   ]
  },
  {
   "cell_type": "code",
   "execution_count": 2,
   "metadata": {},
   "outputs": [
    {
     "data": {
      "text/plain": [
       "ResidualFCNet(\n",
       "  (class_emb): Linear(in_features=256, out_features=47375, bias=False)\n",
       "  (feats): Sequential(\n",
       "    (0): Linear(in_features=4, out_features=256, bias=True)\n",
       "    (1): ReLU(inplace=True)\n",
       "    (2): ResLayer(\n",
       "      (nonlin1): ReLU(inplace=True)\n",
       "      (nonlin2): ReLU(inplace=True)\n",
       "      (dropout1): Dropout(p=0.5, inplace=False)\n",
       "      (w1): Linear(in_features=256, out_features=256, bias=True)\n",
       "      (w2): Linear(in_features=256, out_features=256, bias=True)\n",
       "    )\n",
       "    (3): ResLayer(\n",
       "      (nonlin1): ReLU(inplace=True)\n",
       "      (nonlin2): ReLU(inplace=True)\n",
       "      (dropout1): Dropout(p=0.5, inplace=False)\n",
       "      (w1): Linear(in_features=256, out_features=256, bias=True)\n",
       "      (w2): Linear(in_features=256, out_features=256, bias=True)\n",
       "    )\n",
       "    (4): ResLayer(\n",
       "      (nonlin1): ReLU(inplace=True)\n",
       "      (nonlin2): ReLU(inplace=True)\n",
       "      (dropout1): Dropout(p=0.5, inplace=False)\n",
       "      (w1): Linear(in_features=256, out_features=256, bias=True)\n",
       "      (w2): Linear(in_features=256, out_features=256, bias=True)\n",
       "    )\n",
       "    (5): ResLayer(\n",
       "      (nonlin1): ReLU(inplace=True)\n",
       "      (nonlin2): ReLU(inplace=True)\n",
       "      (dropout1): Dropout(p=0.5, inplace=False)\n",
       "      (w1): Linear(in_features=256, out_features=256, bias=True)\n",
       "      (w2): Linear(in_features=256, out_features=256, bias=True)\n",
       "    )\n",
       "  )\n",
       ")"
      ]
     },
     "execution_count": 2,
     "metadata": {},
     "output_type": "execute_result"
    }
   ],
   "source": [
    "# load model\n",
    "DEVICE = torch.device('cuda' if torch.cuda.is_available() else 'cpu')\n",
    "train_params = torch.load('../pretrained_models/model_an_full_input_enc_sin_cos_hard_cap_num_per_class_1000.pt', map_location='cpu')\n",
    "model = models.get_model(train_params['params'])\n",
    "model.load_state_dict(train_params['state_dict'], strict=True)\n",
    "model = model.to(DEVICE)\n",
    "model.eval()"
   ]
  },
  {
   "cell_type": "code",
   "execution_count": 3,
   "metadata": {},
   "outputs": [],
   "source": [
    "def find_mapping_between_models(vision_taxa, geo_taxa):\n",
    "    # this will output an array of size N_overlap X 2\n",
    "    # the first column will be the indices of the vision model, and the second is their\n",
    "    # corresponding index in the geo model\n",
    "    taxon_map = np.ones((vision_taxa.shape[0], 2), dtype=np.int32)*-1\n",
    "    taxon_map[:, 0] = np.arange(vision_taxa.shape[0])\n",
    "    geo_taxa_arr = np.array(geo_taxa)\n",
    "    for tt_id, tt in enumerate(vision_taxa):\n",
    "        ind = np.where(geo_taxa_arr==tt)[0]\n",
    "        if len(ind) > 0:\n",
    "            taxon_map[tt_id, 1] = ind[0]\n",
    "    inds = np.where(taxon_map[:, 1]>-1)[0]\n",
    "    taxon_map = taxon_map[inds, :]\n",
    "    return taxon_map\n",
    "\n",
    "def convert_to_inat_vision_order(geo_pred_ip, vision_top_k_prob, vision_top_k_inds, vision_taxa, taxon_map):\n",
    "        # this is slow as we turn the sparse input back into the same size as the dense one\n",
    "        vision_pred = np.zeros((geo_pred_ip.shape[0], len(vision_taxa)), dtype=np.float32)\n",
    "        geo_pred = np.ones((geo_pred_ip.shape[0], len(vision_taxa)), dtype=np.float32)\n",
    "        vision_pred[np.arange(vision_pred.shape[0])[..., np.newaxis], vision_top_k_inds] = vision_top_k_prob\n",
    "\n",
    "        geo_pred[:, taxon_map[:, 0]] = geo_pred_ip[:, taxon_map[:, 1]]\n",
    "\n",
    "        return geo_pred, vision_pred\n",
    "\n"
   ]
  },
  {
   "cell_type": "code",
   "execution_count": 4,
   "metadata": {},
   "outputs": [
    {
     "name": "stdout",
     "output_type": "stream",
     "text": [
      "282974 total test observations\n",
      "44877 out of 55378 taxa in both vision and geo models\n"
     ]
    }
   ],
   "source": [
    "with open('paths.json', 'r') as f:\n",
    "            paths = json.load(f)\n",
    "# load vision model predictions:\n",
    "data = np.load(os.path.join(paths['geo_prior'], 'geo_prior_model_preds.npz'))\n",
    "print(data['probs'].shape[0], 'total test observations')\n",
    "# load locations:\n",
    "meta = pd.read_csv(os.path.join(paths['geo_prior'], 'geo_prior_model_meta.csv'))\n",
    "obs_locs  = np.vstack((meta['longitude'].values, meta['latitude'].values)).T.astype(np.float32)\n",
    "# taxonomic mapping:\n",
    "taxon_map = find_mapping_between_models(data['model_to_taxa'], train_params['params']['class_to_taxa'])\n",
    "print(taxon_map.shape[0], 'out of', len(data['model_to_taxa']), 'taxa in both vision and geo models')"
   ]
  },
  {
   "cell_type": "code",
   "execution_count": 9,
   "metadata": {},
   "outputs": [],
   "source": [
    "if train_params['params']['input_enc'] in ['env', 'sin_cos_env']:\n",
    "    raster = datasets.load_env()\n",
    "else:\n",
    "    raster = None\n",
    "enc = utils.CoordEncoder(train_params['params']['input_enc'], raster=raster)"
   ]
  },
  {
   "cell_type": "code",
   "execution_count": 10,
   "metadata": {},
   "outputs": [],
   "source": [
    "def run_evaluation(model, enc):\n",
    "        results = {}\n",
    "\n",
    "        # loop over in batches\n",
    "        batch_start = np.hstack((np.arange(0, data['probs'].shape[0], 2048), data['probs'].shape[0]))\n",
    "        correct_pred = np.zeros(data['probs'].shape[0])\n",
    "\n",
    "        for bb_id, bb in tqdm(enumerate(range(len(batch_start)-1))):\n",
    "            batch_inds = np.arange(batch_start[bb], batch_start[bb+1])\n",
    "\n",
    "            vision_probs = data['probs'][batch_inds, :]\n",
    "            vision_inds = data['inds'][batch_inds, :]\n",
    "            gt = data['labels'][batch_inds]\n",
    "\n",
    "            obs_locs_batch = torch.from_numpy(obs_locs[batch_inds, :]).to('cpu')\n",
    "            loc_feat = enc.encode(obs_locs_batch)\n",
    "\n",
    "            with torch.no_grad():\n",
    "                geo_pred = model(loc_feat).cpu().numpy()\n",
    "\n",
    "            geo_pred, vision_pred = convert_to_inat_vision_order(geo_pred, vision_probs, vision_inds,\n",
    "                                                                 data['model_to_taxa'], taxon_map)\n",
    "\n",
    "            comb_pred = np.argmax(vision_pred*geo_pred, 1)\n",
    "            comb_pred = (comb_pred==gt)\n",
    "            correct_pred[batch_inds] = comb_pred\n",
    "            break\n",
    "\n",
    "        results['vision_only_top_1'] = float((data['inds'][:, -1] == data['labels']).mean())\n",
    "        results['vision_geo_top_1'] = float(correct_pred.mean())\n",
    "        return results"
   ]
  },
  {
   "cell_type": "code",
   "execution_count": 12,
   "metadata": {},
   "outputs": [
    {
     "name": "stderr",
     "output_type": "stream",
     "text": [
      "0it [00:06, ?it/s]\n"
     ]
    }
   ],
   "source": [
    "results = {}\n",
    "\n",
    "# loop over in batches\n",
    "batch_start = np.hstack((np.arange(0, data['probs'].shape[0], 2048), data['probs'].shape[0]))\n",
    "correct_pred = np.zeros(data['probs'].shape[0])\n",
    "\n",
    "for bb_id, bb in tqdm(enumerate(range(len(batch_start)-1))):\n",
    "    batch_inds = np.arange(batch_start[bb], batch_start[bb+1])\n",
    "\n",
    "    vision_probs = data['probs'][batch_inds, :]\n",
    "    vision_inds = data['inds'][batch_inds, :]\n",
    "    gt = data['labels'][batch_inds]\n",
    "\n",
    "    obs_locs_batch = torch.from_numpy(obs_locs[batch_inds, :]).to('cpu')\n",
    "    loc_feat = enc.encode(obs_locs_batch)\n",
    "\n",
    "    with torch.no_grad():\n",
    "        geo_pred = model(loc_feat).cpu().numpy()\n",
    "\n",
    "    geo_pred, vision_pred = convert_to_inat_vision_order(geo_pred, vision_probs, vision_inds,\n",
    "                                                            data['model_to_taxa'], taxon_map)\n",
    "\n",
    "    comb_pred = np.argmax(vision_pred*geo_pred, 1)\n",
    "    comb_pred = (comb_pred==gt)\n",
    "    correct_pred[batch_inds] = comb_pred\n",
    "    break\n",
    "\n",
    "results['vision_only_top_1'] = float((data['inds'][:, -1] == data['labels']).mean())\n",
    "results['vision_geo_top_1'] = float(correct_pred.mean())"
   ]
  },
  {
   "cell_type": "code",
   "execution_count": 9,
   "metadata": {},
   "outputs": [],
   "source": [
    "def report(results):\n",
    "        print('Overall accuracy vision only model', round(results['vision_only_top_1'], 3))\n",
    "        print('Overall accuracy of geo model     ', round(results['vision_geo_top_1'], 3))\n",
    "        print('Gain                              ', round(results['vision_geo_top_1'] - results['vision_only_top_1'], 3))\n"
   ]
  },
  {
   "cell_type": "code",
   "execution_count": 10,
   "metadata": {},
   "outputs": [
    {
     "name": "stdout",
     "output_type": "stream",
     "text": [
      "Overall accuracy vision only model 0.754\n",
      "Overall accuracy of geo model      0.006\n",
      "Gain                               -0.748\n"
     ]
    }
   ],
   "source": [
    "report(results)"
   ]
  },
  {
   "cell_type": "code",
   "execution_count": null,
   "metadata": {},
   "outputs": [],
   "source": []
  }
 ],
 "metadata": {
  "kernelspec": {
   "display_name": "sinr_icml_og",
   "language": "python",
   "name": "python3"
  },
  "language_info": {
   "codemirror_mode": {
    "name": "ipython",
    "version": 3
   },
   "file_extension": ".py",
   "mimetype": "text/x-python",
   "name": "python",
   "nbconvert_exporter": "python",
   "pygments_lexer": "ipython3",
   "version": "3.9.0"
  }
 },
 "nbformat": 4,
 "nbformat_minor": 2
}
