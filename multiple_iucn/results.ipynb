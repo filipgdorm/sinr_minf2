{
 "cells": [
  {
   "cell_type": "code",
   "execution_count": 1,
   "metadata": {},
   "outputs": [],
   "source": [
    "import pandas as pd"
   ]
  },
  {
   "cell_type": "code",
   "execution_count": 2,
   "metadata": {},
   "outputs": [
    {
     "name": "stdout",
     "output_type": "stream",
     "text": [
      "0.5763581965378155\n",
      "0.5974531778236591\n",
      "0.543196792169186\n",
      "0.6080961847599049\n"
     ]
    }
   ],
   "source": [
    "print(pd.read_csv(\"rdm_sampling/an_full_1000/mean_f1_scores.csv\").mean_f1.mean())\n",
    "print(pd.read_csv(\"tgt_sampling/an_full_1000/mean_f1_scores.csv\").mean_f1.mean())\n",
    "print(pd.read_csv(\"lpt/an_full_1000/mean_f1_scores.csv\").mean_f1.mean())\n",
    "print(pd.read_csv(\"masking/an_full_1000/mean_f1_scores.csv\").mean_f1.mean())"
   ]
  },
  {
   "cell_type": "code",
   "execution_count": 3,
   "metadata": {},
   "outputs": [
    {
     "name": "stdout",
     "output_type": "stream",
     "text": [
      "0.504569392564077\n",
      "0.5313477644983193\n",
      "0.4985583163460087\n",
      "0.5348910447350498\n"
     ]
    }
   ],
   "source": [
    "print(pd.read_csv(\"rdm_sampling/an_ssdl_1000/mean_f1_scores.csv\").mean_f1.mean())\n",
    "print(pd.read_csv(\"tgt_sampling/an_ssdl_1000/mean_f1_scores.csv\").mean_f1.mean())\n",
    "print(pd.read_csv(\"lpt/an_ssdl_1000/mean_f1_scores.csv\").mean_f1.mean())\n",
    "print(pd.read_csv(\"masking/an_ssdl_1000/mean_f1_scores.csv\").mean_f1.mean())"
   ]
  },
  {
   "cell_type": "code",
   "execution_count": 4,
   "metadata": {},
   "outputs": [
    {
     "name": "stdout",
     "output_type": "stream",
     "text": [
      "0.38853875676608807\n",
      "0.37367771778408715\n",
      "0.2990703804860925\n",
      "0.3935695368804416\n"
     ]
    }
   ],
   "source": [
    "print(pd.read_csv(\"rdm_sampling/an_slds_1000/mean_f1_scores.csv\").mean_f1.mean())\n",
    "print(pd.read_csv(\"tgt_sampling/an_slds_1000/mean_f1_scores.csv\").mean_f1.mean())\n",
    "print(pd.read_csv(\"lpt/an_slds_1000/mean_f1_scores.csv\").mean_f1.mean())\n",
    "print(pd.read_csv(\"masking/an_slds_1000/mean_f1_scores.csv\").mean_f1.mean())"
   ]
  },
  {
   "cell_type": "code",
   "execution_count": 5,
   "metadata": {},
   "outputs": [
    {
     "name": "stdout",
     "output_type": "stream",
     "text": [
      "-0.09565092133345887\n",
      "-0.07455594004761523\n",
      "-0.12881232570208834\n",
      "-0.06391293311136947\n",
      "0.6720091178712744\n"
     ]
    }
   ],
   "source": [
    "print(pd.read_csv(\"rdm_sampling/an_full_1000/mean_f1_scores.csv\").mean_f1.mean()-pd.read_csv(\"upper_bound/an_full_1000/mean_f1_scores.csv\").mean_f1.mean())\n",
    "print(pd.read_csv(\"tgt_sampling/an_full_1000/mean_f1_scores.csv\").mean_f1.mean()-pd.read_csv(\"upper_bound/an_full_1000/mean_f1_scores.csv\").mean_f1.mean())\n",
    "print(pd.read_csv(\"lpt/an_full_1000/mean_f1_scores.csv\").mean_f1.mean()-pd.read_csv(\"upper_bound/an_full_1000/mean_f1_scores.csv\").mean_f1.mean())\n",
    "print(pd.read_csv(\"masking/an_full_1000/mean_f1_scores.csv\").mean_f1.mean()-pd.read_csv(\"upper_bound/an_full_1000/mean_f1_scores.csv\").mean_f1.mean())\n",
    "print(pd.read_csv(\"upper_bound/an_full_1000/mean_f1_scores.csv\").mean_f1.mean())\n"
   ]
  },
  {
   "cell_type": "code",
   "execution_count": 6,
   "metadata": {},
   "outputs": [
    {
     "name": "stdout",
     "output_type": "stream",
     "text": [
      "-0.09672261923306624\n",
      "-0.06994424729882387\n",
      "-0.10273369545113448\n",
      "-0.06640096706209342\n",
      "0.6012920117971432\n"
     ]
    }
   ],
   "source": [
    "print(pd.read_csv(\"rdm_sampling/an_ssdl_1000/mean_f1_scores.csv\").mean_f1.mean()-pd.read_csv(\"upper_bound/an_ssdl_1000/mean_f1_scores.csv\").mean_f1.mean())\n",
    "print(pd.read_csv(\"tgt_sampling/an_ssdl_1000/mean_f1_scores.csv\").mean_f1.mean()-pd.read_csv(\"upper_bound/an_ssdl_1000/mean_f1_scores.csv\").mean_f1.mean())\n",
    "print(pd.read_csv(\"lpt/an_ssdl_1000/mean_f1_scores.csv\").mean_f1.mean()-pd.read_csv(\"upper_bound/an_ssdl_1000/mean_f1_scores.csv\").mean_f1.mean())\n",
    "print(pd.read_csv(\"masking/an_ssdl_1000/mean_f1_scores.csv\").mean_f1.mean()-pd.read_csv(\"upper_bound/an_ssdl_1000/mean_f1_scores.csv\").mean_f1.mean())\n",
    "print(pd.read_csv(\"upper_bound/an_ssdl_1000/mean_f1_scores.csv\").mean_f1.mean())\n"
   ]
  },
  {
   "cell_type": "code",
   "execution_count": 7,
   "metadata": {},
   "outputs": [
    {
     "name": "stdout",
     "output_type": "stream",
     "text": [
      "-0.0852123390348164\n",
      "-0.10007337801681732\n",
      "-0.17468071531481194\n",
      "-0.08018155892046286\n",
      "0.47375109580090446\n"
     ]
    }
   ],
   "source": [
    "print(pd.read_csv(\"rdm_sampling/an_slds_1000/mean_f1_scores.csv\").mean_f1.mean()-pd.read_csv(\"upper_bound/an_slds_1000/mean_f1_scores.csv\").mean_f1.mean())\n",
    "print(pd.read_csv(\"tgt_sampling/an_slds_1000/mean_f1_scores.csv\").mean_f1.mean()-pd.read_csv(\"upper_bound/an_slds_1000/mean_f1_scores.csv\").mean_f1.mean())\n",
    "print(pd.read_csv(\"lpt/an_slds_1000/mean_f1_scores.csv\").mean_f1.mean()-pd.read_csv(\"upper_bound/an_slds_1000/mean_f1_scores.csv\").mean_f1.mean())\n",
    "print(pd.read_csv(\"masking/an_slds_1000/mean_f1_scores.csv\").mean_f1.mean()-pd.read_csv(\"upper_bound/an_slds_1000/mean_f1_scores.csv\").mean_f1.mean())\n",
    "\n",
    "print(pd.read_csv(\"upper_bound/an_slds_1000/mean_f1_scores.csv\").mean_f1.mean())"
   ]
  },
  {
   "cell_type": "code",
   "execution_count": null,
   "metadata": {},
   "outputs": [],
   "source": []
  }
 ],
 "metadata": {
  "kernelspec": {
   "display_name": "sinr_icml_og",
   "language": "python",
   "name": "python3"
  },
  "language_info": {
   "codemirror_mode": {
    "name": "ipython",
    "version": 3
   },
   "file_extension": ".py",
   "mimetype": "text/x-python",
   "name": "python",
   "nbconvert_exporter": "python",
   "pygments_lexer": "ipython3",
   "version": "3.9.0"
  }
 },
 "nbformat": 4,
 "nbformat_minor": 2
}
