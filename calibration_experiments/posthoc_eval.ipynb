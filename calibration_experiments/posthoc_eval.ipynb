{
 "cells": [
  {
   "cell_type": "code",
   "execution_count": 1,
   "metadata": {},
   "outputs": [],
   "source": [
    "###notebook to see how many species platt and isotonic regression deteriorate performance for"
   ]
  },
  {
   "cell_type": "code",
   "execution_count": 3,
   "metadata": {},
   "outputs": [],
   "source": [
    "import pandas as pd"
   ]
  },
  {
   "cell_type": "code",
   "execution_count": 9,
   "metadata": {},
   "outputs": [],
   "source": [
    "base_df1 = pd.read_csv('./calibration_metrics_results/an_full_-1/scores.csv', index_col=0)\n",
    "base_df2 = pd.read_csv('./calibration_metrics_results/an_full_-1/scores_v2.csv', index_col=0)"
   ]
  },
  {
   "cell_type": "code",
   "execution_count": 10,
   "metadata": {},
   "outputs": [],
   "source": [
    "base_df = pd.merge(base_df1, base_df2)"
   ]
  },
  {
   "cell_type": "code",
   "execution_count": 11,
   "metadata": {},
   "outputs": [
    {
     "data": {
      "text/html": [
       "<div>\n",
       "<style scoped>\n",
       "    .dataframe tbody tr th:only-of-type {\n",
       "        vertical-align: middle;\n",
       "    }\n",
       "\n",
       "    .dataframe tbody tr th {\n",
       "        vertical-align: top;\n",
       "    }\n",
       "\n",
       "    .dataframe thead th {\n",
       "        text-align: right;\n",
       "    }\n",
       "</style>\n",
       "<table border=\"1\" class=\"dataframe\">\n",
       "  <thead>\n",
       "    <tr style=\"text-align: right;\">\n",
       "      <th></th>\n",
       "      <th>taxon_id</th>\n",
       "      <th>ece</th>\n",
       "      <th>brier</th>\n",
       "      <th>ace</th>\n",
       "      <th>tace</th>\n",
       "      <th>optimal_thres</th>\n",
       "      <th>fscore50</th>\n",
       "    </tr>\n",
       "  </thead>\n",
       "  <tbody>\n",
       "    <tr>\n",
       "      <th>0</th>\n",
       "      <td>17090</td>\n",
       "      <td>0.001535</td>\n",
       "      <td>0.001420</td>\n",
       "      <td>0.001535</td>\n",
       "      <td>0.101937</td>\n",
       "      <td>0.100643</td>\n",
       "      <td>0.349946</td>\n",
       "    </tr>\n",
       "    <tr>\n",
       "      <th>1</th>\n",
       "      <td>18938</td>\n",
       "      <td>0.003254</td>\n",
       "      <td>0.004019</td>\n",
       "      <td>0.003254</td>\n",
       "      <td>0.129661</td>\n",
       "      <td>0.029051</td>\n",
       "      <td>0.264083</td>\n",
       "    </tr>\n",
       "    <tr>\n",
       "      <th>2</th>\n",
       "      <td>17556</td>\n",
       "      <td>0.005311</td>\n",
       "      <td>0.005202</td>\n",
       "      <td>0.005311</td>\n",
       "      <td>0.169439</td>\n",
       "      <td>0.042708</td>\n",
       "      <td>0.000000</td>\n",
       "    </tr>\n",
       "    <tr>\n",
       "      <th>3</th>\n",
       "      <td>18295</td>\n",
       "      <td>0.010281</td>\n",
       "      <td>0.008879</td>\n",
       "      <td>0.010281</td>\n",
       "      <td>0.274983</td>\n",
       "      <td>0.043778</td>\n",
       "      <td>0.000000</td>\n",
       "    </tr>\n",
       "    <tr>\n",
       "      <th>4</th>\n",
       "      <td>14152</td>\n",
       "      <td>0.000579</td>\n",
       "      <td>0.000896</td>\n",
       "      <td>0.000579</td>\n",
       "      <td>0.065041</td>\n",
       "      <td>0.060888</td>\n",
       "      <td>0.372259</td>\n",
       "    </tr>\n",
       "    <tr>\n",
       "      <th>...</th>\n",
       "      <td>...</td>\n",
       "      <td>...</td>\n",
       "      <td>...</td>\n",
       "      <td>...</td>\n",
       "      <td>...</td>\n",
       "      <td>...</td>\n",
       "      <td>...</td>\n",
       "    </tr>\n",
       "    <tr>\n",
       "      <th>2413</th>\n",
       "      <td>1368519</td>\n",
       "      <td>0.000672</td>\n",
       "      <td>0.001440</td>\n",
       "      <td>0.000672</td>\n",
       "      <td>0.036764</td>\n",
       "      <td>0.163372</td>\n",
       "      <td>0.635853</td>\n",
       "    </tr>\n",
       "    <tr>\n",
       "      <th>2414</th>\n",
       "      <td>1367368</td>\n",
       "      <td>0.000405</td>\n",
       "      <td>0.000548</td>\n",
       "      <td>0.000405</td>\n",
       "      <td>0.028929</td>\n",
       "      <td>0.409078</td>\n",
       "      <td>0.719283</td>\n",
       "    </tr>\n",
       "    <tr>\n",
       "      <th>2415</th>\n",
       "      <td>1369291</td>\n",
       "      <td>0.000109</td>\n",
       "      <td>0.000436</td>\n",
       "      <td>0.000109</td>\n",
       "      <td>0.021395</td>\n",
       "      <td>0.178557</td>\n",
       "      <td>0.509600</td>\n",
       "    </tr>\n",
       "    <tr>\n",
       "      <th>2416</th>\n",
       "      <td>1369292</td>\n",
       "      <td>0.000389</td>\n",
       "      <td>0.000216</td>\n",
       "      <td>0.000389</td>\n",
       "      <td>0.061750</td>\n",
       "      <td>0.538663</td>\n",
       "      <td>0.613352</td>\n",
       "    </tr>\n",
       "    <tr>\n",
       "      <th>2417</th>\n",
       "      <td>1369303</td>\n",
       "      <td>0.000390</td>\n",
       "      <td>0.000200</td>\n",
       "      <td>0.000390</td>\n",
       "      <td>0.071704</td>\n",
       "      <td>0.727053</td>\n",
       "      <td>0.137300</td>\n",
       "    </tr>\n",
       "  </tbody>\n",
       "</table>\n",
       "<p>2418 rows × 7 columns</p>\n",
       "</div>"
      ],
      "text/plain": [
       "      taxon_id       ece     brier       ace      tace  optimal_thres  \\\n",
       "0        17090  0.001535  0.001420  0.001535  0.101937       0.100643   \n",
       "1        18938  0.003254  0.004019  0.003254  0.129661       0.029051   \n",
       "2        17556  0.005311  0.005202  0.005311  0.169439       0.042708   \n",
       "3        18295  0.010281  0.008879  0.010281  0.274983       0.043778   \n",
       "4        14152  0.000579  0.000896  0.000579  0.065041       0.060888   \n",
       "...        ...       ...       ...       ...       ...            ...   \n",
       "2413   1368519  0.000672  0.001440  0.000672  0.036764       0.163372   \n",
       "2414   1367368  0.000405  0.000548  0.000405  0.028929       0.409078   \n",
       "2415   1369291  0.000109  0.000436  0.000109  0.021395       0.178557   \n",
       "2416   1369292  0.000389  0.000216  0.000389  0.061750       0.538663   \n",
       "2417   1369303  0.000390  0.000200  0.000390  0.071704       0.727053   \n",
       "\n",
       "      fscore50  \n",
       "0     0.349946  \n",
       "1     0.264083  \n",
       "2     0.000000  \n",
       "3     0.000000  \n",
       "4     0.372259  \n",
       "...        ...  \n",
       "2413  0.635853  \n",
       "2414  0.719283  \n",
       "2415  0.509600  \n",
       "2416  0.613352  \n",
       "2417  0.137300  \n",
       "\n",
       "[2418 rows x 7 columns]"
      ]
     },
     "execution_count": 11,
     "metadata": {},
     "output_type": "execute_result"
    }
   ],
   "source": [
    "base_df"
   ]
  },
  {
   "cell_type": "code",
   "execution_count": 12,
   "metadata": {},
   "outputs": [],
   "source": [
    "platt_df1 = pd.read_csv('./platt_scaling_results/an_full_-1/scores.csv', index_col=0)\n",
    "platt_df2 = pd.read_csv('./platt_scaling_results/an_full_-1/scores_v2.csv', index_col=0)"
   ]
  },
  {
   "cell_type": "code",
   "execution_count": 19,
   "metadata": {},
   "outputs": [
    {
     "data": {
      "text/html": [
       "<div>\n",
       "<style scoped>\n",
       "    .dataframe tbody tr th:only-of-type {\n",
       "        vertical-align: middle;\n",
       "    }\n",
       "\n",
       "    .dataframe tbody tr th {\n",
       "        vertical-align: top;\n",
       "    }\n",
       "\n",
       "    .dataframe thead th {\n",
       "        text-align: right;\n",
       "    }\n",
       "</style>\n",
       "<table border=\"1\" class=\"dataframe\">\n",
       "  <thead>\n",
       "    <tr style=\"text-align: right;\">\n",
       "      <th></th>\n",
       "      <th>taxon_id</th>\n",
       "      <th>ece</th>\n",
       "      <th>tace</th>\n",
       "      <th>tgt_thres</th>\n",
       "      <th>tgt_fscore</th>\n",
       "      <th>optimal_thres</th>\n",
       "      <th>optimal_fscore</th>\n",
       "      <th>fscore50</th>\n",
       "    </tr>\n",
       "  </thead>\n",
       "  <tbody>\n",
       "    <tr>\n",
       "      <th>0</th>\n",
       "      <td>17090</td>\n",
       "      <td>0.000606</td>\n",
       "      <td>0.061043</td>\n",
       "      <td>0.458236</td>\n",
       "      <td>0.663916</td>\n",
       "      <td>0.152611</td>\n",
       "      <td>0.738435</td>\n",
       "      <td>0.636044</td>\n",
       "    </tr>\n",
       "    <tr>\n",
       "      <th>1</th>\n",
       "      <td>18938</td>\n",
       "      <td>0.003570</td>\n",
       "      <td>0.124070</td>\n",
       "      <td>0.849269</td>\n",
       "      <td>0.229097</td>\n",
       "      <td>0.036617</td>\n",
       "      <td>0.665070</td>\n",
       "      <td>0.280676</td>\n",
       "    </tr>\n",
       "    <tr>\n",
       "      <th>2</th>\n",
       "      <td>17556</td>\n",
       "      <td>0.000685</td>\n",
       "      <td>0.010106</td>\n",
       "      <td>0.388326</td>\n",
       "      <td>0.552542</td>\n",
       "      <td>0.366330</td>\n",
       "      <td>0.562401</td>\n",
       "      <td>0.483566</td>\n",
       "    </tr>\n",
       "    <tr>\n",
       "      <th>3</th>\n",
       "      <td>18295</td>\n",
       "      <td>0.001765</td>\n",
       "      <td>0.089768</td>\n",
       "      <td>0.338592</td>\n",
       "      <td>0.846122</td>\n",
       "      <td>0.199053</td>\n",
       "      <td>0.892515</td>\n",
       "      <td>0.762504</td>\n",
       "    </tr>\n",
       "    <tr>\n",
       "      <th>4</th>\n",
       "      <td>14152</td>\n",
       "      <td>0.000711</td>\n",
       "      <td>0.064558</td>\n",
       "      <td>0.152693</td>\n",
       "      <td>0.545026</td>\n",
       "      <td>0.056437</td>\n",
       "      <td>0.661729</td>\n",
       "      <td>0.300193</td>\n",
       "    </tr>\n",
       "    <tr>\n",
       "      <th>...</th>\n",
       "      <td>...</td>\n",
       "      <td>...</td>\n",
       "      <td>...</td>\n",
       "      <td>...</td>\n",
       "      <td>...</td>\n",
       "      <td>...</td>\n",
       "      <td>...</td>\n",
       "      <td>...</td>\n",
       "    </tr>\n",
       "    <tr>\n",
       "      <th>2413</th>\n",
       "      <td>1368519</td>\n",
       "      <td>0.000722</td>\n",
       "      <td>0.036857</td>\n",
       "      <td>0.597101</td>\n",
       "      <td>0.608366</td>\n",
       "      <td>0.145724</td>\n",
       "      <td>0.712809</td>\n",
       "      <td>0.650162</td>\n",
       "    </tr>\n",
       "    <tr>\n",
       "      <th>2414</th>\n",
       "      <td>1367368</td>\n",
       "      <td>0.000277</td>\n",
       "      <td>0.044227</td>\n",
       "      <td>0.339555</td>\n",
       "      <td>0.721384</td>\n",
       "      <td>0.274845</td>\n",
       "      <td>0.723585</td>\n",
       "      <td>0.713082</td>\n",
       "    </tr>\n",
       "    <tr>\n",
       "      <th>2415</th>\n",
       "      <td>1369291</td>\n",
       "      <td>0.000163</td>\n",
       "      <td>0.018090</td>\n",
       "      <td>0.240133</td>\n",
       "      <td>0.683139</td>\n",
       "      <td>0.230773</td>\n",
       "      <td>0.686463</td>\n",
       "      <td>0.576063</td>\n",
       "    </tr>\n",
       "    <tr>\n",
       "      <th>2416</th>\n",
       "      <td>1369292</td>\n",
       "      <td>0.000069</td>\n",
       "      <td>0.055697</td>\n",
       "      <td>0.335640</td>\n",
       "      <td>0.590374</td>\n",
       "      <td>0.185890</td>\n",
       "      <td>0.695946</td>\n",
       "      <td>0.400585</td>\n",
       "    </tr>\n",
       "    <tr>\n",
       "      <th>2417</th>\n",
       "      <td>1369303</td>\n",
       "      <td>0.000394</td>\n",
       "      <td>0.059716</td>\n",
       "      <td>0.795201</td>\n",
       "      <td>0.151579</td>\n",
       "      <td>0.809059</td>\n",
       "      <td>0.174216</td>\n",
       "      <td>0.127389</td>\n",
       "    </tr>\n",
       "  </tbody>\n",
       "</table>\n",
       "<p>2418 rows × 8 columns</p>\n",
       "</div>"
      ],
      "text/plain": [
       "      taxon_id       ece      tace  tgt_thres  tgt_fscore  optimal_thres  \\\n",
       "0        17090  0.000606  0.061043   0.458236    0.663916       0.152611   \n",
       "1        18938  0.003570  0.124070   0.849269    0.229097       0.036617   \n",
       "2        17556  0.000685  0.010106   0.388326    0.552542       0.366330   \n",
       "3        18295  0.001765  0.089768   0.338592    0.846122       0.199053   \n",
       "4        14152  0.000711  0.064558   0.152693    0.545026       0.056437   \n",
       "...        ...       ...       ...        ...         ...            ...   \n",
       "2413   1368519  0.000722  0.036857   0.597101    0.608366       0.145724   \n",
       "2414   1367368  0.000277  0.044227   0.339555    0.721384       0.274845   \n",
       "2415   1369291  0.000163  0.018090   0.240133    0.683139       0.230773   \n",
       "2416   1369292  0.000069  0.055697   0.335640    0.590374       0.185890   \n",
       "2417   1369303  0.000394  0.059716   0.795201    0.151579       0.809059   \n",
       "\n",
       "      optimal_fscore  fscore50  \n",
       "0           0.738435  0.636044  \n",
       "1           0.665070  0.280676  \n",
       "2           0.562401  0.483566  \n",
       "3           0.892515  0.762504  \n",
       "4           0.661729  0.300193  \n",
       "...              ...       ...  \n",
       "2413        0.712809  0.650162  \n",
       "2414        0.723585  0.713082  \n",
       "2415        0.686463  0.576063  \n",
       "2416        0.695946  0.400585  \n",
       "2417        0.174216  0.127389  \n",
       "\n",
       "[2418 rows x 8 columns]"
      ]
     },
     "execution_count": 19,
     "metadata": {},
     "output_type": "execute_result"
    }
   ],
   "source": [
    "platt_df = pd.merge(platt_df1, platt_df2)\n",
    "platt_df"
   ]
  },
  {
   "cell_type": "code",
   "execution_count": 20,
   "metadata": {},
   "outputs": [],
   "source": [
    "### see what species range maps and tace are deteriorated for\n",
    "platt_df[\"tace_gain\"] = platt_df[\"tace\"] - base_df['tace']\n",
    "platt_df[\"fscore50_gain\"] = platt_df[\"fscore50\"] - base_df['fscore50']"
   ]
  },
  {
   "cell_type": "code",
   "execution_count": 41,
   "metadata": {},
   "outputs": [
    {
     "name": "stdout",
     "output_type": "stream",
     "text": [
      "1534\n",
      "96\n"
     ]
    }
   ],
   "source": [
    "platt_df.sort_values(by='tace_gain', ascending=True, inplace=True)\n",
    "print(len(platt_df[platt_df['tace_gain']<0]))\n",
    "print(len(platt_df[platt_df['fscore50_gain']<-0.1]))"
   ]
  },
  {
   "cell_type": "code",
   "execution_count": 36,
   "metadata": {},
   "outputs": [],
   "source": [
    "iso_df1 = pd.read_csv('./isotonic_regression_results/an_full_-1/scores.csv', index_col=0)\n",
    "iso_df2 = pd.read_csv('./isotonic_regression_results/an_full_-1/scores_v2.csv', index_col=0)\n",
    "iso_df = pd.merge(iso_df1, iso_df2)\n"
   ]
  },
  {
   "cell_type": "code",
   "execution_count": 37,
   "metadata": {},
   "outputs": [],
   "source": [
    "### see what species range maps and tace are deteriorated for\n",
    "iso_df[\"tace_gain\"] = iso_df[\"tace\"] - base_df['tace']\n",
    "iso_df[\"fscore50_gain\"] = iso_df[\"fscore50\"] - base_df['fscore50']"
   ]
  },
  {
   "cell_type": "code",
   "execution_count": 42,
   "metadata": {},
   "outputs": [
    {
     "name": "stdout",
     "output_type": "stream",
     "text": [
      "1318\n",
      "108\n"
     ]
    }
   ],
   "source": [
    "print(len(iso_df[iso_df['tace_gain']<0]))\n",
    "print(len(iso_df[iso_df['fscore50_gain']<-0.1]))"
   ]
  },
  {
   "cell_type": "code",
   "execution_count": 32,
   "metadata": {},
   "outputs": [
    {
     "data": {
      "text/plain": [
       "0.1056339955975291"
      ]
     },
     "execution_count": 32,
     "metadata": {},
     "output_type": "execute_result"
    }
   ],
   "source": [
    "iso_df['tace'].mean()"
   ]
  },
  {
   "cell_type": "code",
   "execution_count": 33,
   "metadata": {},
   "outputs": [
    {
     "data": {
      "text/plain": [
       "0.07853841509091782"
      ]
     },
     "execution_count": 33,
     "metadata": {},
     "output_type": "execute_result"
    }
   ],
   "source": [
    "platt_df['tace'].mean()"
   ]
  },
  {
   "cell_type": "code",
   "execution_count": 34,
   "metadata": {},
   "outputs": [
    {
     "data": {
      "text/plain": [
       "0.1211653691268773"
      ]
     },
     "execution_count": 34,
     "metadata": {},
     "output_type": "execute_result"
    }
   ],
   "source": [
    "base_df['tace'].mean()"
   ]
  },
  {
   "cell_type": "code",
   "execution_count": null,
   "metadata": {},
   "outputs": [],
   "source": []
  }
 ],
 "metadata": {
  "kernelspec": {
   "display_name": "sinr_icml_og",
   "language": "python",
   "name": "python3"
  },
  "language_info": {
   "codemirror_mode": {
    "name": "ipython",
    "version": 3
   },
   "file_extension": ".py",
   "mimetype": "text/x-python",
   "name": "python",
   "nbconvert_exporter": "python",
   "pygments_lexer": "ipython3",
   "version": "3.9.0"
  }
 },
 "nbformat": 4,
 "nbformat_minor": 2
}
