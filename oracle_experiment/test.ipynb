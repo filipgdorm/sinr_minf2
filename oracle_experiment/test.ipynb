{
 "cells": [
  {
   "cell_type": "code",
   "execution_count": 1,
   "metadata": {},
   "outputs": [
    {
     "name": "stderr",
     "output_type": "stream",
     "text": [
      "/Users/filipdorm/opt/anaconda3/envs/sinr_icml_og/lib/python3.9/site-packages/tqdm/auto.py:21: TqdmWarning: IProgress not found. Please update jupyter and ipywidgets. See https://ipywidgets.readthedocs.io/en/stable/user_install.html\n",
      "  from .autonotebook import tqdm as notebook_tqdm\n"
     ]
    }
   ],
   "source": [
    "\n",
    "import torch\n",
    "import pandas as pd\n",
    "import numpy as np\n",
    "import json\n",
    "import os\n",
    "import sys\n",
    "from sklearn.metrics import f1_score, precision_recall_curve\n",
    "from sklearn.model_selection import train_test_split\n",
    "import argparse\n",
    "import logging\n",
    "from tqdm import tqdm\n",
    "\n",
    "sys.path.append('../')\n",
    "import datasets\n",
    "import models\n",
    "import utils"
   ]
  },
  {
   "cell_type": "code",
   "execution_count": 2,
   "metadata": {},
   "outputs": [],
   "source": [
    "MODEL_PATH = '../pretrained_models/' + \"model_an_full_input_enc_sin_cos_hard_cap_num_per_class_1000.pt\"\n"
   ]
  },
  {
   "cell_type": "code",
   "execution_count": 3,
   "metadata": {},
   "outputs": [
    {
     "data": {
      "text/plain": [
       "ResidualFCNet(\n",
       "  (class_emb): Linear(in_features=256, out_features=47375, bias=False)\n",
       "  (feats): Sequential(\n",
       "    (0): Linear(in_features=4, out_features=256, bias=True)\n",
       "    (1): ReLU(inplace=True)\n",
       "    (2): ResLayer(\n",
       "      (nonlin1): ReLU(inplace=True)\n",
       "      (nonlin2): ReLU(inplace=True)\n",
       "      (dropout1): Dropout(p=0.5, inplace=False)\n",
       "      (w1): Linear(in_features=256, out_features=256, bias=True)\n",
       "      (w2): Linear(in_features=256, out_features=256, bias=True)\n",
       "    )\n",
       "    (3): ResLayer(\n",
       "      (nonlin1): ReLU(inplace=True)\n",
       "      (nonlin2): ReLU(inplace=True)\n",
       "      (dropout1): Dropout(p=0.5, inplace=False)\n",
       "      (w1): Linear(in_features=256, out_features=256, bias=True)\n",
       "      (w2): Linear(in_features=256, out_features=256, bias=True)\n",
       "    )\n",
       "    (4): ResLayer(\n",
       "      (nonlin1): ReLU(inplace=True)\n",
       "      (nonlin2): ReLU(inplace=True)\n",
       "      (dropout1): Dropout(p=0.5, inplace=False)\n",
       "      (w1): Linear(in_features=256, out_features=256, bias=True)\n",
       "      (w2): Linear(in_features=256, out_features=256, bias=True)\n",
       "    )\n",
       "    (5): ResLayer(\n",
       "      (nonlin1): ReLU(inplace=True)\n",
       "      (nonlin2): ReLU(inplace=True)\n",
       "      (dropout1): Dropout(p=0.5, inplace=False)\n",
       "      (w1): Linear(in_features=256, out_features=256, bias=True)\n",
       "      (w2): Linear(in_features=256, out_features=256, bias=True)\n",
       "    )\n",
       "  )\n",
       ")"
      ]
     },
     "execution_count": 3,
     "metadata": {},
     "output_type": "execute_result"
    }
   ],
   "source": [
    "DEVICE = torch.device('cuda' if torch.cuda.is_available() else 'cpu')\n",
    "\n",
    "# load model\n",
    "train_params = torch.load(MODEL_PATH, map_location='cpu')\n",
    "model = models.get_model(train_params['params'])\n",
    "model.load_state_dict(train_params['state_dict'], strict=True)\n",
    "model = model.to(DEVICE)\n",
    "model.eval()\n"
   ]
  },
  {
   "cell_type": "code",
   "execution_count": 15,
   "metadata": {},
   "outputs": [],
   "source": [
    "#load reference from iucn\n",
    "with open(os.path.join('../data/eval/iucn/', 'iucn_res_5.json'), 'r') as f:\n",
    "            data = json.load(f)\n",
    "species_ids = list((data['taxa_presence'].keys()))\n",
    "\n",
    "if train_params['params']['input_enc'] in ['env', 'sin_cos_env']:\n",
    "    raster = datasets.load_env()\n",
    "else:\n",
    "    raster = None\n",
    "enc = utils.CoordEncoder(train_params['params']['input_enc'], raster=raster)\n",
    "\n",
    "obs_locs = np.array(data['locs'], dtype=np.float32)\n",
    "obs_locs = torch.from_numpy(obs_locs).to('cpu')\n",
    "loc_feat = enc.encode(obs_locs)\n",
    "\n",
    "classes_of_interest = torch.zeros(len(species_ids), dtype=torch.int64)\n",
    "taxa_ids = torch.zeros(len(species_ids), dtype=torch.int64)\n",
    "for tt_id, tt in enumerate(species_ids):\n",
    "    class_of_interest = np.array([train_params['params']['class_to_taxa'].index(int(tt))])\n",
    "    classes_of_interest[tt_id] = torch.from_numpy(class_of_interest)\n",
    "    taxa_ids[tt_id] = int(tt)\n",
    "\n",
    "with torch.no_grad():\n",
    "    loc_emb = model(loc_feat, return_feats=True)\n",
    "    wt = model.class_emb.weight[classes_of_interest, :]\n",
    "\n",
    "def f1_at_thresh(y_true, y_pred, thresh, type = 'binary'):\n",
    "    y_thresh = y_pred > thresh\n",
    "    return f1_score(y_true, y_thresh, average=type)"
   ]
  },
  {
   "cell_type": "code",
   "execution_count": 20,
   "metadata": {},
   "outputs": [],
   "source": [
    "lengths = [len(x) for x in data['taxa_presence'].values()]"
   ]
  },
  {
   "cell_type": "code",
   "execution_count": 26,
   "metadata": {},
   "outputs": [
    {
     "data": {
      "text/plain": [
       "452"
      ]
     },
     "execution_count": 26,
     "metadata": {},
     "output_type": "execute_result"
    }
   ],
   "source": [
    "min_value = min(lengths)\n",
    "min_index = lengths.index(min_value)\n",
    "min_index"
   ]
  },
  {
   "cell_type": "code",
   "execution_count": 31,
   "metadata": {},
   "outputs": [
    {
     "name": "stderr",
     "output_type": "stream",
     "text": [
      "  1%|          | 16/2418 [00:07<17:15,  2.32it/s]/Users/filipdorm/opt/anaconda3/envs/sinr_icml_og/lib/python3.9/site-packages/sklearn/metrics/_ranking.py:979: UserWarning: No positive class found in y_true, recall is set to one for all thresholds.\n",
      "  warnings.warn(\n",
      "  1%|          | 20/2418 [00:08<17:19,  2.31it/s]/Users/filipdorm/opt/anaconda3/envs/sinr_icml_og/lib/python3.9/site-packages/sklearn/metrics/_ranking.py:979: UserWarning: No positive class found in y_true, recall is set to one for all thresholds.\n",
      "  warnings.warn(\n",
      "  2%|▏         | 52/2418 [00:22<16:57,  2.33it/s]/Users/filipdorm/opt/anaconda3/envs/sinr_icml_og/lib/python3.9/site-packages/sklearn/metrics/_ranking.py:979: UserWarning: No positive class found in y_true, recall is set to one for all thresholds.\n",
      "  warnings.warn(\n",
      "  3%|▎         | 62/2418 [00:26<16:58,  2.31it/s]/Users/filipdorm/opt/anaconda3/envs/sinr_icml_og/lib/python3.9/site-packages/sklearn/metrics/_ranking.py:979: UserWarning: No positive class found in y_true, recall is set to one for all thresholds.\n",
      "  warnings.warn(\n",
      "  5%|▌         | 125/2418 [00:54<17:59,  2.12it/s]/Users/filipdorm/opt/anaconda3/envs/sinr_icml_og/lib/python3.9/site-packages/sklearn/metrics/_ranking.py:979: UserWarning: No positive class found in y_true, recall is set to one for all thresholds.\n",
      "  warnings.warn(\n",
      "  7%|▋         | 179/2418 [01:18<16:37,  2.25it/s]/Users/filipdorm/opt/anaconda3/envs/sinr_icml_og/lib/python3.9/site-packages/sklearn/metrics/_ranking.py:979: UserWarning: No positive class found in y_true, recall is set to one for all thresholds.\n",
      "  warnings.warn(\n",
      "  8%|▊         | 198/2418 [01:26<16:02,  2.31it/s]/Users/filipdorm/opt/anaconda3/envs/sinr_icml_og/lib/python3.9/site-packages/sklearn/metrics/_ranking.py:979: UserWarning: No positive class found in y_true, recall is set to one for all thresholds.\n",
      "  warnings.warn(\n",
      "  8%|▊         | 203/2418 [01:28<15:48,  2.33it/s]/Users/filipdorm/opt/anaconda3/envs/sinr_icml_og/lib/python3.9/site-packages/sklearn/metrics/_ranking.py:979: UserWarning: No positive class found in y_true, recall is set to one for all thresholds.\n",
      "  warnings.warn(\n",
      "  9%|▉         | 212/2418 [01:32<15:38,  2.35it/s]/Users/filipdorm/opt/anaconda3/envs/sinr_icml_og/lib/python3.9/site-packages/sklearn/metrics/_ranking.py:979: UserWarning: No positive class found in y_true, recall is set to one for all thresholds.\n",
      "  warnings.warn(\n",
      "  9%|▉         | 225/2418 [01:37<15:29,  2.36it/s]/Users/filipdorm/opt/anaconda3/envs/sinr_icml_og/lib/python3.9/site-packages/sklearn/metrics/_ranking.py:979: UserWarning: No positive class found in y_true, recall is set to one for all thresholds.\n",
      "  warnings.warn(\n",
      " 12%|█▏        | 290/2418 [02:06<15:32,  2.28it/s]/Users/filipdorm/opt/anaconda3/envs/sinr_icml_og/lib/python3.9/site-packages/sklearn/metrics/_ranking.py:979: UserWarning: No positive class found in y_true, recall is set to one for all thresholds.\n",
      "  warnings.warn(\n",
      " 13%|█▎        | 303/2418 [02:12<15:08,  2.33it/s]/Users/filipdorm/opt/anaconda3/envs/sinr_icml_og/lib/python3.9/site-packages/sklearn/metrics/_ranking.py:979: UserWarning: No positive class found in y_true, recall is set to one for all thresholds.\n",
      "  warnings.warn(\n",
      " 17%|█▋        | 423/2418 [03:04<14:41,  2.26it/s]/Users/filipdorm/opt/anaconda3/envs/sinr_icml_og/lib/python3.9/site-packages/sklearn/metrics/_ranking.py:979: UserWarning: No positive class found in y_true, recall is set to one for all thresholds.\n",
      "  warnings.warn(\n",
      " 19%|█▊        | 452/2418 [03:17<14:13,  2.30it/s]/Users/filipdorm/opt/anaconda3/envs/sinr_icml_og/lib/python3.9/site-packages/sklearn/metrics/_ranking.py:979: UserWarning: No positive class found in y_true, recall is set to one for all thresholds.\n",
      "  warnings.warn(\n",
      " 20%|█▉        | 480/2418 [03:29<13:54,  2.32it/s]/Users/filipdorm/opt/anaconda3/envs/sinr_icml_og/lib/python3.9/site-packages/sklearn/metrics/_ranking.py:979: UserWarning: No positive class found in y_true, recall is set to one for all thresholds.\n",
      "  warnings.warn(\n",
      " 20%|██        | 489/2418 [03:33<13:42,  2.35it/s]/Users/filipdorm/opt/anaconda3/envs/sinr_icml_og/lib/python3.9/site-packages/sklearn/metrics/_ranking.py:979: UserWarning: No positive class found in y_true, recall is set to one for all thresholds.\n",
      "  warnings.warn(\n",
      " 21%|██        | 500/2418 [03:38<13:41,  2.33it/s]/Users/filipdorm/opt/anaconda3/envs/sinr_icml_og/lib/python3.9/site-packages/sklearn/metrics/_ranking.py:979: UserWarning: No positive class found in y_true, recall is set to one for all thresholds.\n",
      "  warnings.warn(\n",
      " 21%|██▏       | 514/2418 [03:44<13:43,  2.31it/s]/Users/filipdorm/opt/anaconda3/envs/sinr_icml_og/lib/python3.9/site-packages/sklearn/metrics/_ranking.py:979: UserWarning: No positive class found in y_true, recall is set to one for all thresholds.\n",
      "  warnings.warn(\n",
      " 21%|██▏       | 517/2418 [03:45<13:46,  2.30it/s]/Users/filipdorm/opt/anaconda3/envs/sinr_icml_og/lib/python3.9/site-packages/sklearn/metrics/_ranking.py:979: UserWarning: No positive class found in y_true, recall is set to one for all thresholds.\n",
      "  warnings.warn(\n",
      " 22%|██▏       | 527/2418 [03:49<13:32,  2.33it/s]/Users/filipdorm/opt/anaconda3/envs/sinr_icml_og/lib/python3.9/site-packages/sklearn/metrics/_ranking.py:979: UserWarning: No positive class found in y_true, recall is set to one for all thresholds.\n",
      "  warnings.warn(\n",
      " 22%|██▏       | 531/2418 [03:51<13:58,  2.25it/s]/Users/filipdorm/opt/anaconda3/envs/sinr_icml_og/lib/python3.9/site-packages/sklearn/metrics/_ranking.py:979: UserWarning: No positive class found in y_true, recall is set to one for all thresholds.\n",
      "  warnings.warn(\n",
      " 22%|██▏       | 537/2418 [03:54<13:32,  2.31it/s]/Users/filipdorm/opt/anaconda3/envs/sinr_icml_og/lib/python3.9/site-packages/sklearn/metrics/_ranking.py:979: UserWarning: No positive class found in y_true, recall is set to one for all thresholds.\n",
      "  warnings.warn(\n",
      " 23%|██▎       | 551/2418 [04:00<13:54,  2.24it/s]/Users/filipdorm/opt/anaconda3/envs/sinr_icml_og/lib/python3.9/site-packages/sklearn/metrics/_ranking.py:979: UserWarning: No positive class found in y_true, recall is set to one for all thresholds.\n",
      "  warnings.warn(\n",
      " 23%|██▎       | 557/2418 [04:03<13:25,  2.31it/s]/Users/filipdorm/opt/anaconda3/envs/sinr_icml_og/lib/python3.9/site-packages/sklearn/metrics/_ranking.py:979: UserWarning: No positive class found in y_true, recall is set to one for all thresholds.\n",
      "  warnings.warn(\n",
      " 24%|██▍       | 578/2418 [04:12<13:17,  2.31it/s]/Users/filipdorm/opt/anaconda3/envs/sinr_icml_og/lib/python3.9/site-packages/sklearn/metrics/_ranking.py:979: UserWarning: No positive class found in y_true, recall is set to one for all thresholds.\n",
      "  warnings.warn(\n",
      " 24%|██▍       | 585/2418 [04:15<13:15,  2.31it/s]/Users/filipdorm/opt/anaconda3/envs/sinr_icml_og/lib/python3.9/site-packages/sklearn/metrics/_ranking.py:979: UserWarning: No positive class found in y_true, recall is set to one for all thresholds.\n",
      "  warnings.warn(\n",
      " 26%|██▌       | 630/2418 [04:35<12:51,  2.32it/s]/Users/filipdorm/opt/anaconda3/envs/sinr_icml_og/lib/python3.9/site-packages/sklearn/metrics/_ranking.py:979: UserWarning: No positive class found in y_true, recall is set to one for all thresholds.\n",
      "  warnings.warn(\n",
      " 27%|██▋       | 647/2418 [04:42<12:29,  2.36it/s]/Users/filipdorm/opt/anaconda3/envs/sinr_icml_og/lib/python3.9/site-packages/sklearn/metrics/_ranking.py:979: UserWarning: No positive class found in y_true, recall is set to one for all thresholds.\n",
      "  warnings.warn(\n",
      " 27%|██▋       | 655/2418 [04:45<12:36,  2.33it/s]/Users/filipdorm/opt/anaconda3/envs/sinr_icml_og/lib/python3.9/site-packages/sklearn/metrics/_ranking.py:979: UserWarning: No positive class found in y_true, recall is set to one for all thresholds.\n",
      "  warnings.warn(\n",
      " 29%|██▉       | 707/2418 [05:09<12:28,  2.29it/s]/Users/filipdorm/opt/anaconda3/envs/sinr_icml_og/lib/python3.9/site-packages/sklearn/metrics/_ranking.py:979: UserWarning: No positive class found in y_true, recall is set to one for all thresholds.\n",
      "  warnings.warn(\n",
      " 30%|██▉       | 722/2418 [05:15<12:26,  2.27it/s]/Users/filipdorm/opt/anaconda3/envs/sinr_icml_og/lib/python3.9/site-packages/sklearn/metrics/_ranking.py:979: UserWarning: No positive class found in y_true, recall is set to one for all thresholds.\n",
      "  warnings.warn(\n",
      " 31%|███       | 745/2418 [05:25<11:56,  2.33it/s]/Users/filipdorm/opt/anaconda3/envs/sinr_icml_og/lib/python3.9/site-packages/sklearn/metrics/_ranking.py:979: UserWarning: No positive class found in y_true, recall is set to one for all thresholds.\n",
      "  warnings.warn(\n",
      " 32%|███▏      | 766/2418 [05:35<11:57,  2.30it/s]/Users/filipdorm/opt/anaconda3/envs/sinr_icml_og/lib/python3.9/site-packages/sklearn/metrics/_ranking.py:979: UserWarning: No positive class found in y_true, recall is set to one for all thresholds.\n",
      "  warnings.warn(\n",
      " 35%|███▍      | 837/2418 [06:07<12:07,  2.17it/s]/Users/filipdorm/opt/anaconda3/envs/sinr_icml_og/lib/python3.9/site-packages/sklearn/metrics/_ranking.py:979: UserWarning: No positive class found in y_true, recall is set to one for all thresholds.\n",
      "  warnings.warn(\n",
      " 35%|███▍      | 838/2418 [06:07<11:52,  2.22it/s]/Users/filipdorm/opt/anaconda3/envs/sinr_icml_og/lib/python3.9/site-packages/sklearn/metrics/_ranking.py:979: UserWarning: No positive class found in y_true, recall is set to one for all thresholds.\n",
      "  warnings.warn(\n",
      " 36%|███▌      | 871/2418 [06:22<11:30,  2.24it/s]/Users/filipdorm/opt/anaconda3/envs/sinr_icml_og/lib/python3.9/site-packages/sklearn/metrics/_ranking.py:979: UserWarning: No positive class found in y_true, recall is set to one for all thresholds.\n",
      "  warnings.warn(\n",
      " 36%|███▌      | 873/2418 [06:23<11:24,  2.26it/s]/Users/filipdorm/opt/anaconda3/envs/sinr_icml_og/lib/python3.9/site-packages/sklearn/metrics/_ranking.py:979: UserWarning: No positive class found in y_true, recall is set to one for all thresholds.\n",
      "  warnings.warn(\n",
      " 41%|████      | 985/2418 [07:12<10:33,  2.26it/s]/Users/filipdorm/opt/anaconda3/envs/sinr_icml_og/lib/python3.9/site-packages/sklearn/metrics/_ranking.py:979: UserWarning: No positive class found in y_true, recall is set to one for all thresholds.\n",
      "  warnings.warn(\n",
      " 41%|████      | 988/2418 [07:13<10:26,  2.28it/s]/Users/filipdorm/opt/anaconda3/envs/sinr_icml_og/lib/python3.9/site-packages/sklearn/metrics/_ranking.py:979: UserWarning: No positive class found in y_true, recall is set to one for all thresholds.\n",
      "  warnings.warn(\n",
      " 41%|████▏     | 999/2418 [07:18<10:13,  2.31it/s]/Users/filipdorm/opt/anaconda3/envs/sinr_icml_og/lib/python3.9/site-packages/sklearn/metrics/_ranking.py:979: UserWarning: No positive class found in y_true, recall is set to one for all thresholds.\n",
      "  warnings.warn(\n",
      " 49%|████▉     | 1195/2418 [08:45<08:49,  2.31it/s]/Users/filipdorm/opt/anaconda3/envs/sinr_icml_og/lib/python3.9/site-packages/sklearn/metrics/_ranking.py:979: UserWarning: No positive class found in y_true, recall is set to one for all thresholds.\n",
      "  warnings.warn(\n",
      " 50%|████▉     | 1208/2418 [08:50<08:46,  2.30it/s]/Users/filipdorm/opt/anaconda3/envs/sinr_icml_og/lib/python3.9/site-packages/sklearn/metrics/_ranking.py:979: UserWarning: No positive class found in y_true, recall is set to one for all thresholds.\n",
      "  warnings.warn(\n",
      " 50%|█████     | 1214/2418 [08:53<08:37,  2.33it/s]/Users/filipdorm/opt/anaconda3/envs/sinr_icml_og/lib/python3.9/site-packages/sklearn/metrics/_ranking.py:979: UserWarning: No positive class found in y_true, recall is set to one for all thresholds.\n",
      "  warnings.warn(\n",
      " 51%|█████     | 1227/2418 [08:59<09:16,  2.14it/s]/Users/filipdorm/opt/anaconda3/envs/sinr_icml_og/lib/python3.9/site-packages/sklearn/metrics/_ranking.py:979: UserWarning: No positive class found in y_true, recall is set to one for all thresholds.\n",
      "  warnings.warn(\n",
      " 51%|█████     | 1239/2418 [09:04<08:20,  2.36it/s]/Users/filipdorm/opt/anaconda3/envs/sinr_icml_og/lib/python3.9/site-packages/sklearn/metrics/_ranking.py:979: UserWarning: No positive class found in y_true, recall is set to one for all thresholds.\n",
      "  warnings.warn(\n",
      " 52%|█████▏    | 1255/2418 [09:11<08:20,  2.33it/s]/Users/filipdorm/opt/anaconda3/envs/sinr_icml_og/lib/python3.9/site-packages/sklearn/metrics/_ranking.py:979: UserWarning: No positive class found in y_true, recall is set to one for all thresholds.\n",
      "  warnings.warn(\n",
      " 52%|█████▏    | 1264/2418 [09:15<08:14,  2.33it/s]/Users/filipdorm/opt/anaconda3/envs/sinr_icml_og/lib/python3.9/site-packages/sklearn/metrics/_ranking.py:979: UserWarning: No positive class found in y_true, recall is set to one for all thresholds.\n",
      "  warnings.warn(\n",
      " 53%|█████▎    | 1274/2418 [09:19<08:05,  2.36it/s]/Users/filipdorm/opt/anaconda3/envs/sinr_icml_og/lib/python3.9/site-packages/sklearn/metrics/_ranking.py:979: UserWarning: No positive class found in y_true, recall is set to one for all thresholds.\n",
      "  warnings.warn(\n",
      " 53%|█████▎    | 1275/2418 [09:20<08:23,  2.27it/s]/Users/filipdorm/opt/anaconda3/envs/sinr_icml_og/lib/python3.9/site-packages/sklearn/metrics/_ranking.py:979: UserWarning: No positive class found in y_true, recall is set to one for all thresholds.\n",
      "  warnings.warn(\n",
      " 53%|█████▎    | 1285/2418 [09:24<08:08,  2.32it/s]/Users/filipdorm/opt/anaconda3/envs/sinr_icml_og/lib/python3.9/site-packages/sklearn/metrics/_ranking.py:979: UserWarning: No positive class found in y_true, recall is set to one for all thresholds.\n",
      "  warnings.warn(\n",
      " 54%|█████▍    | 1300/2418 [09:31<08:07,  2.29it/s]/Users/filipdorm/opt/anaconda3/envs/sinr_icml_og/lib/python3.9/site-packages/sklearn/metrics/_ranking.py:979: UserWarning: No positive class found in y_true, recall is set to one for all thresholds.\n",
      "  warnings.warn(\n",
      " 55%|█████▌    | 1336/2418 [09:47<08:00,  2.25it/s]/Users/filipdorm/opt/anaconda3/envs/sinr_icml_og/lib/python3.9/site-packages/sklearn/metrics/_ranking.py:979: UserWarning: No positive class found in y_true, recall is set to one for all thresholds.\n",
      "  warnings.warn(\n",
      " 56%|█████▌    | 1353/2418 [09:55<08:06,  2.19it/s]/Users/filipdorm/opt/anaconda3/envs/sinr_icml_og/lib/python3.9/site-packages/sklearn/metrics/_ranking.py:979: UserWarning: No positive class found in y_true, recall is set to one for all thresholds.\n",
      "  warnings.warn(\n",
      " 56%|█████▌    | 1356/2418 [09:56<07:45,  2.28it/s]/Users/filipdorm/opt/anaconda3/envs/sinr_icml_og/lib/python3.9/site-packages/sklearn/metrics/_ranking.py:979: UserWarning: No positive class found in y_true, recall is set to one for all thresholds.\n",
      "  warnings.warn(\n",
      " 64%|██████▍   | 1557/2418 [11:23<06:15,  2.30it/s]/Users/filipdorm/opt/anaconda3/envs/sinr_icml_og/lib/python3.9/site-packages/sklearn/metrics/_ranking.py:979: UserWarning: No positive class found in y_true, recall is set to one for all thresholds.\n",
      "  warnings.warn(\n",
      " 72%|███████▏  | 1746/2418 [12:46<04:46,  2.35it/s]/Users/filipdorm/opt/anaconda3/envs/sinr_icml_og/lib/python3.9/site-packages/sklearn/metrics/_ranking.py:979: UserWarning: No positive class found in y_true, recall is set to one for all thresholds.\n",
      "  warnings.warn(\n",
      " 74%|███████▎  | 1779/2418 [13:00<04:33,  2.33it/s]/Users/filipdorm/opt/anaconda3/envs/sinr_icml_og/lib/python3.9/site-packages/sklearn/metrics/_ranking.py:979: UserWarning: No positive class found in y_true, recall is set to one for all thresholds.\n",
      "  warnings.warn(\n",
      " 75%|███████▌  | 1824/2418 [13:19<04:11,  2.36it/s]/Users/filipdorm/opt/anaconda3/envs/sinr_icml_og/lib/python3.9/site-packages/sklearn/metrics/_ranking.py:979: UserWarning: No positive class found in y_true, recall is set to one for all thresholds.\n",
      "  warnings.warn(\n",
      " 77%|███████▋  | 1868/2418 [13:38<03:58,  2.30it/s]/Users/filipdorm/opt/anaconda3/envs/sinr_icml_og/lib/python3.9/site-packages/sklearn/metrics/_ranking.py:979: UserWarning: No positive class found in y_true, recall is set to one for all thresholds.\n",
      "  warnings.warn(\n",
      " 78%|███████▊  | 1888/2418 [13:46<03:48,  2.32it/s]/Users/filipdorm/opt/anaconda3/envs/sinr_icml_og/lib/python3.9/site-packages/sklearn/metrics/_ranking.py:979: UserWarning: No positive class found in y_true, recall is set to one for all thresholds.\n",
      "  warnings.warn(\n",
      " 79%|███████▊  | 1901/2418 [13:52<03:45,  2.29it/s]/Users/filipdorm/opt/anaconda3/envs/sinr_icml_og/lib/python3.9/site-packages/sklearn/metrics/_ranking.py:979: UserWarning: No positive class found in y_true, recall is set to one for all thresholds.\n",
      "  warnings.warn(\n",
      " 79%|███████▊  | 1902/2418 [13:53<03:50,  2.24it/s]/Users/filipdorm/opt/anaconda3/envs/sinr_icml_og/lib/python3.9/site-packages/sklearn/metrics/_ranking.py:979: UserWarning: No positive class found in y_true, recall is set to one for all thresholds.\n",
      "  warnings.warn(\n",
      " 82%|████████▏ | 1994/2418 [14:33<03:02,  2.32it/s]/Users/filipdorm/opt/anaconda3/envs/sinr_icml_og/lib/python3.9/site-packages/sklearn/metrics/_ranking.py:979: UserWarning: No positive class found in y_true, recall is set to one for all thresholds.\n",
      "  warnings.warn(\n",
      " 83%|████████▎ | 2013/2418 [14:41<02:53,  2.33it/s]/Users/filipdorm/opt/anaconda3/envs/sinr_icml_og/lib/python3.9/site-packages/sklearn/metrics/_ranking.py:979: UserWarning: No positive class found in y_true, recall is set to one for all thresholds.\n",
      "  warnings.warn(\n",
      " 83%|████████▎ | 2017/2418 [14:43<02:55,  2.29it/s]/Users/filipdorm/opt/anaconda3/envs/sinr_icml_og/lib/python3.9/site-packages/sklearn/metrics/_ranking.py:979: UserWarning: No positive class found in y_true, recall is set to one for all thresholds.\n",
      "  warnings.warn(\n",
      " 87%|████████▋ | 2098/2418 [15:19<02:18,  2.32it/s]/Users/filipdorm/opt/anaconda3/envs/sinr_icml_og/lib/python3.9/site-packages/sklearn/metrics/_ranking.py:979: UserWarning: No positive class found in y_true, recall is set to one for all thresholds.\n",
      "  warnings.warn(\n",
      " 90%|████████▉ | 2173/2418 [15:52<01:45,  2.32it/s]/Users/filipdorm/opt/anaconda3/envs/sinr_icml_og/lib/python3.9/site-packages/sklearn/metrics/_ranking.py:979: UserWarning: No positive class found in y_true, recall is set to one for all thresholds.\n",
      "  warnings.warn(\n",
      " 90%|█████████ | 2187/2418 [15:58<01:38,  2.34it/s]/Users/filipdorm/opt/anaconda3/envs/sinr_icml_og/lib/python3.9/site-packages/sklearn/metrics/_ranking.py:979: UserWarning: No positive class found in y_true, recall is set to one for all thresholds.\n",
      "  warnings.warn(\n",
      " 91%|█████████ | 2196/2418 [16:02<01:38,  2.26it/s]/Users/filipdorm/opt/anaconda3/envs/sinr_icml_og/lib/python3.9/site-packages/sklearn/metrics/_ranking.py:979: UserWarning: No positive class found in y_true, recall is set to one for all thresholds.\n",
      "  warnings.warn(\n",
      " 91%|█████████ | 2197/2418 [16:02<01:39,  2.22it/s]/Users/filipdorm/opt/anaconda3/envs/sinr_icml_og/lib/python3.9/site-packages/sklearn/metrics/_ranking.py:979: UserWarning: No positive class found in y_true, recall is set to one for all thresholds.\n",
      "  warnings.warn(\n",
      " 97%|█████████▋| 2338/2418 [17:04<00:35,  2.25it/s]/Users/filipdorm/opt/anaconda3/envs/sinr_icml_og/lib/python3.9/site-packages/sklearn/metrics/_ranking.py:979: UserWarning: No positive class found in y_true, recall is set to one for all thresholds.\n",
      "  warnings.warn(\n",
      " 97%|█████████▋| 2352/2418 [17:11<00:33,  1.97it/s]/Users/filipdorm/opt/anaconda3/envs/sinr_icml_og/lib/python3.9/site-packages/sklearn/metrics/_ranking.py:979: UserWarning: No positive class found in y_true, recall is set to one for all thresholds.\n",
      "  warnings.warn(\n",
      " 98%|█████████▊| 2378/2418 [17:22<00:17,  2.30it/s]/Users/filipdorm/opt/anaconda3/envs/sinr_icml_og/lib/python3.9/site-packages/sklearn/metrics/_ranking.py:979: UserWarning: No positive class found in y_true, recall is set to one for all thresholds.\n",
      "  warnings.warn(\n",
      " 98%|█████████▊| 2379/2418 [17:22<00:17,  2.26it/s]/Users/filipdorm/opt/anaconda3/envs/sinr_icml_og/lib/python3.9/site-packages/sklearn/metrics/_ranking.py:979: UserWarning: No positive class found in y_true, recall is set to one for all thresholds.\n",
      "  warnings.warn(\n",
      "100%|██████████| 2418/2418 [17:39<00:00,  2.28it/s]\n"
     ]
    }
   ],
   "source": [
    "output = list()\n",
    "for tt_id, taxa in tqdm(enumerate(taxa_ids), total=len(taxa_ids)):\n",
    "    wt_1 = wt[tt_id,:]\n",
    "    preds = torch.sigmoid(torch.matmul(loc_emb, wt_1)).cpu().numpy()\n",
    "    taxa = taxa.item()\n",
    "    species_locs = data['taxa_presence'].get(str(taxa))\n",
    "    y_test = np.zeros(preds.shape, int)\n",
    "    y_test[species_locs] = 1\n",
    "\n",
    "    #split into 10% used for setting thresholds 90% for final eval\n",
    "    eval_preds, thresh_preds, eval_y_test, thresh_y_test = train_test_split(\n",
    "        preds, y_test, test_size=0.01, random_state=42,\n",
    "    )\n",
    "\n",
    "    #calculate thresholds \n",
    "    precision, recall, thresholds = precision_recall_curve(thresh_y_test, thresh_preds)\n",
    "    p1 = (2 * precision * recall)\n",
    "    p2 = (precision + recall)\n",
    "    out = np.zeros( (len(p1)) )\n",
    "    fscore = np.divide(p1,p2, out=out, where=p2!=0)\n",
    "    index = np.argmax(fscore)\n",
    "    thres = thresholds[index]\n",
    "\n",
    "    #evaluate performance\n",
    "    f1 = f1_at_thresh(eval_y_test, eval_preds, thres)\n",
    "    \n",
    "    row = {\n",
    "        \"taxon_id\": taxa,\n",
    "        \"thres\": thres,\n",
    "        \"fscore\": f1\n",
    "    }\n",
    "    row_dict = dict(row)\n",
    "    output.append(row_dict)\n",
    "output_pd = pd.DataFrame(output)"
   ]
  },
  {
   "cell_type": "code",
   "execution_count": 33,
   "metadata": {},
   "outputs": [
    {
     "data": {
      "text/plain": [
       "0.6365878347289665"
      ]
     },
     "execution_count": 33,
     "metadata": {},
     "output_type": "execute_result"
    }
   ],
   "source": [
    "output_pd.fscore.mean()"
   ]
  },
  {
   "cell_type": "code",
   "execution_count": 36,
   "metadata": {},
   "outputs": [
    {
     "data": {
      "text/plain": [
       "taxon_id    1.369303e+06\n",
       "thres       9.817630e-01\n",
       "fscore      9.277161e-01\n",
       "dtype: float64"
      ]
     },
     "execution_count": 36,
     "metadata": {},
     "output_type": "execute_result"
    }
   ],
   "source": [
    "output_pd.max()"
   ]
  },
  {
   "cell_type": "code",
   "execution_count": null,
   "metadata": {},
   "outputs": [],
   "source": []
  }
 ],
 "metadata": {
  "kernelspec": {
   "display_name": "sinr_icml_og",
   "language": "python",
   "name": "python3"
  },
  "language_info": {
   "codemirror_mode": {
    "name": "ipython",
    "version": 3
   },
   "file_extension": ".py",
   "mimetype": "text/x-python",
   "name": "python",
   "nbconvert_exporter": "python",
   "pygments_lexer": "ipython3",
   "version": "3.9.0"
  }
 },
 "nbformat": 4,
 "nbformat_minor": 2
}
