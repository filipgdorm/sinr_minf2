{
 "cells": [
  {
   "cell_type": "code",
   "execution_count": 3,
   "metadata": {},
   "outputs": [],
   "source": [
    "import pandas as pd\n",
    "import numpy as np\n",
    "import json\n",
    "import os\n",
    "import sys\n",
    "from sklearn.metrics import f1_score\n",
    "import h3pandas\n",
    "import torch\n",
    "import h3\n",
    "from sklearn.metrics import precision_recall_curve\n",
    "import argparse\n",
    "from tqdm import tqdm\n",
    "\n",
    "sys.path.append('../')\n",
    "import datasets\n",
    "import models\n",
    "import utils\n",
    "import setup"
   ]
  },
  {
   "cell_type": "code",
   "execution_count": 4,
   "metadata": {},
   "outputs": [
    {
     "name": "stdout",
     "output_type": "stream",
     "text": [
      "\n",
      "Loading  ../data/train/geo_prior_train.csv\n",
      "Number of unique classes 47375\n",
      "subsampling (up to) 1000 per class for the training set\n",
      "final training set size: 15132683\n"
     ]
    }
   ],
   "source": [
    "#Load model\n",
    "train_params = {}\n",
    "\n",
    "train_params['species_set'] = 'all'\n",
    "train_params['hard_cap_num_per_class'] = 1000\n",
    "train_params['num_aux_species'] = 0\n",
    "train_params['input_enc'] = 'sin_cos'\n",
    "\n",
    "params = setup.get_default_params_train(train_params)\n",
    "\n",
    "train_dataset = datasets.get_train_data(params)"
   ]
  },
  {
   "cell_type": "code",
   "execution_count": 5,
   "metadata": {},
   "outputs": [],
   "source": [
    "h3_resolution = 4"
   ]
  },
  {
   "cell_type": "code",
   "execution_count": 6,
   "metadata": {},
   "outputs": [],
   "source": [
    "train_df = pd.DataFrame(train_dataset.locs, columns=['lng','lat'])\n",
    "train_df['lng'] = train_df['lng']*180\n",
    "train_df['lat'] = train_df['lat']*90\n",
    "train_df['label'] = train_dataset.labels"
   ]
  },
  {
   "cell_type": "code",
   "execution_count": 7,
   "metadata": {},
   "outputs": [],
   "source": [
    "def generate_h3_cells_atRes(resolution=4):\n",
    "    h3_cells = list(h3.get_res0_indexes())\n",
    "    h3_atRes_cells = set()\n",
    "    for cell in h3_cells:\n",
    "        h3_atRes_cells = h3_atRes_cells.union(h3.h3_to_children(cell, resolution))\n",
    "    return list(h3_atRes_cells)"
   ]
  },
  {
   "cell_type": "code",
   "execution_count": 14,
   "metadata": {},
   "outputs": [],
   "source": [
    "h3_resolution = 4\n",
    "train_df_h3 = train_df.h3.geo_to_h3(h3_resolution)"
   ]
  },
  {
   "cell_type": "code",
   "execution_count": 15,
   "metadata": {},
   "outputs": [],
   "source": [
    "all_spatial_grid_counts = train_df_h3.index.value_counts()\n",
    "presence_absence = pd.DataFrame({\n",
    "    \"background\": all_spatial_grid_counts,\n",
    "})\n",
    "presence_absence = presence_absence.fillna(0)"
   ]
  },
  {
   "cell_type": "code",
   "execution_count": 18,
   "metadata": {},
   "outputs": [],
   "source": [
    "train_df_h3.to_csv(\"../pseudo_absence_generation_data/train_df_h3.csv\")"
   ]
  },
  {
   "cell_type": "code",
   "execution_count": 16,
   "metadata": {},
   "outputs": [],
   "source": [
    "h3_atRes_cells = generate_h3_cells_atRes(h3_resolution)\n",
    "gdfk = pd.DataFrame(index=h3_atRes_cells).h3.h3_to_geo()\n",
    "gdfk[\"lng\"] = gdfk[\"geometry\"].x\n",
    "gdfk[\"lat\"] = gdfk[\"geometry\"].y\n",
    "_ = gdfk.pop(\"geometry\")\n",
    "gdfk = gdfk.rename_axis('h3index')"
   ]
  },
  {
   "cell_type": "code",
   "execution_count": 19,
   "metadata": {},
   "outputs": [],
   "source": [
    "gdfk.to_csv(\"../pseudo_absence_generation_data/gdfk_res3.csv\")"
   ]
  },
  {
   "cell_type": "code",
   "execution_count": null,
   "metadata": {},
   "outputs": [],
   "source": []
  }
 ],
 "metadata": {
  "kernelspec": {
   "display_name": "sinr_icml_og",
   "language": "python",
   "name": "python3"
  },
  "language_info": {
   "codemirror_mode": {
    "name": "ipython",
    "version": 3
   },
   "file_extension": ".py",
   "mimetype": "text/x-python",
   "name": "python",
   "nbconvert_exporter": "python",
   "pygments_lexer": "ipython3",
   "version": "3.9.0"
  }
 },
 "nbformat": 4,
 "nbformat_minor": 2
}
