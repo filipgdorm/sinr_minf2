{
 "cells": [
  {
   "cell_type": "code",
   "execution_count": 1,
   "metadata": {},
   "outputs": [],
   "source": [
    "import pandas as pd"
   ]
  },
  {
   "cell_type": "code",
   "execution_count": 2,
   "metadata": {},
   "outputs": [
    {
     "name": "stdout",
     "output_type": "stream",
     "text": [
      "0.7852\n",
      "0.8008000000000001\n",
      "0.8001999999999999\n"
     ]
    }
   ],
   "source": [
    "print(pd.read_csv(\"rdm_sampling/an_full_1000/mean_f1_scores.csv\").vision_geo_top_1.mean())\n",
    "print(pd.read_csv(\"tgt_sampling/an_full_1000/mean_f1_scores.csv\").vision_geo_top_1.mean())\n",
    "print(pd.read_csv(\"masking/an_full_1000/mean_f1_scores.csv\").vision_geo_top_1.mean())"
   ]
  },
  {
   "cell_type": "markdown",
   "metadata": {},
   "source": [
    "delta scores"
   ]
  },
  {
   "cell_type": "code",
   "execution_count": 3,
   "metadata": {},
   "outputs": [
    {
     "name": "stdout",
     "output_type": "stream",
     "text": [
      "0.8151999999999999\n",
      "0.8173999999999999\n",
      "0.818\n"
     ]
    }
   ],
   "source": [
    "print(pd.read_csv(\"rdm_sampling/an_full_1000/delta_mean_f1_scores.csv\").vision_geo_top_1.mean())\n",
    "print(pd.read_csv(\"tgt_sampling/an_full_1000/delta_mean_f1_scores.csv\").vision_geo_top_1.mean())\n",
    "print(pd.read_csv(\"masking/an_full_1000/delta_mean_f1_scores.csv\").vision_geo_top_1.mean())"
   ]
  },
  {
   "cell_type": "markdown",
   "metadata": {},
   "source": [
    "continuous"
   ]
  },
  {
   "cell_type": "code",
   "execution_count": 4,
   "metadata": {},
   "outputs": [
    {
     "name": "stdout",
     "output_type": "stream",
     "text": [
      "0.8155999999999999\n"
     ]
    }
   ],
   "source": [
    "print(pd.read_csv(\"continuous_preds/an_full_1000/continuous_mean_f1_scores.csv\").vision_geo_top_1.mean())"
   ]
  },
  {
   "cell_type": "code",
   "execution_count": 8,
   "metadata": {},
   "outputs": [
    {
     "name": "stdout",
     "output_type": "stream",
     "text": [
      "0.8139999999999998\n"
     ]
    }
   ],
   "source": [
    "print(pd.read_csv(\"continuous_preds/an_full_1000/continuous_delta_mean_f1_scores.csv\").vision_geo_top_1.mean())"
   ]
  },
  {
   "cell_type": "markdown",
   "metadata": {},
   "source": [
    "fixed"
   ]
  },
  {
   "cell_type": "code",
   "execution_count": 6,
   "metadata": {},
   "outputs": [
    {
     "name": "stdout",
     "output_type": "stream",
     "text": [
      "0.8089999999999999\n",
      "0.776\n",
      "0.5272\n"
     ]
    }
   ],
   "source": [
    "print(pd.read_csv(\"fixed_thres/an_full_1000/0.01/fixed_mean_f1_scores.csv\").vision_geo_top_1.mean())\n",
    "print(pd.read_csv(\"fixed_thres/an_full_1000/0.1/fixed_mean_f1_scores.csv\").vision_geo_top_1.mean())\n",
    "print(pd.read_csv(\"fixed_thres/an_full_1000/0.5/fixed_mean_f1_scores.csv\").vision_geo_top_1.mean())"
   ]
  },
  {
   "cell_type": "code",
   "execution_count": 7,
   "metadata": {},
   "outputs": [
    {
     "name": "stdout",
     "output_type": "stream",
     "text": [
      "0.8134\n",
      "0.8116000000000001\n",
      "0.7574000000000001\n"
     ]
    }
   ],
   "source": [
    "print(pd.read_csv(\"fixed_thres/an_full_1000/0.01/fixed_delta_mean_f1_scores.csv\").vision_geo_top_1.mean())\n",
    "print(pd.read_csv(\"fixed_thres/an_full_1000/0.1/fixed_delta_mean_f1_scores.csv\").vision_geo_top_1.mean())\n",
    "print(pd.read_csv(\"fixed_thres/an_full_1000/0.5/fixed_delta_mean_f1_scores.csv\").vision_geo_top_1.mean())"
   ]
  },
  {
   "cell_type": "code",
   "execution_count": null,
   "metadata": {},
   "outputs": [],
   "source": []
  }
 ],
 "metadata": {
  "kernelspec": {
   "display_name": "sinr_icml_og",
   "language": "python",
   "name": "python3"
  },
  "language_info": {
   "codemirror_mode": {
    "name": "ipython",
    "version": 3
   },
   "file_extension": ".py",
   "mimetype": "text/x-python",
   "name": "python",
   "nbconvert_exporter": "python",
   "pygments_lexer": "ipython3",
   "version": "3.9.0"
  }
 },
 "nbformat": 4,
 "nbformat_minor": 2
}
