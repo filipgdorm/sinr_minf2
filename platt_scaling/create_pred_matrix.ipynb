{
 "cells": [
  {
   "cell_type": "code",
   "execution_count": 1,
   "metadata": {},
   "outputs": [
    {
     "name": "stderr",
     "output_type": "stream",
     "text": [
      "/var/folders/pp/c6m9_85s5rd16hbzmflk4b9r0000gn/T/ipykernel_37919/1754341872.py:2: DeprecationWarning: \n",
      "Pyarrow will become a required dependency of pandas in the next major release of pandas (pandas 3.0),\n",
      "(to allow more performant data types, such as the Arrow string type, and better interoperability with other libraries)\n",
      "but was not found to be installed on your system.\n",
      "If this would cause problems for you,\n",
      "please provide us feedback at https://github.com/pandas-dev/pandas/issues/54466\n",
      "        \n",
      "  import pandas as pd\n",
      "/Users/filipdorm/opt/anaconda3/envs/sinr_icml/lib/python3.9/site-packages/tqdm/auto.py:21: TqdmWarning: IProgress not found. Please update jupyter and ipywidgets. See https://ipywidgets.readthedocs.io/en/stable/user_install.html\n",
      "  from .autonotebook import tqdm as notebook_tqdm\n"
     ]
    }
   ],
   "source": [
    "#import torch\n",
    "import pandas as pd\n",
    "import numpy as np\n",
    "import json\n",
    "import os\n",
    "import sys\n",
    "from sklearn.metrics import f1_score\n",
    "import h3pandas\n",
    "import torch\n",
    "import h3\n",
    "from sklearn.metrics import precision_recall_curve\n",
    "from sklearn.calibration import calibration_curve\n",
    "from sklearn.metrics import brier_score_loss\n",
    "\n",
    "\n",
    "sys.path.append('../')\n",
    "import datasets\n",
    "import models\n",
    "import utils\n",
    "import setup"
   ]
  },
  {
   "cell_type": "code",
   "execution_count": 2,
   "metadata": {},
   "outputs": [
    {
     "data": {
      "text/plain": [
       "ResidualFCNet(\n",
       "  (class_emb): Linear(in_features=256, out_features=47375, bias=False)\n",
       "  (feats): Sequential(\n",
       "    (0): Linear(in_features=4, out_features=256, bias=True)\n",
       "    (1): ReLU(inplace=True)\n",
       "    (2): ResLayer(\n",
       "      (nonlin1): ReLU(inplace=True)\n",
       "      (nonlin2): ReLU(inplace=True)\n",
       "      (dropout1): Dropout(p=0.5, inplace=False)\n",
       "      (w1): Linear(in_features=256, out_features=256, bias=True)\n",
       "      (w2): Linear(in_features=256, out_features=256, bias=True)\n",
       "    )\n",
       "    (3): ResLayer(\n",
       "      (nonlin1): ReLU(inplace=True)\n",
       "      (nonlin2): ReLU(inplace=True)\n",
       "      (dropout1): Dropout(p=0.5, inplace=False)\n",
       "      (w1): Linear(in_features=256, out_features=256, bias=True)\n",
       "      (w2): Linear(in_features=256, out_features=256, bias=True)\n",
       "    )\n",
       "    (4): ResLayer(\n",
       "      (nonlin1): ReLU(inplace=True)\n",
       "      (nonlin2): ReLU(inplace=True)\n",
       "      (dropout1): Dropout(p=0.5, inplace=False)\n",
       "      (w1): Linear(in_features=256, out_features=256, bias=True)\n",
       "      (w2): Linear(in_features=256, out_features=256, bias=True)\n",
       "    )\n",
       "    (5): ResLayer(\n",
       "      (nonlin1): ReLU(inplace=True)\n",
       "      (nonlin2): ReLU(inplace=True)\n",
       "      (dropout1): Dropout(p=0.5, inplace=False)\n",
       "      (w1): Linear(in_features=256, out_features=256, bias=True)\n",
       "      (w2): Linear(in_features=256, out_features=256, bias=True)\n",
       "    )\n",
       "  )\n",
       ")"
      ]
     },
     "execution_count": 2,
     "metadata": {},
     "output_type": "execute_result"
    }
   ],
   "source": [
    "train_params = {}\n",
    "\n",
    "train_params['experiment_name'] = 'demo' # This will be the name of the directory where results for this run are saved.\n",
    "train_params['species_set'] = 'all'\n",
    "train_params['hard_cap_num_per_class'] = 1000\n",
    "train_params['num_aux_species'] = 0\n",
    "train_params['input_enc'] = 'sin_cos'\n",
    "train_params['loss'] = 'an_full'\n",
    "params = setup.get_default_params_train(train_params)\n",
    "# load model\n",
    "DEVICE = torch.device('cuda' if torch.cuda.is_available() else 'cpu')\n",
    "train_params = torch.load('../pretrained_models/model_an_full_input_enc_sin_cos_hard_cap_num_per_class_1000.pt', map_location='cpu')\n",
    "model = models.get_model(train_params['params'])\n",
    "model.load_state_dict(train_params['state_dict'], strict=True)\n",
    "model = model.to(DEVICE)\n",
    "model.eval()"
   ]
  },
  {
   "cell_type": "code",
   "execution_count": 3,
   "metadata": {},
   "outputs": [],
   "source": [
    "if train_params['params']['input_enc'] in ['env', 'sin_cos_env']:\n",
    "    raster = datasets.load_env()\n",
    "else:\n",
    "    raster = None\n",
    "enc = utils.CoordEncoder(train_params['params']['input_enc'], raster=raster)"
   ]
  },
  {
   "cell_type": "code",
   "execution_count": 4,
   "metadata": {},
   "outputs": [],
   "source": [
    "#load reference from iucn\n",
    "with open(os.path.join('../data/eval/iucn/', 'iucn_res_5.json'), 'r') as f:\n",
    "            data = json.load(f)\n",
    "species_ids = list((data['taxa_presence'].keys()))"
   ]
  },
  {
   "cell_type": "code",
   "execution_count": 5,
   "metadata": {},
   "outputs": [],
   "source": [
    "obs_locs = np.array(data['locs'], dtype=np.float32)\n",
    "obs_locs = torch.from_numpy(obs_locs).to('cpu')\n",
    "loc_feat = enc.encode(obs_locs)"
   ]
  },
  {
   "cell_type": "code",
   "execution_count": 6,
   "metadata": {},
   "outputs": [],
   "source": [
    "classes_of_interest = torch.zeros(len(species_ids), dtype=torch.int64)\n",
    "taxa_ids = torch.zeros(len(species_ids), dtype=torch.int64)\n",
    "for tt_id, tt in enumerate(species_ids):\n",
    "    class_of_interest = np.array([train_params['params']['class_to_taxa'].index(int(tt))])\n",
    "    classes_of_interest[tt_id] = torch.from_numpy(class_of_interest)\n",
    "    taxa_ids[tt_id] = int(tt)"
   ]
  },
  {
   "cell_type": "code",
   "execution_count": 7,
   "metadata": {},
   "outputs": [],
   "source": [
    "with torch.no_grad():\n",
    "    loc_emb = model(loc_feat, return_feats=True)\n",
    "    wt = model.class_emb.weight[classes_of_interest, :]"
   ]
  },
  {
   "cell_type": "code",
   "execution_count": 8,
   "metadata": {},
   "outputs": [
    {
     "data": {
      "text/plain": [
       "torch.Size([2016842, 256])"
      ]
     },
     "execution_count": 8,
     "metadata": {},
     "output_type": "execute_result"
    }
   ],
   "source": [
    "loc_emb.shape"
   ]
  },
  {
   "cell_type": "code",
   "execution_count": 9,
   "metadata": {},
   "outputs": [
    {
     "data": {
      "text/plain": [
       "torch.Size([2418, 256])"
      ]
     },
     "execution_count": 9,
     "metadata": {},
     "output_type": "execute_result"
    }
   ],
   "source": [
    "wt.shape"
   ]
  },
  {
   "cell_type": "code",
   "execution_count": 10,
   "metadata": {},
   "outputs": [],
   "source": [
    "pred_matrix = torch.matmul(loc_emb, wt.T).numpy()"
   ]
  },
  {
   "cell_type": "code",
   "execution_count": 12,
   "metadata": {},
   "outputs": [
    {
     "data": {
      "text/plain": [
       "(2016842, 2418)"
      ]
     },
     "execution_count": 12,
     "metadata": {},
     "output_type": "execute_result"
    }
   ],
   "source": [
    "pred_matrix.shape"
   ]
  },
  {
   "cell_type": "code",
   "execution_count": 13,
   "metadata": {},
   "outputs": [],
   "source": [
    "# Save the array to disk\n",
    "np.save('pred_matrix.npy', pred_matrix)"
   ]
  },
  {
   "cell_type": "code",
   "execution_count": null,
   "metadata": {},
   "outputs": [],
   "source": []
  }
 ],
 "metadata": {
  "kernelspec": {
   "display_name": "sinr_icml",
   "language": "python",
   "name": "python3"
  },
  "language_info": {
   "codemirror_mode": {
    "name": "ipython",
    "version": 3
   },
   "file_extension": ".py",
   "mimetype": "text/x-python",
   "name": "python",
   "nbconvert_exporter": "python",
   "pygments_lexer": "ipython3",
   "version": "3.9.0"
  }
 },
 "nbformat": 4,
 "nbformat_minor": 2
}
